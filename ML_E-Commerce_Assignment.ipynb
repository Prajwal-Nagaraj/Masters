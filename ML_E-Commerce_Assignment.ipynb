{
  "nbformat": 4,
  "nbformat_minor": 0,
  "metadata": {
    "colab": {
      "name": "ML Assignment.ipynb",
      "provenance": [],
      "authorship_tag": "ABX9TyMQ7r7lZTThkMRDi4X2jY4j",
      "include_colab_link": true
    },
    "kernelspec": {
      "name": "python3",
      "display_name": "Python 3"
    },
    "language_info": {
      "name": "python"
    }
  },
  "cells": [
    {
      "cell_type": "markdown",
      "metadata": {
        "id": "view-in-github",
        "colab_type": "text"
      },
      "source": [
        "<a href=\"https://colab.research.google.com/github/Prajwal-Nagaraj/Masters/blob/ML-Project/ML_Assignment.ipynb\" target=\"_parent\"><img src=\"https://colab.research.google.com/assets/colab-badge.svg\" alt=\"Open In Colab\"/></a>"
      ]
    },
    {
      "cell_type": "markdown",
      "source": [
        "Prajwal Nagaraja | C21097301 "
      ],
      "metadata": {
        "id": "T6EEkJqN5vww"
      }
    },
    {
      "cell_type": "markdown",
      "source": [
        "Importing all the required Libraries."
      ],
      "metadata": {
        "id": "QPCyJsk75riz"
      }
    },
    {
      "cell_type": "code",
      "metadata": {
        "id": "znO-zp4LFnfC"
      },
      "source": [
        "import numpy as np\n",
        "import pandas as pd\n",
        "import random\n",
        "import matplotlib.pyplot as plt \n",
        "import seaborn as sns\n",
        "import pickle"
      ],
      "execution_count": null,
      "outputs": []
    },
    {
      "cell_type": "markdown",
      "source": [
        "###Data Exploration\n",
        "Printing out the first 10 rows of the dataset to check for consistency."
      ],
      "metadata": {
        "id": "HIVLNBNyiL_o"
      }
    },
    {
      "cell_type": "code",
      "metadata": {
        "id": "mlwb1xfiFnki",
        "colab": {
          "base_uri": "https://localhost:8080/",
          "height": 427
        },
        "outputId": "90ad5be7-7aea-43b5-bad1-fc3b01d22849"
      },
      "source": [
        "test = pd.read_csv('/content/Coursework_1_data.csv')\n",
        "test.head(10)"
      ],
      "execution_count": null,
      "outputs": [
        {
          "output_type": "execute_result",
          "data": {
            "text/html": [
              "\n",
              "  <div id=\"df-d149a99d-0a6b-4c91-b92b-9c96209c16d2\">\n",
              "    <div class=\"colab-df-container\">\n",
              "      <div>\n",
              "<style scoped>\n",
              "    .dataframe tbody tr th:only-of-type {\n",
              "        vertical-align: middle;\n",
              "    }\n",
              "\n",
              "    .dataframe tbody tr th {\n",
              "        vertical-align: top;\n",
              "    }\n",
              "\n",
              "    .dataframe thead th {\n",
              "        text-align: right;\n",
              "    }\n",
              "</style>\n",
              "<table border=\"1\" class=\"dataframe\">\n",
              "  <thead>\n",
              "    <tr style=\"text-align: right;\">\n",
              "      <th></th>\n",
              "      <th>Administrative</th>\n",
              "      <th>Administrative_Duration</th>\n",
              "      <th>Informational</th>\n",
              "      <th>Informational_Duration</th>\n",
              "      <th>ProductRelated</th>\n",
              "      <th>ProductRelated_Duration</th>\n",
              "      <th>BounceRates</th>\n",
              "      <th>ExitRates</th>\n",
              "      <th>PageValues</th>\n",
              "      <th>SpecialDay</th>\n",
              "      <th>Month</th>\n",
              "      <th>OperatingSystems</th>\n",
              "      <th>Browser</th>\n",
              "      <th>Region</th>\n",
              "      <th>TrafficType</th>\n",
              "      <th>VisitorType</th>\n",
              "      <th>Weekend</th>\n",
              "      <th>Revenue</th>\n",
              "    </tr>\n",
              "  </thead>\n",
              "  <tbody>\n",
              "    <tr>\n",
              "      <th>0</th>\n",
              "      <td>0</td>\n",
              "      <td>0.0</td>\n",
              "      <td>0</td>\n",
              "      <td>0.0</td>\n",
              "      <td>1</td>\n",
              "      <td>0.000000</td>\n",
              "      <td>0.200000</td>\n",
              "      <td>0.200000</td>\n",
              "      <td>0.0</td>\n",
              "      <td>0.0</td>\n",
              "      <td>Feb</td>\n",
              "      <td>1</td>\n",
              "      <td>1</td>\n",
              "      <td>1</td>\n",
              "      <td>1</td>\n",
              "      <td>Returning_Visitor</td>\n",
              "      <td>False</td>\n",
              "      <td>False</td>\n",
              "    </tr>\n",
              "    <tr>\n",
              "      <th>1</th>\n",
              "      <td>0</td>\n",
              "      <td>0.0</td>\n",
              "      <td>0</td>\n",
              "      <td>0.0</td>\n",
              "      <td>2</td>\n",
              "      <td>64.000000</td>\n",
              "      <td>0.000000</td>\n",
              "      <td>0.100000</td>\n",
              "      <td>0.0</td>\n",
              "      <td>0.0</td>\n",
              "      <td>Feb</td>\n",
              "      <td>2</td>\n",
              "      <td>2</td>\n",
              "      <td>1</td>\n",
              "      <td>2</td>\n",
              "      <td>Returning_Visitor</td>\n",
              "      <td>False</td>\n",
              "      <td>False</td>\n",
              "    </tr>\n",
              "    <tr>\n",
              "      <th>2</th>\n",
              "      <td>0</td>\n",
              "      <td>0.0</td>\n",
              "      <td>0</td>\n",
              "      <td>0.0</td>\n",
              "      <td>1</td>\n",
              "      <td>0.000000</td>\n",
              "      <td>0.200000</td>\n",
              "      <td>0.200000</td>\n",
              "      <td>0.0</td>\n",
              "      <td>0.0</td>\n",
              "      <td>Feb</td>\n",
              "      <td>4</td>\n",
              "      <td>1</td>\n",
              "      <td>9</td>\n",
              "      <td>3</td>\n",
              "      <td>Returning_Visitor</td>\n",
              "      <td>False</td>\n",
              "      <td>False</td>\n",
              "    </tr>\n",
              "    <tr>\n",
              "      <th>3</th>\n",
              "      <td>0</td>\n",
              "      <td>0.0</td>\n",
              "      <td>0</td>\n",
              "      <td>0.0</td>\n",
              "      <td>2</td>\n",
              "      <td>2.666667</td>\n",
              "      <td>0.050000</td>\n",
              "      <td>0.140000</td>\n",
              "      <td>0.0</td>\n",
              "      <td>0.0</td>\n",
              "      <td>Feb</td>\n",
              "      <td>3</td>\n",
              "      <td>2</td>\n",
              "      <td>2</td>\n",
              "      <td>4</td>\n",
              "      <td>Returning_Visitor</td>\n",
              "      <td>False</td>\n",
              "      <td>False</td>\n",
              "    </tr>\n",
              "    <tr>\n",
              "      <th>4</th>\n",
              "      <td>0</td>\n",
              "      <td>0.0</td>\n",
              "      <td>0</td>\n",
              "      <td>0.0</td>\n",
              "      <td>10</td>\n",
              "      <td>627.500000</td>\n",
              "      <td>0.020000</td>\n",
              "      <td>0.050000</td>\n",
              "      <td>0.0</td>\n",
              "      <td>0.0</td>\n",
              "      <td>Feb</td>\n",
              "      <td>3</td>\n",
              "      <td>3</td>\n",
              "      <td>1</td>\n",
              "      <td>4</td>\n",
              "      <td>Returning_Visitor</td>\n",
              "      <td>True</td>\n",
              "      <td>False</td>\n",
              "    </tr>\n",
              "    <tr>\n",
              "      <th>5</th>\n",
              "      <td>0</td>\n",
              "      <td>0.0</td>\n",
              "      <td>0</td>\n",
              "      <td>0.0</td>\n",
              "      <td>19</td>\n",
              "      <td>154.216667</td>\n",
              "      <td>0.015789</td>\n",
              "      <td>0.024561</td>\n",
              "      <td>0.0</td>\n",
              "      <td>0.0</td>\n",
              "      <td>Feb</td>\n",
              "      <td>2</td>\n",
              "      <td>2</td>\n",
              "      <td>1</td>\n",
              "      <td>3</td>\n",
              "      <td>Returning_Visitor</td>\n",
              "      <td>False</td>\n",
              "      <td>False</td>\n",
              "    </tr>\n",
              "    <tr>\n",
              "      <th>6</th>\n",
              "      <td>0</td>\n",
              "      <td>0.0</td>\n",
              "      <td>0</td>\n",
              "      <td>0.0</td>\n",
              "      <td>1</td>\n",
              "      <td>0.000000</td>\n",
              "      <td>0.200000</td>\n",
              "      <td>0.200000</td>\n",
              "      <td>0.0</td>\n",
              "      <td>0.4</td>\n",
              "      <td>Feb</td>\n",
              "      <td>2</td>\n",
              "      <td>4</td>\n",
              "      <td>3</td>\n",
              "      <td>3</td>\n",
              "      <td>Returning_Visitor</td>\n",
              "      <td>False</td>\n",
              "      <td>False</td>\n",
              "    </tr>\n",
              "    <tr>\n",
              "      <th>7</th>\n",
              "      <td>1</td>\n",
              "      <td>0.0</td>\n",
              "      <td>0</td>\n",
              "      <td>0.0</td>\n",
              "      <td>0</td>\n",
              "      <td>0.000000</td>\n",
              "      <td>0.200000</td>\n",
              "      <td>0.200000</td>\n",
              "      <td>0.0</td>\n",
              "      <td>0.0</td>\n",
              "      <td>Feb</td>\n",
              "      <td>1</td>\n",
              "      <td>2</td>\n",
              "      <td>1</td>\n",
              "      <td>5</td>\n",
              "      <td>Returning_Visitor</td>\n",
              "      <td>True</td>\n",
              "      <td>False</td>\n",
              "    </tr>\n",
              "    <tr>\n",
              "      <th>8</th>\n",
              "      <td>0</td>\n",
              "      <td>0.0</td>\n",
              "      <td>0</td>\n",
              "      <td>0.0</td>\n",
              "      <td>2</td>\n",
              "      <td>37.000000</td>\n",
              "      <td>0.000000</td>\n",
              "      <td>0.100000</td>\n",
              "      <td>0.0</td>\n",
              "      <td>0.8</td>\n",
              "      <td>Feb</td>\n",
              "      <td>2</td>\n",
              "      <td>2</td>\n",
              "      <td>2</td>\n",
              "      <td>3</td>\n",
              "      <td>Returning_Visitor</td>\n",
              "      <td>False</td>\n",
              "      <td>False</td>\n",
              "    </tr>\n",
              "    <tr>\n",
              "      <th>9</th>\n",
              "      <td>0</td>\n",
              "      <td>0.0</td>\n",
              "      <td>0</td>\n",
              "      <td>0.0</td>\n",
              "      <td>3</td>\n",
              "      <td>738.000000</td>\n",
              "      <td>0.000000</td>\n",
              "      <td>0.022222</td>\n",
              "      <td>0.0</td>\n",
              "      <td>0.4</td>\n",
              "      <td>Feb</td>\n",
              "      <td>2</td>\n",
              "      <td>4</td>\n",
              "      <td>1</td>\n",
              "      <td>2</td>\n",
              "      <td>Returning_Visitor</td>\n",
              "      <td>False</td>\n",
              "      <td>False</td>\n",
              "    </tr>\n",
              "  </tbody>\n",
              "</table>\n",
              "</div>\n",
              "      <button class=\"colab-df-convert\" onclick=\"convertToInteractive('df-d149a99d-0a6b-4c91-b92b-9c96209c16d2')\"\n",
              "              title=\"Convert this dataframe to an interactive table.\"\n",
              "              style=\"display:none;\">\n",
              "        \n",
              "  <svg xmlns=\"http://www.w3.org/2000/svg\" height=\"24px\"viewBox=\"0 0 24 24\"\n",
              "       width=\"24px\">\n",
              "    <path d=\"M0 0h24v24H0V0z\" fill=\"none\"/>\n",
              "    <path d=\"M18.56 5.44l.94 2.06.94-2.06 2.06-.94-2.06-.94-.94-2.06-.94 2.06-2.06.94zm-11 1L8.5 8.5l.94-2.06 2.06-.94-2.06-.94L8.5 2.5l-.94 2.06-2.06.94zm10 10l.94 2.06.94-2.06 2.06-.94-2.06-.94-.94-2.06-.94 2.06-2.06.94z\"/><path d=\"M17.41 7.96l-1.37-1.37c-.4-.4-.92-.59-1.43-.59-.52 0-1.04.2-1.43.59L10.3 9.45l-7.72 7.72c-.78.78-.78 2.05 0 2.83L4 21.41c.39.39.9.59 1.41.59.51 0 1.02-.2 1.41-.59l7.78-7.78 2.81-2.81c.8-.78.8-2.07 0-2.86zM5.41 20L4 18.59l7.72-7.72 1.47 1.35L5.41 20z\"/>\n",
              "  </svg>\n",
              "      </button>\n",
              "      \n",
              "  <style>\n",
              "    .colab-df-container {\n",
              "      display:flex;\n",
              "      flex-wrap:wrap;\n",
              "      gap: 12px;\n",
              "    }\n",
              "\n",
              "    .colab-df-convert {\n",
              "      background-color: #E8F0FE;\n",
              "      border: none;\n",
              "      border-radius: 50%;\n",
              "      cursor: pointer;\n",
              "      display: none;\n",
              "      fill: #1967D2;\n",
              "      height: 32px;\n",
              "      padding: 0 0 0 0;\n",
              "      width: 32px;\n",
              "    }\n",
              "\n",
              "    .colab-df-convert:hover {\n",
              "      background-color: #E2EBFA;\n",
              "      box-shadow: 0px 1px 2px rgba(60, 64, 67, 0.3), 0px 1px 3px 1px rgba(60, 64, 67, 0.15);\n",
              "      fill: #174EA6;\n",
              "    }\n",
              "\n",
              "    [theme=dark] .colab-df-convert {\n",
              "      background-color: #3B4455;\n",
              "      fill: #D2E3FC;\n",
              "    }\n",
              "\n",
              "    [theme=dark] .colab-df-convert:hover {\n",
              "      background-color: #434B5C;\n",
              "      box-shadow: 0px 1px 3px 1px rgba(0, 0, 0, 0.15);\n",
              "      filter: drop-shadow(0px 1px 2px rgba(0, 0, 0, 0.3));\n",
              "      fill: #FFFFFF;\n",
              "    }\n",
              "  </style>\n",
              "\n",
              "      <script>\n",
              "        const buttonEl =\n",
              "          document.querySelector('#df-d149a99d-0a6b-4c91-b92b-9c96209c16d2 button.colab-df-convert');\n",
              "        buttonEl.style.display =\n",
              "          google.colab.kernel.accessAllowed ? 'block' : 'none';\n",
              "\n",
              "        async function convertToInteractive(key) {\n",
              "          const element = document.querySelector('#df-d149a99d-0a6b-4c91-b92b-9c96209c16d2');\n",
              "          const dataTable =\n",
              "            await google.colab.kernel.invokeFunction('convertToInteractive',\n",
              "                                                     [key], {});\n",
              "          if (!dataTable) return;\n",
              "\n",
              "          const docLinkHtml = 'Like what you see? Visit the ' +\n",
              "            '<a target=\"_blank\" href=https://colab.research.google.com/notebooks/data_table.ipynb>data table notebook</a>'\n",
              "            + ' to learn more about interactive tables.';\n",
              "          element.innerHTML = '';\n",
              "          dataTable['output_type'] = 'display_data';\n",
              "          await google.colab.output.renderOutput(dataTable, element);\n",
              "          const docLink = document.createElement('div');\n",
              "          docLink.innerHTML = docLinkHtml;\n",
              "          element.appendChild(docLink);\n",
              "        }\n",
              "      </script>\n",
              "    </div>\n",
              "  </div>\n",
              "  "
            ],
            "text/plain": [
              "   Administrative  Administrative_Duration  ...  Weekend  Revenue\n",
              "0               0                      0.0  ...    False    False\n",
              "1               0                      0.0  ...    False    False\n",
              "2               0                      0.0  ...    False    False\n",
              "3               0                      0.0  ...    False    False\n",
              "4               0                      0.0  ...     True    False\n",
              "5               0                      0.0  ...    False    False\n",
              "6               0                      0.0  ...    False    False\n",
              "7               1                      0.0  ...     True    False\n",
              "8               0                      0.0  ...    False    False\n",
              "9               0                      0.0  ...    False    False\n",
              "\n",
              "[10 rows x 18 columns]"
            ]
          },
          "metadata": {},
          "execution_count": 2
        }
      ]
    },
    {
      "cell_type": "markdown",
      "source": [
        "Checking the number of rows and columns of a dataset using the .shape method."
      ],
      "metadata": {
        "id": "6CLOU8hhjB08"
      }
    },
    {
      "cell_type": "code",
      "metadata": {
        "id": "yT0uun83FnoC",
        "colab": {
          "base_uri": "https://localhost:8080/"
        },
        "outputId": "484e56fd-124c-4c59-cb50-e2ab2a00e668"
      },
      "source": [
        "test.shape"
      ],
      "execution_count": null,
      "outputs": [
        {
          "output_type": "execute_result",
          "data": {
            "text/plain": [
              "(12330, 18)"
            ]
          },
          "metadata": {},
          "execution_count": 3
        }
      ]
    },
    {
      "cell_type": "markdown",
      "source": [
        "Checking the various characteristics of the dataset such as mean, std deviation and IQR of each column of the dataset using the .describe() method"
      ],
      "metadata": {
        "id": "s3z4P78IjJ0O"
      }
    },
    {
      "cell_type": "code",
      "source": [
        "test.describe()"
      ],
      "metadata": {
        "colab": {
          "base_uri": "https://localhost:8080/",
          "height": 364
        },
        "id": "2Ze8B_uWcQpJ",
        "outputId": "03660d41-a5c2-43c1-e983-92272cae1d2b"
      },
      "execution_count": null,
      "outputs": [
        {
          "output_type": "execute_result",
          "data": {
            "text/html": [
              "\n",
              "  <div id=\"df-352a3242-b8dc-454e-bb39-1fe4f85e9ec7\">\n",
              "    <div class=\"colab-df-container\">\n",
              "      <div>\n",
              "<style scoped>\n",
              "    .dataframe tbody tr th:only-of-type {\n",
              "        vertical-align: middle;\n",
              "    }\n",
              "\n",
              "    .dataframe tbody tr th {\n",
              "        vertical-align: top;\n",
              "    }\n",
              "\n",
              "    .dataframe thead th {\n",
              "        text-align: right;\n",
              "    }\n",
              "</style>\n",
              "<table border=\"1\" class=\"dataframe\">\n",
              "  <thead>\n",
              "    <tr style=\"text-align: right;\">\n",
              "      <th></th>\n",
              "      <th>Administrative</th>\n",
              "      <th>Administrative_Duration</th>\n",
              "      <th>Informational</th>\n",
              "      <th>Informational_Duration</th>\n",
              "      <th>ProductRelated</th>\n",
              "      <th>ProductRelated_Duration</th>\n",
              "      <th>BounceRates</th>\n",
              "      <th>ExitRates</th>\n",
              "      <th>PageValues</th>\n",
              "      <th>SpecialDay</th>\n",
              "      <th>OperatingSystems</th>\n",
              "      <th>Browser</th>\n",
              "      <th>Region</th>\n",
              "      <th>TrafficType</th>\n",
              "    </tr>\n",
              "  </thead>\n",
              "  <tbody>\n",
              "    <tr>\n",
              "      <th>count</th>\n",
              "      <td>12330.000000</td>\n",
              "      <td>12330.000000</td>\n",
              "      <td>12330.000000</td>\n",
              "      <td>12330.000000</td>\n",
              "      <td>12330.000000</td>\n",
              "      <td>12330.000000</td>\n",
              "      <td>12330.000000</td>\n",
              "      <td>12330.000000</td>\n",
              "      <td>12330.000000</td>\n",
              "      <td>12330.000000</td>\n",
              "      <td>12330.000000</td>\n",
              "      <td>12330.000000</td>\n",
              "      <td>12330.000000</td>\n",
              "      <td>12330.000000</td>\n",
              "    </tr>\n",
              "    <tr>\n",
              "      <th>mean</th>\n",
              "      <td>2.315166</td>\n",
              "      <td>80.818611</td>\n",
              "      <td>0.503569</td>\n",
              "      <td>34.472398</td>\n",
              "      <td>31.731468</td>\n",
              "      <td>1194.746220</td>\n",
              "      <td>0.022191</td>\n",
              "      <td>0.043073</td>\n",
              "      <td>5.889258</td>\n",
              "      <td>0.061427</td>\n",
              "      <td>2.124006</td>\n",
              "      <td>2.357097</td>\n",
              "      <td>3.147364</td>\n",
              "      <td>4.069586</td>\n",
              "    </tr>\n",
              "    <tr>\n",
              "      <th>std</th>\n",
              "      <td>3.321784</td>\n",
              "      <td>176.779107</td>\n",
              "      <td>1.270156</td>\n",
              "      <td>140.749294</td>\n",
              "      <td>44.475503</td>\n",
              "      <td>1913.669288</td>\n",
              "      <td>0.048488</td>\n",
              "      <td>0.048597</td>\n",
              "      <td>18.568437</td>\n",
              "      <td>0.198917</td>\n",
              "      <td>0.911325</td>\n",
              "      <td>1.717277</td>\n",
              "      <td>2.401591</td>\n",
              "      <td>4.025169</td>\n",
              "    </tr>\n",
              "    <tr>\n",
              "      <th>min</th>\n",
              "      <td>0.000000</td>\n",
              "      <td>0.000000</td>\n",
              "      <td>0.000000</td>\n",
              "      <td>0.000000</td>\n",
              "      <td>0.000000</td>\n",
              "      <td>0.000000</td>\n",
              "      <td>0.000000</td>\n",
              "      <td>0.000000</td>\n",
              "      <td>0.000000</td>\n",
              "      <td>0.000000</td>\n",
              "      <td>1.000000</td>\n",
              "      <td>1.000000</td>\n",
              "      <td>1.000000</td>\n",
              "      <td>1.000000</td>\n",
              "    </tr>\n",
              "    <tr>\n",
              "      <th>25%</th>\n",
              "      <td>0.000000</td>\n",
              "      <td>0.000000</td>\n",
              "      <td>0.000000</td>\n",
              "      <td>0.000000</td>\n",
              "      <td>7.000000</td>\n",
              "      <td>184.137500</td>\n",
              "      <td>0.000000</td>\n",
              "      <td>0.014286</td>\n",
              "      <td>0.000000</td>\n",
              "      <td>0.000000</td>\n",
              "      <td>2.000000</td>\n",
              "      <td>2.000000</td>\n",
              "      <td>1.000000</td>\n",
              "      <td>2.000000</td>\n",
              "    </tr>\n",
              "    <tr>\n",
              "      <th>50%</th>\n",
              "      <td>1.000000</td>\n",
              "      <td>7.500000</td>\n",
              "      <td>0.000000</td>\n",
              "      <td>0.000000</td>\n",
              "      <td>18.000000</td>\n",
              "      <td>598.936905</td>\n",
              "      <td>0.003112</td>\n",
              "      <td>0.025156</td>\n",
              "      <td>0.000000</td>\n",
              "      <td>0.000000</td>\n",
              "      <td>2.000000</td>\n",
              "      <td>2.000000</td>\n",
              "      <td>3.000000</td>\n",
              "      <td>2.000000</td>\n",
              "    </tr>\n",
              "    <tr>\n",
              "      <th>75%</th>\n",
              "      <td>4.000000</td>\n",
              "      <td>93.256250</td>\n",
              "      <td>0.000000</td>\n",
              "      <td>0.000000</td>\n",
              "      <td>38.000000</td>\n",
              "      <td>1464.157213</td>\n",
              "      <td>0.016813</td>\n",
              "      <td>0.050000</td>\n",
              "      <td>0.000000</td>\n",
              "      <td>0.000000</td>\n",
              "      <td>3.000000</td>\n",
              "      <td>2.000000</td>\n",
              "      <td>4.000000</td>\n",
              "      <td>4.000000</td>\n",
              "    </tr>\n",
              "    <tr>\n",
              "      <th>max</th>\n",
              "      <td>27.000000</td>\n",
              "      <td>3398.750000</td>\n",
              "      <td>24.000000</td>\n",
              "      <td>2549.375000</td>\n",
              "      <td>705.000000</td>\n",
              "      <td>63973.522230</td>\n",
              "      <td>0.200000</td>\n",
              "      <td>0.200000</td>\n",
              "      <td>361.763742</td>\n",
              "      <td>1.000000</td>\n",
              "      <td>8.000000</td>\n",
              "      <td>13.000000</td>\n",
              "      <td>9.000000</td>\n",
              "      <td>20.000000</td>\n",
              "    </tr>\n",
              "  </tbody>\n",
              "</table>\n",
              "</div>\n",
              "      <button class=\"colab-df-convert\" onclick=\"convertToInteractive('df-352a3242-b8dc-454e-bb39-1fe4f85e9ec7')\"\n",
              "              title=\"Convert this dataframe to an interactive table.\"\n",
              "              style=\"display:none;\">\n",
              "        \n",
              "  <svg xmlns=\"http://www.w3.org/2000/svg\" height=\"24px\"viewBox=\"0 0 24 24\"\n",
              "       width=\"24px\">\n",
              "    <path d=\"M0 0h24v24H0V0z\" fill=\"none\"/>\n",
              "    <path d=\"M18.56 5.44l.94 2.06.94-2.06 2.06-.94-2.06-.94-.94-2.06-.94 2.06-2.06.94zm-11 1L8.5 8.5l.94-2.06 2.06-.94-2.06-.94L8.5 2.5l-.94 2.06-2.06.94zm10 10l.94 2.06.94-2.06 2.06-.94-2.06-.94-.94-2.06-.94 2.06-2.06.94z\"/><path d=\"M17.41 7.96l-1.37-1.37c-.4-.4-.92-.59-1.43-.59-.52 0-1.04.2-1.43.59L10.3 9.45l-7.72 7.72c-.78.78-.78 2.05 0 2.83L4 21.41c.39.39.9.59 1.41.59.51 0 1.02-.2 1.41-.59l7.78-7.78 2.81-2.81c.8-.78.8-2.07 0-2.86zM5.41 20L4 18.59l7.72-7.72 1.47 1.35L5.41 20z\"/>\n",
              "  </svg>\n",
              "      </button>\n",
              "      \n",
              "  <style>\n",
              "    .colab-df-container {\n",
              "      display:flex;\n",
              "      flex-wrap:wrap;\n",
              "      gap: 12px;\n",
              "    }\n",
              "\n",
              "    .colab-df-convert {\n",
              "      background-color: #E8F0FE;\n",
              "      border: none;\n",
              "      border-radius: 50%;\n",
              "      cursor: pointer;\n",
              "      display: none;\n",
              "      fill: #1967D2;\n",
              "      height: 32px;\n",
              "      padding: 0 0 0 0;\n",
              "      width: 32px;\n",
              "    }\n",
              "\n",
              "    .colab-df-convert:hover {\n",
              "      background-color: #E2EBFA;\n",
              "      box-shadow: 0px 1px 2px rgba(60, 64, 67, 0.3), 0px 1px 3px 1px rgba(60, 64, 67, 0.15);\n",
              "      fill: #174EA6;\n",
              "    }\n",
              "\n",
              "    [theme=dark] .colab-df-convert {\n",
              "      background-color: #3B4455;\n",
              "      fill: #D2E3FC;\n",
              "    }\n",
              "\n",
              "    [theme=dark] .colab-df-convert:hover {\n",
              "      background-color: #434B5C;\n",
              "      box-shadow: 0px 1px 3px 1px rgba(0, 0, 0, 0.15);\n",
              "      filter: drop-shadow(0px 1px 2px rgba(0, 0, 0, 0.3));\n",
              "      fill: #FFFFFF;\n",
              "    }\n",
              "  </style>\n",
              "\n",
              "      <script>\n",
              "        const buttonEl =\n",
              "          document.querySelector('#df-352a3242-b8dc-454e-bb39-1fe4f85e9ec7 button.colab-df-convert');\n",
              "        buttonEl.style.display =\n",
              "          google.colab.kernel.accessAllowed ? 'block' : 'none';\n",
              "\n",
              "        async function convertToInteractive(key) {\n",
              "          const element = document.querySelector('#df-352a3242-b8dc-454e-bb39-1fe4f85e9ec7');\n",
              "          const dataTable =\n",
              "            await google.colab.kernel.invokeFunction('convertToInteractive',\n",
              "                                                     [key], {});\n",
              "          if (!dataTable) return;\n",
              "\n",
              "          const docLinkHtml = 'Like what you see? Visit the ' +\n",
              "            '<a target=\"_blank\" href=https://colab.research.google.com/notebooks/data_table.ipynb>data table notebook</a>'\n",
              "            + ' to learn more about interactive tables.';\n",
              "          element.innerHTML = '';\n",
              "          dataTable['output_type'] = 'display_data';\n",
              "          await google.colab.output.renderOutput(dataTable, element);\n",
              "          const docLink = document.createElement('div');\n",
              "          docLink.innerHTML = docLinkHtml;\n",
              "          element.appendChild(docLink);\n",
              "        }\n",
              "      </script>\n",
              "    </div>\n",
              "  </div>\n",
              "  "
            ],
            "text/plain": [
              "       Administrative  Administrative_Duration  ...        Region   TrafficType\n",
              "count    12330.000000             12330.000000  ...  12330.000000  12330.000000\n",
              "mean         2.315166                80.818611  ...      3.147364      4.069586\n",
              "std          3.321784               176.779107  ...      2.401591      4.025169\n",
              "min          0.000000                 0.000000  ...      1.000000      1.000000\n",
              "25%          0.000000                 0.000000  ...      1.000000      2.000000\n",
              "50%          1.000000                 7.500000  ...      3.000000      2.000000\n",
              "75%          4.000000                93.256250  ...      4.000000      4.000000\n",
              "max         27.000000              3398.750000  ...      9.000000     20.000000\n",
              "\n",
              "[8 rows x 14 columns]"
            ]
          },
          "metadata": {},
          "execution_count": 4
        }
      ]
    },
    {
      "cell_type": "code",
      "source": [
        "test.dtypes"
      ],
      "metadata": {
        "id": "QbcaP6c5B9tl",
        "outputId": "010d1b23-c917-485c-dae7-817fd8db71f8",
        "colab": {
          "base_uri": "https://localhost:8080/"
        }
      },
      "execution_count": null,
      "outputs": [
        {
          "output_type": "execute_result",
          "data": {
            "text/plain": [
              "Administrative             float64\n",
              "Administrative_Duration    float64\n",
              "ProductRelated             float64\n",
              "ProductRelated_Duration    float64\n",
              "BounceRates                float64\n",
              "ExitRates                  float64\n",
              "PageValues                 float64\n",
              "Month                       object\n",
              "Region                       int64\n",
              "TrafficType                  int64\n",
              "VisitorType                 object\n",
              "Revenue                       bool\n",
              "dtype: object"
            ]
          },
          "metadata": {},
          "execution_count": 50
        }
      ]
    },
    {
      "cell_type": "code",
      "source": [
        "test['Revenue'].value_counts()"
      ],
      "metadata": {
        "colab": {
          "base_uri": "https://localhost:8080/"
        },
        "id": "xLaBwe1fdqGA",
        "outputId": "6f50246e-63ba-48ad-d133-36e3ed9c3a91"
      },
      "execution_count": null,
      "outputs": [
        {
          "output_type": "execute_result",
          "data": {
            "text/plain": [
              "False    10422\n",
              "True      1908\n",
              "Name: Revenue, dtype: int64"
            ]
          },
          "metadata": {},
          "execution_count": 5
        }
      ]
    },
    {
      "cell_type": "markdown",
      "source": [
        "From the above method, we can see that only 1908 entries have True in their 'Revenue' column out of 12330 rows i.e, only ~15% of the users actually purchased something from the website. This makes this dataset imbalanced so we have to be carefull during evaluating the performance of the model."
      ],
      "metadata": {
        "id": "-XjUulkqfv0h"
      }
    },
    {
      "cell_type": "markdown",
      "source": [
        "Before we move onto either removing or modifying our data set, we first check the correlation of every variable with our target variable 'Revenue' using a correlation heatmap as shown below."
      ],
      "metadata": {
        "id": "MvCPAmE8gY6h"
      }
    },
    {
      "cell_type": "code",
      "source": [
        "coor_matrix = test.corr()\n",
        "fig, ax = plt.subplots(figsize =(12,12))\n",
        "sns.heatmap(coor_matrix, annot=True)\n",
        "plt.title('Correlation Matrix of the DataSet')\n",
        "plt.show()"
      ],
      "metadata": {
        "colab": {
          "base_uri": "https://localhost:8080/",
          "height": 830
        },
        "id": "GflLauL8eGB1",
        "outputId": "671c6896-1097-4be8-ac49-6eb3577fb9a2"
      },
      "execution_count": null,
      "outputs": [
        {
          "output_type": "display_data",
          "data": {
            "image/png": "[encoded data removed]",
            "text/plain": [
              "<Figure size 864x864 with 2 Axes>"
            ]
          },
          "metadata": {
            "needs_background": "light"
          }
        }
      ]
    },
    {
      "cell_type": "markdown",
      "source": [
        "From the heatmap we can see that the Target Variable has significant positive correlation with only a few of the attributes, so we visualise these attributes of the dataset using charts and graphs."
      ],
      "metadata": {
        "id": "vSnLR4XCvoBA"
      }
    },
    {
      "cell_type": "code",
      "source": [
        "from pandas.plotting import scatter_matrix\n",
        "scatter_matrix(test[['ProductRelated', 'ProductRelated_Duration','Administrative','Administrative_Duration', 'PageValues']],figsize = (10,12))"
      ],
      "metadata": {
        "colab": {
          "base_uri": "https://localhost:8080/",
          "height": 1000
        },
        "id": "ikRoG9p7vqgS",
        "outputId": "04699b1a-7a0e-413b-ad18-49ed81b2a2a2"
      },
      "execution_count": null,
      "outputs": [
        {
          "output_type": "execute_result",
          "data": {
            "text/plain": [
              "array([[<matplotlib.axes._subplots.AxesSubplot object at 0x7f37bedd3f90>,\n",
              "        <matplotlib.axes._subplots.AxesSubplot object at 0x7f37bedef510>,\n",
              "        <matplotlib.axes._subplots.AxesSubplot object at 0x7f37beda0b10>,\n",
              "        <matplotlib.axes._subplots.AxesSubplot object at 0x7f37bed63150>,\n",
              "        <matplotlib.axes._subplots.AxesSubplot object at 0x7f37bed18750>],\n",
              "       [<matplotlib.axes._subplots.AxesSubplot object at 0x7f37beccfd50>,\n",
              "        <matplotlib.axes._subplots.AxesSubplot object at 0x7f37bec90410>,\n",
              "        <matplotlib.axes._subplots.AxesSubplot object at 0x7f37bec46950>,\n",
              "        <matplotlib.axes._subplots.AxesSubplot object at 0x7f37bec46990>,\n",
              "        <matplotlib.axes._subplots.AxesSubplot object at 0x7f37bec0b0d0>],\n",
              "       [<matplotlib.axes._subplots.AxesSubplot object at 0x7f37bebf6bd0>,\n",
              "        <matplotlib.axes._subplots.AxesSubplot object at 0x7f37bebba210>,\n",
              "        <matplotlib.axes._subplots.AxesSubplot object at 0x7f37beb70810>,\n",
              "        <matplotlib.axes._subplots.AxesSubplot object at 0x7f37beb25e10>,\n",
              "        <matplotlib.axes._subplots.AxesSubplot object at 0x7f37beae9450>],\n",
              "       [<matplotlib.axes._subplots.AxesSubplot object at 0x7f37beaa0a50>,\n",
              "        <matplotlib.axes._subplots.AxesSubplot object at 0x7f37bea4cb90>,\n",
              "        <matplotlib.axes._subplots.AxesSubplot object at 0x7f37bea1a690>,\n",
              "        <matplotlib.axes._subplots.AxesSubplot object at 0x7f37be9d1c90>,\n",
              "        <matplotlib.axes._subplots.AxesSubplot object at 0x7f37be9932d0>],\n",
              "       [<matplotlib.axes._subplots.AxesSubplot object at 0x7f37be9498d0>,\n",
              "        <matplotlib.axes._subplots.AxesSubplot object at 0x7f37be903a10>,\n",
              "        <matplotlib.axes._subplots.AxesSubplot object at 0x7f37be93af10>,\n",
              "        <matplotlib.axes._subplots.AxesSubplot object at 0x7f37be8fc450>,\n",
              "        <matplotlib.axes._subplots.AxesSubplot object at 0x7f37be8b1950>]],\n",
              "      dtype=object)"
            ]
          },
          "metadata": {},
          "execution_count": 7
        },
        {
          "output_type": "display_data",
          "data": {
            "image/png": "[encoded data removed]",
            "text/plain": [
              "<Figure size 720x864 with 25 Axes>"
            ]
          },
          "metadata": {
            "needs_background": "light"
          }
        }
      ]
    },
    {
      "cell_type": "markdown",
      "source": [
        "####Scatter Plot\n",
        "To check if there's any linear relation between the variables"
      ],
      "metadata": {
        "id": "N37SDnG_0tTA"
      }
    },
    {
      "cell_type": "code",
      "source": [
        "test.plot(kind = 'scatter', x='PageValues', y='ProductRelated_Duration')"
      ],
      "metadata": {
        "colab": {
          "base_uri": "https://localhost:8080/",
          "height": 296
        },
        "id": "_cxUZzAKiOb6",
        "outputId": "d3fd9fce-21b5-4b80-f92c-15d1993e8c4d"
      },
      "execution_count": null,
      "outputs": [
        {
          "output_type": "execute_result",
          "data": {
            "text/plain": [
              "<matplotlib.axes._subplots.AxesSubplot at 0x7f37be591b50>"
            ]
          },
          "metadata": {},
          "execution_count": 8
        },
        {
          "output_type": "display_data",
          "data": {
            "image/png": "[encoded data removed]",
            "text/plain": [
              "<Figure size 432x288 with 1 Axes>"
            ]
          },
          "metadata": {
            "needs_background": "light"
          }
        }
      ]
    },
    {
      "cell_type": "code",
      "source": [
        "test.plot(kind = 'scatter', x= 'ProductRelated', y = 'ProductRelated_Duration')"
      ],
      "metadata": {
        "colab": {
          "base_uri": "https://localhost:8080/",
          "height": 296
        },
        "id": "Vn3OxrVAylHd",
        "outputId": "6f244f1d-598a-4aa5-8e73-33468cf03933"
      },
      "execution_count": null,
      "outputs": [
        {
          "output_type": "execute_result",
          "data": {
            "text/plain": [
              "<matplotlib.axes._subplots.AxesSubplot at 0x7f37bedef050>"
            ]
          },
          "metadata": {},
          "execution_count": 9
        },
        {
          "output_type": "display_data",
          "data": {
            "image/png": "[encoded data removed]",
            "text/plain": [
              "<Figure size 432x288 with 1 Axes>"
            ]
          },
          "metadata": {
            "needs_background": "light"
          }
        }
      ]
    },
    {
      "cell_type": "code",
      "source": [
        "test.plot(kind = 'scatter', x='PageValues', y='ProductRelated')"
      ],
      "metadata": {
        "colab": {
          "base_uri": "https://localhost:8080/",
          "height": 296
        },
        "id": "YRfRgr3EpXzC",
        "outputId": "f16e6df1-0c9d-4bf5-dd25-56d5b29078b9"
      },
      "execution_count": null,
      "outputs": [
        {
          "output_type": "execute_result",
          "data": {
            "text/plain": [
              "<matplotlib.axes._subplots.AxesSubplot at 0x7f37be588350>"
            ]
          },
          "metadata": {},
          "execution_count": 10
        },
        {
          "output_type": "display_data",
          "data": {
            "image/png": "[encoded data removed]",
            "text/plain": [
              "<Figure size 432x288 with 1 Axes>"
            ]
          },
          "metadata": {
            "needs_background": "light"
          }
        }
      ]
    },
    {
      "cell_type": "code",
      "source": [
        "test.plot(kind = 'scatter', x='PageValues', y='ProductRelated_Duration')"
      ],
      "metadata": {
        "colab": {
          "base_uri": "https://localhost:8080/",
          "height": 296
        },
        "id": "8xnbJwv5pifu",
        "outputId": "102372b5-698d-4577-d83c-df921bc9fe1e"
      },
      "execution_count": null,
      "outputs": [
        {
          "output_type": "execute_result",
          "data": {
            "text/plain": [
              "<matplotlib.axes._subplots.AxesSubplot at 0x7f37be4a8350>"
            ]
          },
          "metadata": {},
          "execution_count": 11
        },
        {
          "output_type": "display_data",
          "data": {
            "image/png": "[encoded data removed]",
            "text/plain": [
              "<Figure size 432x288 with 1 Axes>"
            ]
          },
          "metadata": {
            "needs_background": "light"
          }
        }
      ]
    },
    {
      "cell_type": "markdown",
      "source": [
        "####Box Plot\n",
        "To check for the mean and the Inter Quartile Range of the attributes."
      ],
      "metadata": {
        "id": "uhFIl3XZzCcI"
      }
    },
    {
      "cell_type": "code",
      "source": [
        "print(test[['ProductRelated_Duration']].describe())\n",
        "test[['ProductRelated_Duration']].boxplot()"
      ],
      "metadata": {
        "colab": {
          "base_uri": "https://localhost:8080/",
          "height": 439
        },
        "id": "Bd8UNOZGyp3M",
        "outputId": "2d372d88-94ce-49b2-98af-9df9652ebf42"
      },
      "execution_count": null,
      "outputs": [
        {
          "output_type": "stream",
          "name": "stdout",
          "text": [
            "       ProductRelated_Duration\n",
            "count             12330.000000\n",
            "mean               1194.746220\n",
            "std                1913.669288\n",
            "min                   0.000000\n",
            "25%                 184.137500\n",
            "50%                 598.936905\n",
            "75%                1464.157213\n",
            "max               63973.522230\n"
          ]
        },
        {
          "output_type": "execute_result",
          "data": {
            "text/plain": [
              "<matplotlib.axes._subplots.AxesSubplot at 0x7f37be42ab50>"
            ]
          },
          "metadata": {},
          "execution_count": 12
        },
        {
          "output_type": "display_data",
          "data": {
            "image/png": "[encoded data removed]",
            "text/plain": [
              "<Figure size 432x288 with 1 Axes>"
            ]
          },
          "metadata": {
            "needs_background": "light"
          }
        }
      ]
    },
    {
      "cell_type": "markdown",
      "source": [
        "As seen from the boxplot and the scatter plot there are outliers in the dataset. One particular datapoint is really abnormal which is the highest time spent by a user on a product which is 63973 seconds which is equivalent to 17 hours which is clearly not possibble. So we drop this entry completely."
      ],
      "metadata": {
        "id": "03tM7YpWMFCT"
      }
    },
    {
      "cell_type": "code",
      "source": [
        "y=test['ProductRelated_Duration'].idxmax(axis = 0)\n",
        "test = test.drop([test.index[y]])"
      ],
      "metadata": {
        "id": "VktPSFzbMEuc"
      },
      "execution_count": null,
      "outputs": []
    },
    {
      "cell_type": "code",
      "source": [
        "test.describe()"
      ],
      "metadata": {
        "colab": {
          "base_uri": "https://localhost:8080/",
          "height": 364
        },
        "id": "cdLaTvFhTune",
        "outputId": "b46914e8-fd71-4629-cb2b-8bbe6aeecb91"
      },
      "execution_count": null,
      "outputs": [
        {
          "output_type": "execute_result",
          "data": {
            "text/html": [
              "\n",
              "  <div id=\"df-0d5eafbe-b5a4-44f8-8ece-afef2e06b0d7\">\n",
              "    <div class=\"colab-df-container\">\n",
              "      <div>\n",
              "<style scoped>\n",
              "    .dataframe tbody tr th:only-of-type {\n",
              "        vertical-align: middle;\n",
              "    }\n",
              "\n",
              "    .dataframe tbody tr th {\n",
              "        vertical-align: top;\n",
              "    }\n",
              "\n",
              "    .dataframe thead th {\n",
              "        text-align: right;\n",
              "    }\n",
              "</style>\n",
              "<table border=\"1\" class=\"dataframe\">\n",
              "  <thead>\n",
              "    <tr style=\"text-align: right;\">\n",
              "      <th></th>\n",
              "      <th>Administrative</th>\n",
              "      <th>Administrative_Duration</th>\n",
              "      <th>Informational</th>\n",
              "      <th>Informational_Duration</th>\n",
              "      <th>ProductRelated</th>\n",
              "      <th>ProductRelated_Duration</th>\n",
              "      <th>BounceRates</th>\n",
              "      <th>ExitRates</th>\n",
              "      <th>PageValues</th>\n",
              "      <th>SpecialDay</th>\n",
              "      <th>OperatingSystems</th>\n",
              "      <th>Browser</th>\n",
              "      <th>Region</th>\n",
              "      <th>TrafficType</th>\n",
              "    </tr>\n",
              "  </thead>\n",
              "  <tbody>\n",
              "    <tr>\n",
              "      <th>count</th>\n",
              "      <td>12329.000000</td>\n",
              "      <td>12329.000000</td>\n",
              "      <td>12329.000000</td>\n",
              "      <td>12329.000000</td>\n",
              "      <td>12329.000000</td>\n",
              "      <td>12329.000000</td>\n",
              "      <td>12329.000000</td>\n",
              "      <td>12329.000000</td>\n",
              "      <td>12329.000000</td>\n",
              "      <td>12329.000000</td>\n",
              "      <td>12329.000000</td>\n",
              "      <td>12329.000000</td>\n",
              "      <td>12329.000000</td>\n",
              "      <td>12329.000000</td>\n",
              "    </tr>\n",
              "    <tr>\n",
              "      <th>mean</th>\n",
              "      <td>2.314948</td>\n",
              "      <td>80.549495</td>\n",
              "      <td>0.503123</td>\n",
              "      <td>34.268415</td>\n",
              "      <td>31.697623</td>\n",
              "      <td>1189.654260</td>\n",
              "      <td>0.022193</td>\n",
              "      <td>0.043074</td>\n",
              "      <td>5.889736</td>\n",
              "      <td>0.061432</td>\n",
              "      <td>2.124017</td>\n",
              "      <td>2.357125</td>\n",
              "      <td>3.147538</td>\n",
              "      <td>4.069754</td>\n",
              "    </tr>\n",
              "    <tr>\n",
              "      <th>std</th>\n",
              "      <td>3.321831</td>\n",
              "      <td>174.242172</td>\n",
              "      <td>1.269243</td>\n",
              "      <td>138.920448</td>\n",
              "      <td>44.318239</td>\n",
              "      <td>1828.307501</td>\n",
              "      <td>0.048490</td>\n",
              "      <td>0.048598</td>\n",
              "      <td>18.569114</td>\n",
              "      <td>0.198925</td>\n",
              "      <td>0.911361</td>\n",
              "      <td>1.717343</td>\n",
              "      <td>2.401611</td>\n",
              "      <td>4.025289</td>\n",
              "    </tr>\n",
              "    <tr>\n",
              "      <th>min</th>\n",
              "      <td>0.000000</td>\n",
              "      <td>0.000000</td>\n",
              "      <td>0.000000</td>\n",
              "      <td>0.000000</td>\n",
              "      <td>0.000000</td>\n",
              "      <td>0.000000</td>\n",
              "      <td>0.000000</td>\n",
              "      <td>0.000000</td>\n",
              "      <td>0.000000</td>\n",
              "      <td>0.000000</td>\n",
              "      <td>1.000000</td>\n",
              "      <td>1.000000</td>\n",
              "      <td>1.000000</td>\n",
              "      <td>1.000000</td>\n",
              "    </tr>\n",
              "    <tr>\n",
              "      <th>25%</th>\n",
              "      <td>0.000000</td>\n",
              "      <td>0.000000</td>\n",
              "      <td>0.000000</td>\n",
              "      <td>0.000000</td>\n",
              "      <td>7.000000</td>\n",
              "      <td>184.100000</td>\n",
              "      <td>0.000000</td>\n",
              "      <td>0.014286</td>\n",
              "      <td>0.000000</td>\n",
              "      <td>0.000000</td>\n",
              "      <td>2.000000</td>\n",
              "      <td>2.000000</td>\n",
              "      <td>1.000000</td>\n",
              "      <td>2.000000</td>\n",
              "    </tr>\n",
              "    <tr>\n",
              "      <th>50%</th>\n",
              "      <td>1.000000</td>\n",
              "      <td>7.500000</td>\n",
              "      <td>0.000000</td>\n",
              "      <td>0.000000</td>\n",
              "      <td>18.000000</td>\n",
              "      <td>598.873809</td>\n",
              "      <td>0.003114</td>\n",
              "      <td>0.025152</td>\n",
              "      <td>0.000000</td>\n",
              "      <td>0.000000</td>\n",
              "      <td>2.000000</td>\n",
              "      <td>2.000000</td>\n",
              "      <td>3.000000</td>\n",
              "      <td>2.000000</td>\n",
              "    </tr>\n",
              "    <tr>\n",
              "      <th>75%</th>\n",
              "      <td>4.000000</td>\n",
              "      <td>93.125000</td>\n",
              "      <td>0.000000</td>\n",
              "      <td>0.000000</td>\n",
              "      <td>38.000000</td>\n",
              "      <td>1464.000000</td>\n",
              "      <td>0.016825</td>\n",
              "      <td>0.050000</td>\n",
              "      <td>0.000000</td>\n",
              "      <td>0.000000</td>\n",
              "      <td>3.000000</td>\n",
              "      <td>2.000000</td>\n",
              "      <td>4.000000</td>\n",
              "      <td>4.000000</td>\n",
              "    </tr>\n",
              "    <tr>\n",
              "      <th>max</th>\n",
              "      <td>27.000000</td>\n",
              "      <td>2720.500000</td>\n",
              "      <td>24.000000</td>\n",
              "      <td>2256.916667</td>\n",
              "      <td>705.000000</td>\n",
              "      <td>43171.233380</td>\n",
              "      <td>0.200000</td>\n",
              "      <td>0.200000</td>\n",
              "      <td>361.763742</td>\n",
              "      <td>1.000000</td>\n",
              "      <td>8.000000</td>\n",
              "      <td>13.000000</td>\n",
              "      <td>9.000000</td>\n",
              "      <td>20.000000</td>\n",
              "    </tr>\n",
              "  </tbody>\n",
              "</table>\n",
              "</div>\n",
              "      <button class=\"colab-df-convert\" onclick=\"convertToInteractive('df-0d5eafbe-b5a4-44f8-8ece-afef2e06b0d7')\"\n",
              "              title=\"Convert this dataframe to an interactive table.\"\n",
              "              style=\"display:none;\">\n",
              "        \n",
              "  <svg xmlns=\"http://www.w3.org/2000/svg\" height=\"24px\"viewBox=\"0 0 24 24\"\n",
              "       width=\"24px\">\n",
              "    <path d=\"M0 0h24v24H0V0z\" fill=\"none\"/>\n",
              "    <path d=\"M18.56 5.44l.94 2.06.94-2.06 2.06-.94-2.06-.94-.94-2.06-.94 2.06-2.06.94zm-11 1L8.5 8.5l.94-2.06 2.06-.94-2.06-.94L8.5 2.5l-.94 2.06-2.06.94zm10 10l.94 2.06.94-2.06 2.06-.94-2.06-.94-.94-2.06-.94 2.06-2.06.94z\"/><path d=\"M17.41 7.96l-1.37-1.37c-.4-.4-.92-.59-1.43-.59-.52 0-1.04.2-1.43.59L10.3 9.45l-7.72 7.72c-.78.78-.78 2.05 0 2.83L4 21.41c.39.39.9.59 1.41.59.51 0 1.02-.2 1.41-.59l7.78-7.78 2.81-2.81c.8-.78.8-2.07 0-2.86zM5.41 20L4 18.59l7.72-7.72 1.47 1.35L5.41 20z\"/>\n",
              "  </svg>\n",
              "      </button>\n",
              "      \n",
              "  <style>\n",
              "    .colab-df-container {\n",
              "      display:flex;\n",
              "      flex-wrap:wrap;\n",
              "      gap: 12px;\n",
              "    }\n",
              "\n",
              "    .colab-df-convert {\n",
              "      background-color: #E8F0FE;\n",
              "      border: none;\n",
              "      border-radius: 50%;\n",
              "      cursor: pointer;\n",
              "      display: none;\n",
              "      fill: #1967D2;\n",
              "      height: 32px;\n",
              "      padding: 0 0 0 0;\n",
              "      width: 32px;\n",
              "    }\n",
              "\n",
              "    .colab-df-convert:hover {\n",
              "      background-color: #E2EBFA;\n",
              "      box-shadow: 0px 1px 2px rgba(60, 64, 67, 0.3), 0px 1px 3px 1px rgba(60, 64, 67, 0.15);\n",
              "      fill: #174EA6;\n",
              "    }\n",
              "\n",
              "    [theme=dark] .colab-df-convert {\n",
              "      background-color: #3B4455;\n",
              "      fill: #D2E3FC;\n",
              "    }\n",
              "\n",
              "    [theme=dark] .colab-df-convert:hover {\n",
              "      background-color: #434B5C;\n",
              "      box-shadow: 0px 1px 3px 1px rgba(0, 0, 0, 0.15);\n",
              "      filter: drop-shadow(0px 1px 2px rgba(0, 0, 0, 0.3));\n",
              "      fill: #FFFFFF;\n",
              "    }\n",
              "  </style>\n",
              "\n",
              "      <script>\n",
              "        const buttonEl =\n",
              "          document.querySelector('#df-0d5eafbe-b5a4-44f8-8ece-afef2e06b0d7 button.colab-df-convert');\n",
              "        buttonEl.style.display =\n",
              "          google.colab.kernel.accessAllowed ? 'block' : 'none';\n",
              "\n",
              "        async function convertToInteractive(key) {\n",
              "          const element = document.querySelector('#df-0d5eafbe-b5a4-44f8-8ece-afef2e06b0d7');\n",
              "          const dataTable =\n",
              "            await google.colab.kernel.invokeFunction('convertToInteractive',\n",
              "                                                     [key], {});\n",
              "          if (!dataTable) return;\n",
              "\n",
              "          const docLinkHtml = 'Like what you see? Visit the ' +\n",
              "            '<a target=\"_blank\" href=https://colab.research.google.com/notebooks/data_table.ipynb>data table notebook</a>'\n",
              "            + ' to learn more about interactive tables.';\n",
              "          element.innerHTML = '';\n",
              "          dataTable['output_type'] = 'display_data';\n",
              "          await google.colab.output.renderOutput(dataTable, element);\n",
              "          const docLink = document.createElement('div');\n",
              "          docLink.innerHTML = docLinkHtml;\n",
              "          element.appendChild(docLink);\n",
              "        }\n",
              "      </script>\n",
              "    </div>\n",
              "  </div>\n",
              "  "
            ],
            "text/plain": [
              "       Administrative  Administrative_Duration  ...        Region   TrafficType\n",
              "count    12329.000000             12329.000000  ...  12329.000000  12329.000000\n",
              "mean         2.314948                80.549495  ...      3.147538      4.069754\n",
              "std          3.321831               174.242172  ...      2.401611      4.025289\n",
              "min          0.000000                 0.000000  ...      1.000000      1.000000\n",
              "25%          0.000000                 0.000000  ...      1.000000      2.000000\n",
              "50%          1.000000                 7.500000  ...      3.000000      2.000000\n",
              "75%          4.000000                93.125000  ...      4.000000      4.000000\n",
              "max         27.000000              2720.500000  ...      9.000000     20.000000\n",
              "\n",
              "[8 rows x 14 columns]"
            ]
          },
          "metadata": {},
          "execution_count": 14
        }
      ]
    },
    {
      "cell_type": "code",
      "source": [
        "print(test[['ProductRelated']].describe())\n",
        "test[['ProductRelated']].boxplot()"
      ],
      "metadata": {
        "colab": {
          "base_uri": "https://localhost:8080/",
          "height": 438
        },
        "id": "DBKl3BtTikfm",
        "outputId": "b1bed193-069f-4d78-ce46-3f80931985a9"
      },
      "execution_count": null,
      "outputs": [
        {
          "output_type": "stream",
          "name": "stdout",
          "text": [
            "       ProductRelated\n",
            "count    12329.000000\n",
            "mean        31.697623\n",
            "std         44.318239\n",
            "min          0.000000\n",
            "25%          7.000000\n",
            "50%         18.000000\n",
            "75%         38.000000\n",
            "max        705.000000\n"
          ]
        },
        {
          "output_type": "execute_result",
          "data": {
            "text/plain": [
              "<matplotlib.axes._subplots.AxesSubplot at 0x7f37be3984d0>"
            ]
          },
          "metadata": {},
          "execution_count": 15
        },
        {
          "output_type": "display_data",
          "data": {
            "image/png": "[encoded data removed]",
            "text/plain": [
              "<Figure size 432x288 with 1 Axes>"
            ]
          },
          "metadata": {
            "needs_background": "light"
          }
        }
      ]
    },
    {
      "cell_type": "code",
      "source": [
        "print(test[['PageValues']].describe())\n",
        "test[['PageValues']].boxplot()"
      ],
      "metadata": {
        "colab": {
          "base_uri": "https://localhost:8080/",
          "height": 438
        },
        "id": "EuHBbXjfpssm",
        "outputId": "5e7b5de8-caad-4bfb-9e48-39c4b38e71b0"
      },
      "execution_count": null,
      "outputs": [
        {
          "output_type": "stream",
          "name": "stdout",
          "text": [
            "         PageValues\n",
            "count  12329.000000\n",
            "mean       5.889736\n",
            "std       18.569114\n",
            "min        0.000000\n",
            "25%        0.000000\n",
            "50%        0.000000\n",
            "75%        0.000000\n",
            "max      361.763742\n"
          ]
        },
        {
          "output_type": "execute_result",
          "data": {
            "text/plain": [
              "<matplotlib.axes._subplots.AxesSubplot at 0x7f37be3d9910>"
            ]
          },
          "metadata": {},
          "execution_count": 16
        },
        {
          "output_type": "display_data",
          "data": {
            "image/png": "[encoded data removed]",
            "text/plain": [
              "<Figure size 432x288 with 1 Axes>"
            ]
          },
          "metadata": {
            "needs_background": "light"
          }
        }
      ]
    },
    {
      "cell_type": "markdown",
      "source": [
        "####Histograms\n",
        "To check frequency distribution of the attributes"
      ],
      "metadata": {
        "id": "l7XE2_qk0zs9"
      }
    },
    {
      "cell_type": "code",
      "source": [
        "test['ProductRelated'].hist()"
      ],
      "metadata": {
        "colab": {
          "base_uri": "https://localhost:8080/",
          "height": 282
        },
        "id": "-MTg_ADi42E1",
        "outputId": "fd76a90d-ba44-40ff-f285-9facf7deb388"
      },
      "execution_count": null,
      "outputs": [
        {
          "output_type": "execute_result",
          "data": {
            "text/plain": [
              "<matplotlib.axes._subplots.AxesSubplot at 0x7f37be30d250>"
            ]
          },
          "metadata": {},
          "execution_count": 17
        },
        {
          "output_type": "display_data",
          "data": {
            "image/png": "[encoded data removed]",
            "text/plain": [
              "<Figure size 432x288 with 1 Axes>"
            ]
          },
          "metadata": {
            "needs_background": "light"
          }
        }
      ]
    },
    {
      "cell_type": "code",
      "source": [
        "test['ProductRelated_Duration'].hist()"
      ],
      "metadata": {
        "colab": {
          "base_uri": "https://localhost:8080/",
          "height": 282
        },
        "id": "uo1EY_Mu6MzV",
        "outputId": "56a12fec-cb34-4575-a139-655452101b6b"
      },
      "execution_count": null,
      "outputs": [
        {
          "output_type": "execute_result",
          "data": {
            "text/plain": [
              "<matplotlib.axes._subplots.AxesSubplot at 0x7f37be218bd0>"
            ]
          },
          "metadata": {},
          "execution_count": 18
        },
        {
          "output_type": "display_data",
          "data": {
            "image/png": "[encoded data removed]",
            "text/plain": [
              "<Figure size 432x288 with 1 Axes>"
            ]
          },
          "metadata": {
            "needs_background": "light"
          }
        }
      ]
    },
    {
      "cell_type": "code",
      "source": [
        "test['PageValues'].hist()"
      ],
      "metadata": {
        "colab": {
          "base_uri": "https://localhost:8080/",
          "height": 282
        },
        "id": "m-88K6jFqUva",
        "outputId": "734e59ea-4a01-4ba2-c95d-3e84302565b3"
      },
      "execution_count": null,
      "outputs": [
        {
          "output_type": "execute_result",
          "data": {
            "text/plain": [
              "<matplotlib.axes._subplots.AxesSubplot at 0x7f37be21fcd0>"
            ]
          },
          "metadata": {},
          "execution_count": 19
        },
        {
          "output_type": "display_data",
          "data": {
            "image/png": "[encoded data removed]",
            "text/plain": [
              "<Figure size 432x288 with 1 Axes>"
            ]
          },
          "metadata": {
            "needs_background": "light"
          }
        }
      ]
    },
    {
      "cell_type": "code",
      "source": [
        "test.isna().sum()"
      ],
      "metadata": {
        "colab": {
          "base_uri": "https://localhost:8080/"
        },
        "id": "yJ3-eDHGg_pm",
        "outputId": "5141025a-3cae-4f6f-d199-56d636cdf989"
      },
      "execution_count": null,
      "outputs": [
        {
          "output_type": "execute_result",
          "data": {
            "text/plain": [
              "Administrative             0\n",
              "Administrative_Duration    0\n",
              "Informational              0\n",
              "Informational_Duration     0\n",
              "ProductRelated             0\n",
              "ProductRelated_Duration    0\n",
              "BounceRates                0\n",
              "ExitRates                  0\n",
              "PageValues                 0\n",
              "SpecialDay                 0\n",
              "Month                      0\n",
              "OperatingSystems           0\n",
              "Browser                    0\n",
              "Region                     0\n",
              "TrafficType                0\n",
              "VisitorType                0\n",
              "Weekend                    0\n",
              "Revenue                    0\n",
              "dtype: int64"
            ]
          },
          "metadata": {},
          "execution_count": 21
        }
      ]
    },
    {
      "cell_type": "markdown",
      "source": [
        "The .isna() method is returning 0 so we replace the 0's in the dataset with NaN and then check how many entries has 0 in it."
      ],
      "metadata": {
        "id": "g-g2pVvGhGNo"
      }
    },
    {
      "cell_type": "code",
      "source": [
        "test.replace(0, np.nan, inplace = True)"
      ],
      "metadata": {
        "id": "b49LuVaGhiN7"
      },
      "execution_count": null,
      "outputs": []
    },
    {
      "cell_type": "code",
      "source": [
        "test.isna().sum()"
      ],
      "metadata": {
        "colab": {
          "base_uri": "https://localhost:8080/"
        },
        "id": "7xjpJcOOhpHm",
        "outputId": "06e70b85-ab4c-4a8a-f273-3ea9835f4562"
      },
      "execution_count": null,
      "outputs": [
        {
          "output_type": "execute_result",
          "data": {
            "text/plain": [
              "Administrative              5768\n",
              "Administrative_Duration     5903\n",
              "Informational               9699\n",
              "Informational_Duration      9925\n",
              "ProductRelated                38\n",
              "ProductRelated_Duration      755\n",
              "BounceRates                 5518\n",
              "ExitRates                     76\n",
              "PageValues                  9599\n",
              "SpecialDay                 11078\n",
              "Month                          0\n",
              "OperatingSystems               0\n",
              "Browser                        0\n",
              "Region                         0\n",
              "TrafficType                    0\n",
              "VisitorType                    0\n",
              "Weekend                        0\n",
              "Revenue                        0\n",
              "dtype: int64"
            ]
          },
          "metadata": {},
          "execution_count": 24
        }
      ]
    },
    {
      "cell_type": "markdown",
      "source": [
        "Now that the .isna() method is returning the zero entry variables,we\n",
        "deal with the empty variables below."
      ],
      "metadata": {
        "id": "PPh9CuStiZxo"
      }
    },
    {
      "cell_type": "markdown",
      "source": [
        "###Data Pre Processing"
      ],
      "metadata": {
        "id": "vGa5KMhOz8sW"
      }
    },
    {
      "cell_type": "markdown",
      "source": [
        "Since there are many entries as 0 in the dataset, we use pre-processing techniques to make it suitable to achieve good performance for building models."
      ],
      "metadata": {
        "id": "NzkVpU3L-QQ4"
      }
    },
    {
      "cell_type": "markdown",
      "source": [
        "####Dealing with zero entries values\n",
        "Since SpecialDay, Weekend, Informational and Informational_Duration has majority of their entries as 0 and the correlation of these attributes' with the taget variable 'Revenue' is quite low and even negative in some instance. So we remove these attributes entirely from the dataset.\n"
      ],
      "metadata": {
        "id": "EYfMuOlKKqNl"
      }
    },
    {
      "cell_type": "code",
      "source": [
        "test.drop(['SpecialDay', 'Weekend', 'Informational', 'Informational_Duration'], axis = 1, inplace=True)\n",
        "test.isna().sum()"
      ],
      "metadata": {
        "colab": {
          "base_uri": "https://localhost:8080/"
        },
        "id": "e5Bdyxk3KqUk",
        "outputId": "6010d243-0f9f-4c1c-c754-01ee74610a0f"
      },
      "execution_count": null,
      "outputs": [
        {
          "output_type": "execute_result",
          "data": {
            "text/plain": [
              "Administrative             5768\n",
              "Administrative_Duration    5903\n",
              "ProductRelated               38\n",
              "ProductRelated_Duration     755\n",
              "BounceRates                5518\n",
              "ExitRates                    76\n",
              "PageValues                 9599\n",
              "Month                         0\n",
              "OperatingSystems              0\n",
              "Browser                       0\n",
              "Region                        0\n",
              "TrafficType                   0\n",
              "VisitorType                   0\n",
              "Revenue                       0\n",
              "dtype: int64"
            ]
          },
          "metadata": {},
          "execution_count": 25
        }
      ]
    },
    {
      "cell_type": "markdown",
      "source": [
        "Since we're trying to figure out if a visitor is going to buy something from the website the Operating System and the Browser columns seem redundant. We're assuming that the website works on any computer irrespective of the operating system or the type of browser that a visitor is going to use. So I'm gonna drop these two categorical columns and continue data exploration."
      ],
      "metadata": {
        "id": "yMXwNfLmQQW3"
      }
    },
    {
      "cell_type": "code",
      "source": [
        "test.drop(['OperatingSystems', 'Browser'], axis = 1, inplace= True)\n",
        "test.head(10)"
      ],
      "metadata": {
        "colab": {
          "base_uri": "https://localhost:8080/",
          "height": 363
        },
        "id": "7KXINe0RRNU3",
        "outputId": "2f914360-f744-4023-a291-145141fea7b1"
      },
      "execution_count": null,
      "outputs": [
        {
          "output_type": "execute_result",
          "data": {
            "text/html": [
              "\n",
              "  <div id=\"df-3e78eac8-55a6-45b3-aea8-6520633adf5d\">\n",
              "    <div class=\"colab-df-container\">\n",
              "      <div>\n",
              "<style scoped>\n",
              "    .dataframe tbody tr th:only-of-type {\n",
              "        vertical-align: middle;\n",
              "    }\n",
              "\n",
              "    .dataframe tbody tr th {\n",
              "        vertical-align: top;\n",
              "    }\n",
              "\n",
              "    .dataframe thead th {\n",
              "        text-align: right;\n",
              "    }\n",
              "</style>\n",
              "<table border=\"1\" class=\"dataframe\">\n",
              "  <thead>\n",
              "    <tr style=\"text-align: right;\">\n",
              "      <th></th>\n",
              "      <th>Administrative</th>\n",
              "      <th>Administrative_Duration</th>\n",
              "      <th>ProductRelated</th>\n",
              "      <th>ProductRelated_Duration</th>\n",
              "      <th>BounceRates</th>\n",
              "      <th>ExitRates</th>\n",
              "      <th>PageValues</th>\n",
              "      <th>Month</th>\n",
              "      <th>Region</th>\n",
              "      <th>TrafficType</th>\n",
              "      <th>VisitorType</th>\n",
              "      <th>Revenue</th>\n",
              "    </tr>\n",
              "  </thead>\n",
              "  <tbody>\n",
              "    <tr>\n",
              "      <th>0</th>\n",
              "      <td>NaN</td>\n",
              "      <td>NaN</td>\n",
              "      <td>1.0</td>\n",
              "      <td>NaN</td>\n",
              "      <td>0.200000</td>\n",
              "      <td>0.200000</td>\n",
              "      <td>NaN</td>\n",
              "      <td>Feb</td>\n",
              "      <td>1</td>\n",
              "      <td>1</td>\n",
              "      <td>Returning_Visitor</td>\n",
              "      <td>False</td>\n",
              "    </tr>\n",
              "    <tr>\n",
              "      <th>1</th>\n",
              "      <td>NaN</td>\n",
              "      <td>NaN</td>\n",
              "      <td>2.0</td>\n",
              "      <td>64.000000</td>\n",
              "      <td>NaN</td>\n",
              "      <td>0.100000</td>\n",
              "      <td>NaN</td>\n",
              "      <td>Feb</td>\n",
              "      <td>1</td>\n",
              "      <td>2</td>\n",
              "      <td>Returning_Visitor</td>\n",
              "      <td>False</td>\n",
              "    </tr>\n",
              "    <tr>\n",
              "      <th>2</th>\n",
              "      <td>NaN</td>\n",
              "      <td>NaN</td>\n",
              "      <td>1.0</td>\n",
              "      <td>NaN</td>\n",
              "      <td>0.200000</td>\n",
              "      <td>0.200000</td>\n",
              "      <td>NaN</td>\n",
              "      <td>Feb</td>\n",
              "      <td>9</td>\n",
              "      <td>3</td>\n",
              "      <td>Returning_Visitor</td>\n",
              "      <td>False</td>\n",
              "    </tr>\n",
              "    <tr>\n",
              "      <th>3</th>\n",
              "      <td>NaN</td>\n",
              "      <td>NaN</td>\n",
              "      <td>2.0</td>\n",
              "      <td>2.666667</td>\n",
              "      <td>0.050000</td>\n",
              "      <td>0.140000</td>\n",
              "      <td>NaN</td>\n",
              "      <td>Feb</td>\n",
              "      <td>2</td>\n",
              "      <td>4</td>\n",
              "      <td>Returning_Visitor</td>\n",
              "      <td>False</td>\n",
              "    </tr>\n",
              "    <tr>\n",
              "      <th>4</th>\n",
              "      <td>NaN</td>\n",
              "      <td>NaN</td>\n",
              "      <td>10.0</td>\n",
              "      <td>627.500000</td>\n",
              "      <td>0.020000</td>\n",
              "      <td>0.050000</td>\n",
              "      <td>NaN</td>\n",
              "      <td>Feb</td>\n",
              "      <td>1</td>\n",
              "      <td>4</td>\n",
              "      <td>Returning_Visitor</td>\n",
              "      <td>False</td>\n",
              "    </tr>\n",
              "    <tr>\n",
              "      <th>5</th>\n",
              "      <td>NaN</td>\n",
              "      <td>NaN</td>\n",
              "      <td>19.0</td>\n",
              "      <td>154.216667</td>\n",
              "      <td>0.015789</td>\n",
              "      <td>0.024561</td>\n",
              "      <td>NaN</td>\n",
              "      <td>Feb</td>\n",
              "      <td>1</td>\n",
              "      <td>3</td>\n",
              "      <td>Returning_Visitor</td>\n",
              "      <td>False</td>\n",
              "    </tr>\n",
              "    <tr>\n",
              "      <th>6</th>\n",
              "      <td>NaN</td>\n",
              "      <td>NaN</td>\n",
              "      <td>1.0</td>\n",
              "      <td>NaN</td>\n",
              "      <td>0.200000</td>\n",
              "      <td>0.200000</td>\n",
              "      <td>NaN</td>\n",
              "      <td>Feb</td>\n",
              "      <td>3</td>\n",
              "      <td>3</td>\n",
              "      <td>Returning_Visitor</td>\n",
              "      <td>False</td>\n",
              "    </tr>\n",
              "    <tr>\n",
              "      <th>7</th>\n",
              "      <td>1.0</td>\n",
              "      <td>NaN</td>\n",
              "      <td>NaN</td>\n",
              "      <td>NaN</td>\n",
              "      <td>0.200000</td>\n",
              "      <td>0.200000</td>\n",
              "      <td>NaN</td>\n",
              "      <td>Feb</td>\n",
              "      <td>1</td>\n",
              "      <td>5</td>\n",
              "      <td>Returning_Visitor</td>\n",
              "      <td>False</td>\n",
              "    </tr>\n",
              "    <tr>\n",
              "      <th>8</th>\n",
              "      <td>NaN</td>\n",
              "      <td>NaN</td>\n",
              "      <td>2.0</td>\n",
              "      <td>37.000000</td>\n",
              "      <td>NaN</td>\n",
              "      <td>0.100000</td>\n",
              "      <td>NaN</td>\n",
              "      <td>Feb</td>\n",
              "      <td>2</td>\n",
              "      <td>3</td>\n",
              "      <td>Returning_Visitor</td>\n",
              "      <td>False</td>\n",
              "    </tr>\n",
              "    <tr>\n",
              "      <th>9</th>\n",
              "      <td>NaN</td>\n",
              "      <td>NaN</td>\n",
              "      <td>3.0</td>\n",
              "      <td>738.000000</td>\n",
              "      <td>NaN</td>\n",
              "      <td>0.022222</td>\n",
              "      <td>NaN</td>\n",
              "      <td>Feb</td>\n",
              "      <td>1</td>\n",
              "      <td>2</td>\n",
              "      <td>Returning_Visitor</td>\n",
              "      <td>False</td>\n",
              "    </tr>\n",
              "  </tbody>\n",
              "</table>\n",
              "</div>\n",
              "      <button class=\"colab-df-convert\" onclick=\"convertToInteractive('df-3e78eac8-55a6-45b3-aea8-6520633adf5d')\"\n",
              "              title=\"Convert this dataframe to an interactive table.\"\n",
              "              style=\"display:none;\">\n",
              "        \n",
              "  <svg xmlns=\"http://www.w3.org/2000/svg\" height=\"24px\"viewBox=\"0 0 24 24\"\n",
              "       width=\"24px\">\n",
              "    <path d=\"M0 0h24v24H0V0z\" fill=\"none\"/>\n",
              "    <path d=\"M18.56 5.44l.94 2.06.94-2.06 2.06-.94-2.06-.94-.94-2.06-.94 2.06-2.06.94zm-11 1L8.5 8.5l.94-2.06 2.06-.94-2.06-.94L8.5 2.5l-.94 2.06-2.06.94zm10 10l.94 2.06.94-2.06 2.06-.94-2.06-.94-.94-2.06-.94 2.06-2.06.94z\"/><path d=\"M17.41 7.96l-1.37-1.37c-.4-.4-.92-.59-1.43-.59-.52 0-1.04.2-1.43.59L10.3 9.45l-7.72 7.72c-.78.78-.78 2.05 0 2.83L4 21.41c.39.39.9.59 1.41.59.51 0 1.02-.2 1.41-.59l7.78-7.78 2.81-2.81c.8-.78.8-2.07 0-2.86zM5.41 20L4 18.59l7.72-7.72 1.47 1.35L5.41 20z\"/>\n",
              "  </svg>\n",
              "      </button>\n",
              "      \n",
              "  <style>\n",
              "    .colab-df-container {\n",
              "      display:flex;\n",
              "      flex-wrap:wrap;\n",
              "      gap: 12px;\n",
              "    }\n",
              "\n",
              "    .colab-df-convert {\n",
              "      background-color: #E8F0FE;\n",
              "      border: none;\n",
              "      border-radius: 50%;\n",
              "      cursor: pointer;\n",
              "      display: none;\n",
              "      fill: #1967D2;\n",
              "      height: 32px;\n",
              "      padding: 0 0 0 0;\n",
              "      width: 32px;\n",
              "    }\n",
              "\n",
              "    .colab-df-convert:hover {\n",
              "      background-color: #E2EBFA;\n",
              "      box-shadow: 0px 1px 2px rgba(60, 64, 67, 0.3), 0px 1px 3px 1px rgba(60, 64, 67, 0.15);\n",
              "      fill: #174EA6;\n",
              "    }\n",
              "\n",
              "    [theme=dark] .colab-df-convert {\n",
              "      background-color: #3B4455;\n",
              "      fill: #D2E3FC;\n",
              "    }\n",
              "\n",
              "    [theme=dark] .colab-df-convert:hover {\n",
              "      background-color: #434B5C;\n",
              "      box-shadow: 0px 1px 3px 1px rgba(0, 0, 0, 0.15);\n",
              "      filter: drop-shadow(0px 1px 2px rgba(0, 0, 0, 0.3));\n",
              "      fill: #FFFFFF;\n",
              "    }\n",
              "  </style>\n",
              "\n",
              "      <script>\n",
              "        const buttonEl =\n",
              "          document.querySelector('#df-3e78eac8-55a6-45b3-aea8-6520633adf5d button.colab-df-convert');\n",
              "        buttonEl.style.display =\n",
              "          google.colab.kernel.accessAllowed ? 'block' : 'none';\n",
              "\n",
              "        async function convertToInteractive(key) {\n",
              "          const element = document.querySelector('#df-3e78eac8-55a6-45b3-aea8-6520633adf5d');\n",
              "          const dataTable =\n",
              "            await google.colab.kernel.invokeFunction('convertToInteractive',\n",
              "                                                     [key], {});\n",
              "          if (!dataTable) return;\n",
              "\n",
              "          const docLinkHtml = 'Like what you see? Visit the ' +\n",
              "            '<a target=\"_blank\" href=https://colab.research.google.com/notebooks/data_table.ipynb>data table notebook</a>'\n",
              "            + ' to learn more about interactive tables.';\n",
              "          element.innerHTML = '';\n",
              "          dataTable['output_type'] = 'display_data';\n",
              "          await google.colab.output.renderOutput(dataTable, element);\n",
              "          const docLink = document.createElement('div');\n",
              "          docLink.innerHTML = docLinkHtml;\n",
              "          element.appendChild(docLink);\n",
              "        }\n",
              "      </script>\n",
              "    </div>\n",
              "  </div>\n",
              "  "
            ],
            "text/plain": [
              "   Administrative  Administrative_Duration  ...        VisitorType  Revenue\n",
              "0             NaN                      NaN  ...  Returning_Visitor    False\n",
              "1             NaN                      NaN  ...  Returning_Visitor    False\n",
              "2             NaN                      NaN  ...  Returning_Visitor    False\n",
              "3             NaN                      NaN  ...  Returning_Visitor    False\n",
              "4             NaN                      NaN  ...  Returning_Visitor    False\n",
              "5             NaN                      NaN  ...  Returning_Visitor    False\n",
              "6             NaN                      NaN  ...  Returning_Visitor    False\n",
              "7             1.0                      NaN  ...  Returning_Visitor    False\n",
              "8             NaN                      NaN  ...  Returning_Visitor    False\n",
              "9             NaN                      NaN  ...  Returning_Visitor    False\n",
              "\n",
              "[10 rows x 12 columns]"
            ]
          },
          "metadata": {},
          "execution_count": 26
        }
      ]
    },
    {
      "cell_type": "code",
      "source": [
        "test.isna().sum()"
      ],
      "metadata": {
        "colab": {
          "base_uri": "https://localhost:8080/"
        },
        "id": "xBqAs8yzQgF4",
        "outputId": "36877042-1b2c-40c4-cb4c-1fb13eaa0cef"
      },
      "execution_count": null,
      "outputs": [
        {
          "output_type": "execute_result",
          "data": {
            "text/plain": [
              "Administrative             5768\n",
              "Administrative_Duration    5903\n",
              "ProductRelated               38\n",
              "ProductRelated_Duration     755\n",
              "BounceRates                5518\n",
              "ExitRates                    76\n",
              "PageValues                 9599\n",
              "Month                         0\n",
              "Region                        0\n",
              "TrafficType                   0\n",
              "VisitorType                   0\n",
              "Revenue                       0\n",
              "dtype: int64"
            ]
          },
          "metadata": {},
          "execution_count": 27
        }
      ]
    },
    {
      "cell_type": "markdown",
      "source": [
        "Since ProductRelated_Duration and ProductRelated have only a few of their entries as zero, we replace the 0 entries with the mean and the median of the respective values which will make it easier to model."
      ],
      "metadata": {
        "id": "HPgreBFEjWqI"
      }
    },
    {
      "cell_type": "code",
      "source": [
        "meanpr = test['ProductRelated'].mean()\n",
        "medianprd = test['ProductRelated_Duration'].median()\n",
        "test['ProductRelated'].fillna(meanpr, inplace = True)\n",
        "test['ProductRelated_Duration'].fillna(medianprd, inplace = True)\n",
        "print('After filling zero entries for ProductRelated and ProductRelated_Duration in the Dataset\\n',test.isna().sum())"
      ],
      "metadata": {
        "colab": {
          "base_uri": "https://localhost:8080/"
        },
        "id": "cv9LYIo3k3UO",
        "outputId": "6eee8a81-2f8d-4304-aaea-ad4a6c9b1c3b"
      },
      "execution_count": null,
      "outputs": [
        {
          "output_type": "stream",
          "name": "stdout",
          "text": [
            "After filling zero entries for ProductRelated and ProductRelated_Duration in the Dataset\n",
            " Administrative             5768\n",
            "Administrative_Duration    5903\n",
            "ProductRelated                0\n",
            "ProductRelated_Duration       0\n",
            "BounceRates                5518\n",
            "ExitRates                    76\n",
            "PageValues                 9599\n",
            "Month                         0\n",
            "Region                        0\n",
            "TrafficType                   0\n",
            "VisitorType                   0\n",
            "Revenue                       0\n",
            "dtype: int64\n"
          ]
        }
      ]
    },
    {
      "cell_type": "markdown",
      "source": [
        "Because PageValues has the highest correlation with the target variable, We are not going to change it in any way."
      ],
      "metadata": {
        "id": "fZ77P8WmhKfQ"
      }
    },
    {
      "cell_type": "code",
      "source": [
        "coor_matrix = test.corr()\n",
        "fig, ax = plt.subplots(figsize =(12,12))\n",
        "sns.heatmap(coor_matrix, annot=True)\n",
        "plt.title('Correlation Matrix of the DataSet')\n",
        "plt.show()"
      ],
      "metadata": {
        "colab": {
          "base_uri": "https://localhost:8080/",
          "height": 830
        },
        "id": "hNaBSbmnjFiT",
        "outputId": "654be728-6549-4d5d-933e-778f1c6d5b1c"
      },
      "execution_count": null,
      "outputs": [
        {
          "output_type": "display_data",
          "data": {
            "image/png": "[encoded data removed]",
            "text/plain": [
              "<Figure size 864x864 with 2 Axes>"
            ]
          },
          "metadata": {
            "needs_background": "light"
          }
        }
      ]
    },
    {
      "cell_type": "markdown",
      "source": [
        "Now that the required preprocessiong is complete, we replace the NaN's in the dataset with 0's to get it back to the original form."
      ],
      "metadata": {
        "id": "-e-oE3dRhqoK"
      }
    },
    {
      "cell_type": "code",
      "source": [
        "test.fillna(0, inplace = True)"
      ],
      "metadata": {
        "id": "-hepK2vih72T"
      },
      "execution_count": null,
      "outputs": []
    },
    {
      "cell_type": "markdown",
      "source": [
        "####One Hot Encoder"
      ],
      "metadata": {
        "id": "Q5Wc87QI0lOd"
      }
    },
    {
      "cell_type": "markdown",
      "source": [
        "As some of the attributes and the target value is categorical, we use encoders to convert it to numerical value."
      ],
      "metadata": {
        "id": "NNZH601oyVaz"
      }
    },
    {
      "cell_type": "markdown",
      "source": [
        "As seen below, there are 3 unique values for VisitorType and 2 Unique values for Revenue. So we use OneHotEncoder to convert these features to numerical values."
      ],
      "metadata": {
        "id": "bUgwQTtC23Gq"
      }
    },
    {
      "cell_type": "code",
      "source": [
        "test.VisitorType.unique()"
      ],
      "metadata": {
        "colab": {
          "base_uri": "https://localhost:8080/"
        },
        "id": "JotR2B151FFE",
        "outputId": "04518b6d-bd93-406c-f2b1-4a2130c3c36d"
      },
      "execution_count": null,
      "outputs": [
        {
          "output_type": "execute_result",
          "data": {
            "text/plain": [
              "array(['Returning_Visitor', 'New_Visitor', 'Other'], dtype=object)"
            ]
          },
          "metadata": {},
          "execution_count": 31
        }
      ]
    },
    {
      "cell_type": "code",
      "source": [
        "test.Revenue.unique()"
      ],
      "metadata": {
        "colab": {
          "base_uri": "https://localhost:8080/"
        },
        "id": "cZ3AzU6k3QUR",
        "outputId": "1d98b7fd-2f85-4c8e-db64-82cb3f0e0a08"
      },
      "execution_count": null,
      "outputs": [
        {
          "output_type": "execute_result",
          "data": {
            "text/plain": [
              "array([False,  True])"
            ]
          },
          "metadata": {},
          "execution_count": 32
        }
      ]
    },
    {
      "cell_type": "code",
      "source": [
        "test.head(10)"
      ],
      "metadata": {
        "colab": {
          "base_uri": "https://localhost:8080/",
          "height": 363
        },
        "id": "cquytUfQr1QQ",
        "outputId": "b8ec75a8-3f1b-427a-a726-4b1b06c12b72"
      },
      "execution_count": null,
      "outputs": [
        {
          "output_type": "execute_result",
          "data": {
            "text/html": [
              "\n",
              "  <div id=\"df-b3d73f57-d2e3-46d3-9993-68cd403fc6af\">\n",
              "    <div class=\"colab-df-container\">\n",
              "      <div>\n",
              "<style scoped>\n",
              "    .dataframe tbody tr th:only-of-type {\n",
              "        vertical-align: middle;\n",
              "    }\n",
              "\n",
              "    .dataframe tbody tr th {\n",
              "        vertical-align: top;\n",
              "    }\n",
              "\n",
              "    .dataframe thead th {\n",
              "        text-align: right;\n",
              "    }\n",
              "</style>\n",
              "<table border=\"1\" class=\"dataframe\">\n",
              "  <thead>\n",
              "    <tr style=\"text-align: right;\">\n",
              "      <th></th>\n",
              "      <th>Administrative</th>\n",
              "      <th>Administrative_Duration</th>\n",
              "      <th>ProductRelated</th>\n",
              "      <th>ProductRelated_Duration</th>\n",
              "      <th>BounceRates</th>\n",
              "      <th>ExitRates</th>\n",
              "      <th>PageValues</th>\n",
              "      <th>Month</th>\n",
              "      <th>Region</th>\n",
              "      <th>TrafficType</th>\n",
              "      <th>VisitorType</th>\n",
              "      <th>Revenue</th>\n",
              "    </tr>\n",
              "  </thead>\n",
              "  <tbody>\n",
              "    <tr>\n",
              "      <th>0</th>\n",
              "      <td>0.0</td>\n",
              "      <td>0.0</td>\n",
              "      <td>1.000000</td>\n",
              "      <td>671.587500</td>\n",
              "      <td>0.200000</td>\n",
              "      <td>0.200000</td>\n",
              "      <td>0.0</td>\n",
              "      <td>Feb</td>\n",
              "      <td>1</td>\n",
              "      <td>1</td>\n",
              "      <td>Returning_Visitor</td>\n",
              "      <td>False</td>\n",
              "    </tr>\n",
              "    <tr>\n",
              "      <th>1</th>\n",
              "      <td>0.0</td>\n",
              "      <td>0.0</td>\n",
              "      <td>2.000000</td>\n",
              "      <td>64.000000</td>\n",
              "      <td>0.000000</td>\n",
              "      <td>0.100000</td>\n",
              "      <td>0.0</td>\n",
              "      <td>Feb</td>\n",
              "      <td>1</td>\n",
              "      <td>2</td>\n",
              "      <td>Returning_Visitor</td>\n",
              "      <td>False</td>\n",
              "    </tr>\n",
              "    <tr>\n",
              "      <th>2</th>\n",
              "      <td>0.0</td>\n",
              "      <td>0.0</td>\n",
              "      <td>1.000000</td>\n",
              "      <td>671.587500</td>\n",
              "      <td>0.200000</td>\n",
              "      <td>0.200000</td>\n",
              "      <td>0.0</td>\n",
              "      <td>Feb</td>\n",
              "      <td>9</td>\n",
              "      <td>3</td>\n",
              "      <td>Returning_Visitor</td>\n",
              "      <td>False</td>\n",
              "    </tr>\n",
              "    <tr>\n",
              "      <th>3</th>\n",
              "      <td>0.0</td>\n",
              "      <td>0.0</td>\n",
              "      <td>2.000000</td>\n",
              "      <td>2.666667</td>\n",
              "      <td>0.050000</td>\n",
              "      <td>0.140000</td>\n",
              "      <td>0.0</td>\n",
              "      <td>Feb</td>\n",
              "      <td>2</td>\n",
              "      <td>4</td>\n",
              "      <td>Returning_Visitor</td>\n",
              "      <td>False</td>\n",
              "    </tr>\n",
              "    <tr>\n",
              "      <th>4</th>\n",
              "      <td>0.0</td>\n",
              "      <td>0.0</td>\n",
              "      <td>10.000000</td>\n",
              "      <td>627.500000</td>\n",
              "      <td>0.020000</td>\n",
              "      <td>0.050000</td>\n",
              "      <td>0.0</td>\n",
              "      <td>Feb</td>\n",
              "      <td>1</td>\n",
              "      <td>4</td>\n",
              "      <td>Returning_Visitor</td>\n",
              "      <td>False</td>\n",
              "    </tr>\n",
              "    <tr>\n",
              "      <th>5</th>\n",
              "      <td>0.0</td>\n",
              "      <td>0.0</td>\n",
              "      <td>19.000000</td>\n",
              "      <td>154.216667</td>\n",
              "      <td>0.015789</td>\n",
              "      <td>0.024561</td>\n",
              "      <td>0.0</td>\n",
              "      <td>Feb</td>\n",
              "      <td>1</td>\n",
              "      <td>3</td>\n",
              "      <td>Returning_Visitor</td>\n",
              "      <td>False</td>\n",
              "    </tr>\n",
              "    <tr>\n",
              "      <th>6</th>\n",
              "      <td>0.0</td>\n",
              "      <td>0.0</td>\n",
              "      <td>1.000000</td>\n",
              "      <td>671.587500</td>\n",
              "      <td>0.200000</td>\n",
              "      <td>0.200000</td>\n",
              "      <td>0.0</td>\n",
              "      <td>Feb</td>\n",
              "      <td>3</td>\n",
              "      <td>3</td>\n",
              "      <td>Returning_Visitor</td>\n",
              "      <td>False</td>\n",
              "    </tr>\n",
              "    <tr>\n",
              "      <th>7</th>\n",
              "      <td>1.0</td>\n",
              "      <td>0.0</td>\n",
              "      <td>31.795623</td>\n",
              "      <td>671.587500</td>\n",
              "      <td>0.200000</td>\n",
              "      <td>0.200000</td>\n",
              "      <td>0.0</td>\n",
              "      <td>Feb</td>\n",
              "      <td>1</td>\n",
              "      <td>5</td>\n",
              "      <td>Returning_Visitor</td>\n",
              "      <td>False</td>\n",
              "    </tr>\n",
              "    <tr>\n",
              "      <th>8</th>\n",
              "      <td>0.0</td>\n",
              "      <td>0.0</td>\n",
              "      <td>2.000000</td>\n",
              "      <td>37.000000</td>\n",
              "      <td>0.000000</td>\n",
              "      <td>0.100000</td>\n",
              "      <td>0.0</td>\n",
              "      <td>Feb</td>\n",
              "      <td>2</td>\n",
              "      <td>3</td>\n",
              "      <td>Returning_Visitor</td>\n",
              "      <td>False</td>\n",
              "    </tr>\n",
              "    <tr>\n",
              "      <th>9</th>\n",
              "      <td>0.0</td>\n",
              "      <td>0.0</td>\n",
              "      <td>3.000000</td>\n",
              "      <td>738.000000</td>\n",
              "      <td>0.000000</td>\n",
              "      <td>0.022222</td>\n",
              "      <td>0.0</td>\n",
              "      <td>Feb</td>\n",
              "      <td>1</td>\n",
              "      <td>2</td>\n",
              "      <td>Returning_Visitor</td>\n",
              "      <td>False</td>\n",
              "    </tr>\n",
              "  </tbody>\n",
              "</table>\n",
              "</div>\n",
              "      <button class=\"colab-df-convert\" onclick=\"convertToInteractive('df-b3d73f57-d2e3-46d3-9993-68cd403fc6af')\"\n",
              "              title=\"Convert this dataframe to an interactive table.\"\n",
              "              style=\"display:none;\">\n",
              "        \n",
              "  <svg xmlns=\"http://www.w3.org/2000/svg\" height=\"24px\"viewBox=\"0 0 24 24\"\n",
              "       width=\"24px\">\n",
              "    <path d=\"M0 0h24v24H0V0z\" fill=\"none\"/>\n",
              "    <path d=\"M18.56 5.44l.94 2.06.94-2.06 2.06-.94-2.06-.94-.94-2.06-.94 2.06-2.06.94zm-11 1L8.5 8.5l.94-2.06 2.06-.94-2.06-.94L8.5 2.5l-.94 2.06-2.06.94zm10 10l.94 2.06.94-2.06 2.06-.94-2.06-.94-.94-2.06-.94 2.06-2.06.94z\"/><path d=\"M17.41 7.96l-1.37-1.37c-.4-.4-.92-.59-1.43-.59-.52 0-1.04.2-1.43.59L10.3 9.45l-7.72 7.72c-.78.78-.78 2.05 0 2.83L4 21.41c.39.39.9.59 1.41.59.51 0 1.02-.2 1.41-.59l7.78-7.78 2.81-2.81c.8-.78.8-2.07 0-2.86zM5.41 20L4 18.59l7.72-7.72 1.47 1.35L5.41 20z\"/>\n",
              "  </svg>\n",
              "      </button>\n",
              "      \n",
              "  <style>\n",
              "    .colab-df-container {\n",
              "      display:flex;\n",
              "      flex-wrap:wrap;\n",
              "      gap: 12px;\n",
              "    }\n",
              "\n",
              "    .colab-df-convert {\n",
              "      background-color: #E8F0FE;\n",
              "      border: none;\n",
              "      border-radius: 50%;\n",
              "      cursor: pointer;\n",
              "      display: none;\n",
              "      fill: #1967D2;\n",
              "      height: 32px;\n",
              "      padding: 0 0 0 0;\n",
              "      width: 32px;\n",
              "    }\n",
              "\n",
              "    .colab-df-convert:hover {\n",
              "      background-color: #E2EBFA;\n",
              "      box-shadow: 0px 1px 2px rgba(60, 64, 67, 0.3), 0px 1px 3px 1px rgba(60, 64, 67, 0.15);\n",
              "      fill: #174EA6;\n",
              "    }\n",
              "\n",
              "    [theme=dark] .colab-df-convert {\n",
              "      background-color: #3B4455;\n",
              "      fill: #D2E3FC;\n",
              "    }\n",
              "\n",
              "    [theme=dark] .colab-df-convert:hover {\n",
              "      background-color: #434B5C;\n",
              "      box-shadow: 0px 1px 3px 1px rgba(0, 0, 0, 0.15);\n",
              "      filter: drop-shadow(0px 1px 2px rgba(0, 0, 0, 0.3));\n",
              "      fill: #FFFFFF;\n",
              "    }\n",
              "  </style>\n",
              "\n",
              "      <script>\n",
              "        const buttonEl =\n",
              "          document.querySelector('#df-b3d73f57-d2e3-46d3-9993-68cd403fc6af button.colab-df-convert');\n",
              "        buttonEl.style.display =\n",
              "          google.colab.kernel.accessAllowed ? 'block' : 'none';\n",
              "\n",
              "        async function convertToInteractive(key) {\n",
              "          const element = document.querySelector('#df-b3d73f57-d2e3-46d3-9993-68cd403fc6af');\n",
              "          const dataTable =\n",
              "            await google.colab.kernel.invokeFunction('convertToInteractive',\n",
              "                                                     [key], {});\n",
              "          if (!dataTable) return;\n",
              "\n",
              "          const docLinkHtml = 'Like what you see? Visit the ' +\n",
              "            '<a target=\"_blank\" href=https://colab.research.google.com/notebooks/data_table.ipynb>data table notebook</a>'\n",
              "            + ' to learn more about interactive tables.';\n",
              "          element.innerHTML = '';\n",
              "          dataTable['output_type'] = 'display_data';\n",
              "          await google.colab.output.renderOutput(dataTable, element);\n",
              "          const docLink = document.createElement('div');\n",
              "          docLink.innerHTML = docLinkHtml;\n",
              "          element.appendChild(docLink);\n",
              "        }\n",
              "      </script>\n",
              "    </div>\n",
              "  </div>\n",
              "  "
            ],
            "text/plain": [
              "   Administrative  Administrative_Duration  ...        VisitorType  Revenue\n",
              "0             0.0                      0.0  ...  Returning_Visitor    False\n",
              "1             0.0                      0.0  ...  Returning_Visitor    False\n",
              "2             0.0                      0.0  ...  Returning_Visitor    False\n",
              "3             0.0                      0.0  ...  Returning_Visitor    False\n",
              "4             0.0                      0.0  ...  Returning_Visitor    False\n",
              "5             0.0                      0.0  ...  Returning_Visitor    False\n",
              "6             0.0                      0.0  ...  Returning_Visitor    False\n",
              "7             1.0                      0.0  ...  Returning_Visitor    False\n",
              "8             0.0                      0.0  ...  Returning_Visitor    False\n",
              "9             0.0                      0.0  ...  Returning_Visitor    False\n",
              "\n",
              "[10 rows x 12 columns]"
            ]
          },
          "metadata": {},
          "execution_count": 33
        }
      ]
    },
    {
      "cell_type": "markdown",
      "source": [
        "Use OneHotEncoder from the Sklearn library to encode the categorical features such as 'Revenue' and 'VisitorType'"
      ],
      "metadata": {
        "id": "7lOIS9mnfP_u"
      }
    },
    {
      "cell_type": "code",
      "source": [
        "from sklearn.preprocessing import OneHotEncoder\n",
        "enc = OneHotEncoder(drop = 'first', sparse= False)\n",
        "enc1 = OneHotEncoder(sparse = False, handle_unknown='ignore')\n",
        "test1 = test[['Revenue']]\n",
        "enc.fit(test1)\n",
        "test2 = pd.DataFrame(enc.transform(test1), columns = enc.get_feature_names(['Revenue']))\n",
        "\n",
        "testm = test[['VisitorType']]\n",
        "enc1.fit(testm)\n",
        "test3 = pd.DataFrame(enc1.transform(testm), columns = enc1.get_feature_names(['VisitorType']))\n",
        "\n",
        "\n",
        "\n",
        "test3 = pd.concat([test2,test3, test[['Administrative','Administrative_Duration', 'ProductRelated', 'ProductRelated_Duration', 'BounceRates', 'ExitRates','Region', 'TrafficType','PageValues']]], axis = 1)\n",
        "test3.rename({'Revenue_True':'Revenue','VisitorType_Other':'Other', 'VisitorType_Returning_Visitor':'Returning_Visitor','VisitorType_New_Visitor':'New_Visitor'}, axis = 1, inplace =True)\n",
        "test3.dropna(inplace = True)\n",
        "test3.head()"
      ],
      "metadata": {
        "colab": {
          "base_uri": "https://localhost:8080/",
          "height": 339
        },
        "id": "GCGjyVDt0f5n",
        "outputId": "53030b23-82c2-4090-8b1d-9dd16bdc4c4d"
      },
      "execution_count": null,
      "outputs": [
        {
          "output_type": "stream",
          "name": "stderr",
          "text": [
            "/usr/local/lib/python3.7/dist-packages/sklearn/utils/deprecation.py:87: FutureWarning: Function get_feature_names is deprecated; get_feature_names is deprecated in 1.0 and will be removed in 1.2. Please use get_feature_names_out instead.\n",
            "  warnings.warn(msg, category=FutureWarning)\n",
            "/usr/local/lib/python3.7/dist-packages/sklearn/utils/deprecation.py:87: FutureWarning: Function get_feature_names is deprecated; get_feature_names is deprecated in 1.0 and will be removed in 1.2. Please use get_feature_names_out instead.\n",
            "  warnings.warn(msg, category=FutureWarning)\n"
          ]
        },
        {
          "output_type": "execute_result",
          "data": {
            "text/html": [
              "\n",
              "  <div id=\"df-715739ee-65c8-44f5-a725-fa7fc1e1ec08\">\n",
              "    <div class=\"colab-df-container\">\n",
              "      <div>\n",
              "<style scoped>\n",
              "    .dataframe tbody tr th:only-of-type {\n",
              "        vertical-align: middle;\n",
              "    }\n",
              "\n",
              "    .dataframe tbody tr th {\n",
              "        vertical-align: top;\n",
              "    }\n",
              "\n",
              "    .dataframe thead th {\n",
              "        text-align: right;\n",
              "    }\n",
              "</style>\n",
              "<table border=\"1\" class=\"dataframe\">\n",
              "  <thead>\n",
              "    <tr style=\"text-align: right;\">\n",
              "      <th></th>\n",
              "      <th>Revenue</th>\n",
              "      <th>New_Visitor</th>\n",
              "      <th>Other</th>\n",
              "      <th>Returning_Visitor</th>\n",
              "      <th>Administrative</th>\n",
              "      <th>Administrative_Duration</th>\n",
              "      <th>ProductRelated</th>\n",
              "      <th>ProductRelated_Duration</th>\n",
              "      <th>BounceRates</th>\n",
              "      <th>ExitRates</th>\n",
              "      <th>Region</th>\n",
              "      <th>TrafficType</th>\n",
              "      <th>PageValues</th>\n",
              "    </tr>\n",
              "  </thead>\n",
              "  <tbody>\n",
              "    <tr>\n",
              "      <th>0</th>\n",
              "      <td>0.0</td>\n",
              "      <td>0.0</td>\n",
              "      <td>0.0</td>\n",
              "      <td>1.0</td>\n",
              "      <td>0.0</td>\n",
              "      <td>0.0</td>\n",
              "      <td>1.0</td>\n",
              "      <td>671.587500</td>\n",
              "      <td>0.20</td>\n",
              "      <td>0.20</td>\n",
              "      <td>1.0</td>\n",
              "      <td>1.0</td>\n",
              "      <td>0.0</td>\n",
              "    </tr>\n",
              "    <tr>\n",
              "      <th>1</th>\n",
              "      <td>0.0</td>\n",
              "      <td>0.0</td>\n",
              "      <td>0.0</td>\n",
              "      <td>1.0</td>\n",
              "      <td>0.0</td>\n",
              "      <td>0.0</td>\n",
              "      <td>2.0</td>\n",
              "      <td>64.000000</td>\n",
              "      <td>0.00</td>\n",
              "      <td>0.10</td>\n",
              "      <td>1.0</td>\n",
              "      <td>2.0</td>\n",
              "      <td>0.0</td>\n",
              "    </tr>\n",
              "    <tr>\n",
              "      <th>2</th>\n",
              "      <td>0.0</td>\n",
              "      <td>0.0</td>\n",
              "      <td>0.0</td>\n",
              "      <td>1.0</td>\n",
              "      <td>0.0</td>\n",
              "      <td>0.0</td>\n",
              "      <td>1.0</td>\n",
              "      <td>671.587500</td>\n",
              "      <td>0.20</td>\n",
              "      <td>0.20</td>\n",
              "      <td>9.0</td>\n",
              "      <td>3.0</td>\n",
              "      <td>0.0</td>\n",
              "    </tr>\n",
              "    <tr>\n",
              "      <th>3</th>\n",
              "      <td>0.0</td>\n",
              "      <td>0.0</td>\n",
              "      <td>0.0</td>\n",
              "      <td>1.0</td>\n",
              "      <td>0.0</td>\n",
              "      <td>0.0</td>\n",
              "      <td>2.0</td>\n",
              "      <td>2.666667</td>\n",
              "      <td>0.05</td>\n",
              "      <td>0.14</td>\n",
              "      <td>2.0</td>\n",
              "      <td>4.0</td>\n",
              "      <td>0.0</td>\n",
              "    </tr>\n",
              "    <tr>\n",
              "      <th>4</th>\n",
              "      <td>0.0</td>\n",
              "      <td>0.0</td>\n",
              "      <td>0.0</td>\n",
              "      <td>1.0</td>\n",
              "      <td>0.0</td>\n",
              "      <td>0.0</td>\n",
              "      <td>10.0</td>\n",
              "      <td>627.500000</td>\n",
              "      <td>0.02</td>\n",
              "      <td>0.05</td>\n",
              "      <td>1.0</td>\n",
              "      <td>4.0</td>\n",
              "      <td>0.0</td>\n",
              "    </tr>\n",
              "  </tbody>\n",
              "</table>\n",
              "</div>\n",
              "      <button class=\"colab-df-convert\" onclick=\"convertToInteractive('df-715739ee-65c8-44f5-a725-fa7fc1e1ec08')\"\n",
              "              title=\"Convert this dataframe to an interactive table.\"\n",
              "              style=\"display:none;\">\n",
              "        \n",
              "  <svg xmlns=\"http://www.w3.org/2000/svg\" height=\"24px\"viewBox=\"0 0 24 24\"\n",
              "       width=\"24px\">\n",
              "    <path d=\"M0 0h24v24H0V0z\" fill=\"none\"/>\n",
              "    <path d=\"M18.56 5.44l.94 2.06.94-2.06 2.06-.94-2.06-.94-.94-2.06-.94 2.06-2.06.94zm-11 1L8.5 8.5l.94-2.06 2.06-.94-2.06-.94L8.5 2.5l-.94 2.06-2.06.94zm10 10l.94 2.06.94-2.06 2.06-.94-2.06-.94-.94-2.06-.94 2.06-2.06.94z\"/><path d=\"M17.41 7.96l-1.37-1.37c-.4-.4-.92-.59-1.43-.59-.52 0-1.04.2-1.43.59L10.3 9.45l-7.72 7.72c-.78.78-.78 2.05 0 2.83L4 21.41c.39.39.9.59 1.41.59.51 0 1.02-.2 1.41-.59l7.78-7.78 2.81-2.81c.8-.78.8-2.07 0-2.86zM5.41 20L4 18.59l7.72-7.72 1.47 1.35L5.41 20z\"/>\n",
              "  </svg>\n",
              "      </button>\n",
              "      \n",
              "  <style>\n",
              "    .colab-df-container {\n",
              "      display:flex;\n",
              "      flex-wrap:wrap;\n",
              "      gap: 12px;\n",
              "    }\n",
              "\n",
              "    .colab-df-convert {\n",
              "      background-color: #E8F0FE;\n",
              "      border: none;\n",
              "      border-radius: 50%;\n",
              "      cursor: pointer;\n",
              "      display: none;\n",
              "      fill: #1967D2;\n",
              "      height: 32px;\n",
              "      padding: 0 0 0 0;\n",
              "      width: 32px;\n",
              "    }\n",
              "\n",
              "    .colab-df-convert:hover {\n",
              "      background-color: #E2EBFA;\n",
              "      box-shadow: 0px 1px 2px rgba(60, 64, 67, 0.3), 0px 1px 3px 1px rgba(60, 64, 67, 0.15);\n",
              "      fill: #174EA6;\n",
              "    }\n",
              "\n",
              "    [theme=dark] .colab-df-convert {\n",
              "      background-color: #3B4455;\n",
              "      fill: #D2E3FC;\n",
              "    }\n",
              "\n",
              "    [theme=dark] .colab-df-convert:hover {\n",
              "      background-color: #434B5C;\n",
              "      box-shadow: 0px 1px 3px 1px rgba(0, 0, 0, 0.15);\n",
              "      filter: drop-shadow(0px 1px 2px rgba(0, 0, 0, 0.3));\n",
              "      fill: #FFFFFF;\n",
              "    }\n",
              "  </style>\n",
              "\n",
              "      <script>\n",
              "        const buttonEl =\n",
              "          document.querySelector('#df-715739ee-65c8-44f5-a725-fa7fc1e1ec08 button.colab-df-convert');\n",
              "        buttonEl.style.display =\n",
              "          google.colab.kernel.accessAllowed ? 'block' : 'none';\n",
              "\n",
              "        async function convertToInteractive(key) {\n",
              "          const element = document.querySelector('#df-715739ee-65c8-44f5-a725-fa7fc1e1ec08');\n",
              "          const dataTable =\n",
              "            await google.colab.kernel.invokeFunction('convertToInteractive',\n",
              "                                                     [key], {});\n",
              "          if (!dataTable) return;\n",
              "\n",
              "          const docLinkHtml = 'Like what you see? Visit the ' +\n",
              "            '<a target=\"_blank\" href=https://colab.research.google.com/notebooks/data_table.ipynb>data table notebook</a>'\n",
              "            + ' to learn more about interactive tables.';\n",
              "          element.innerHTML = '';\n",
              "          dataTable['output_type'] = 'display_data';\n",
              "          await google.colab.output.renderOutput(dataTable, element);\n",
              "          const docLink = document.createElement('div');\n",
              "          docLink.innerHTML = docLinkHtml;\n",
              "          element.appendChild(docLink);\n",
              "        }\n",
              "      </script>\n",
              "    </div>\n",
              "  </div>\n",
              "  "
            ],
            "text/plain": [
              "   Revenue  New_Visitor  Other  ...  Region  TrafficType  PageValues\n",
              "0      0.0          0.0    0.0  ...     1.0          1.0         0.0\n",
              "1      0.0          0.0    0.0  ...     1.0          2.0         0.0\n",
              "2      0.0          0.0    0.0  ...     9.0          3.0         0.0\n",
              "3      0.0          0.0    0.0  ...     2.0          4.0         0.0\n",
              "4      0.0          0.0    0.0  ...     1.0          4.0         0.0\n",
              "\n",
              "[5 rows x 13 columns]"
            ]
          },
          "metadata": {},
          "execution_count": 34
        }
      ]
    },
    {
      "cell_type": "code",
      "source": [
        "test3.describe()"
      ],
      "metadata": {
        "colab": {
          "base_uri": "https://localhost:8080/",
          "height": 364
        },
        "id": "mCJCkha31i3i",
        "outputId": "1ece79b8-36ee-49fc-ef47-97eca8a18332"
      },
      "execution_count": null,
      "outputs": [
        {
          "output_type": "execute_result",
          "data": {
            "text/html": [
              "\n",
              "  <div id=\"df-5d0ba7a5-5828-45a0-92c2-e1ebf25fbd97\">\n",
              "    <div class=\"colab-df-container\">\n",
              "      <div>\n",
              "<style scoped>\n",
              "    .dataframe tbody tr th:only-of-type {\n",
              "        vertical-align: middle;\n",
              "    }\n",
              "\n",
              "    .dataframe tbody tr th {\n",
              "        vertical-align: top;\n",
              "    }\n",
              "\n",
              "    .dataframe thead th {\n",
              "        text-align: right;\n",
              "    }\n",
              "</style>\n",
              "<table border=\"1\" class=\"dataframe\">\n",
              "  <thead>\n",
              "    <tr style=\"text-align: right;\">\n",
              "      <th></th>\n",
              "      <th>Revenue</th>\n",
              "      <th>New_Visitor</th>\n",
              "      <th>Other</th>\n",
              "      <th>Returning_Visitor</th>\n",
              "      <th>Administrative</th>\n",
              "      <th>Administrative_Duration</th>\n",
              "      <th>ProductRelated</th>\n",
              "      <th>ProductRelated_Duration</th>\n",
              "      <th>BounceRates</th>\n",
              "      <th>ExitRates</th>\n",
              "      <th>Region</th>\n",
              "      <th>TrafficType</th>\n",
              "      <th>PageValues</th>\n",
              "    </tr>\n",
              "  </thead>\n",
              "  <tbody>\n",
              "    <tr>\n",
              "      <th>count</th>\n",
              "      <td>12328.00000</td>\n",
              "      <td>12328.000000</td>\n",
              "      <td>12328.000000</td>\n",
              "      <td>12328.000000</td>\n",
              "      <td>12328.000000</td>\n",
              "      <td>12328.000000</td>\n",
              "      <td>12328.000000</td>\n",
              "      <td>12328.000000</td>\n",
              "      <td>12328.000000</td>\n",
              "      <td>12328.000000</td>\n",
              "      <td>12328.000000</td>\n",
              "      <td>12328.000000</td>\n",
              "      <td>12328.000000</td>\n",
              "    </tr>\n",
              "    <tr>\n",
              "      <th>mean</th>\n",
              "      <td>0.15477</td>\n",
              "      <td>0.137330</td>\n",
              "      <td>0.006895</td>\n",
              "      <td>0.855775</td>\n",
              "      <td>2.315136</td>\n",
              "      <td>80.556028</td>\n",
              "      <td>31.797959</td>\n",
              "      <td>1230.878868</td>\n",
              "      <td>0.022195</td>\n",
              "      <td>0.043072</td>\n",
              "      <td>3.147713</td>\n",
              "      <td>4.069922</td>\n",
              "      <td>5.890213</td>\n",
              "    </tr>\n",
              "    <tr>\n",
              "      <th>std</th>\n",
              "      <td>0.36170</td>\n",
              "      <td>0.344209</td>\n",
              "      <td>0.082752</td>\n",
              "      <td>0.351332</td>\n",
              "      <td>3.321900</td>\n",
              "      <td>174.247729</td>\n",
              "      <td>44.284213</td>\n",
              "      <td>1808.569921</td>\n",
              "      <td>0.048491</td>\n",
              "      <td>0.048600</td>\n",
              "      <td>2.401630</td>\n",
              "      <td>4.025409</td>\n",
              "      <td>18.569791</td>\n",
              "    </tr>\n",
              "    <tr>\n",
              "      <th>min</th>\n",
              "      <td>0.00000</td>\n",
              "      <td>0.000000</td>\n",
              "      <td>0.000000</td>\n",
              "      <td>0.000000</td>\n",
              "      <td>0.000000</td>\n",
              "      <td>0.000000</td>\n",
              "      <td>1.000000</td>\n",
              "      <td>0.500000</td>\n",
              "      <td>0.000000</td>\n",
              "      <td>0.000000</td>\n",
              "      <td>1.000000</td>\n",
              "      <td>1.000000</td>\n",
              "      <td>0.000000</td>\n",
              "    </tr>\n",
              "    <tr>\n",
              "      <th>25%</th>\n",
              "      <td>0.00000</td>\n",
              "      <td>0.000000</td>\n",
              "      <td>0.000000</td>\n",
              "      <td>1.000000</td>\n",
              "      <td>0.000000</td>\n",
              "      <td>0.000000</td>\n",
              "      <td>7.000000</td>\n",
              "      <td>262.979167</td>\n",
              "      <td>0.000000</td>\n",
              "      <td>0.014286</td>\n",
              "      <td>1.000000</td>\n",
              "      <td>2.000000</td>\n",
              "      <td>0.000000</td>\n",
              "    </tr>\n",
              "    <tr>\n",
              "      <th>50%</th>\n",
              "      <td>0.00000</td>\n",
              "      <td>0.000000</td>\n",
              "      <td>0.000000</td>\n",
              "      <td>1.000000</td>\n",
              "      <td>1.000000</td>\n",
              "      <td>7.500000</td>\n",
              "      <td>18.000000</td>\n",
              "      <td>671.587500</td>\n",
              "      <td>0.003119</td>\n",
              "      <td>0.025146</td>\n",
              "      <td>3.000000</td>\n",
              "      <td>2.000000</td>\n",
              "      <td>0.000000</td>\n",
              "    </tr>\n",
              "    <tr>\n",
              "      <th>75%</th>\n",
              "      <td>0.00000</td>\n",
              "      <td>0.000000</td>\n",
              "      <td>0.000000</td>\n",
              "      <td>1.000000</td>\n",
              "      <td>4.000000</td>\n",
              "      <td>93.168750</td>\n",
              "      <td>38.000000</td>\n",
              "      <td>1464.052404</td>\n",
              "      <td>0.016830</td>\n",
              "      <td>0.050000</td>\n",
              "      <td>4.000000</td>\n",
              "      <td>4.000000</td>\n",
              "      <td>0.000000</td>\n",
              "    </tr>\n",
              "    <tr>\n",
              "      <th>max</th>\n",
              "      <td>1.00000</td>\n",
              "      <td>1.000000</td>\n",
              "      <td>1.000000</td>\n",
              "      <td>1.000000</td>\n",
              "      <td>27.000000</td>\n",
              "      <td>2720.500000</td>\n",
              "      <td>705.000000</td>\n",
              "      <td>43171.233380</td>\n",
              "      <td>0.200000</td>\n",
              "      <td>0.200000</td>\n",
              "      <td>9.000000</td>\n",
              "      <td>20.000000</td>\n",
              "      <td>361.763742</td>\n",
              "    </tr>\n",
              "  </tbody>\n",
              "</table>\n",
              "</div>\n",
              "      <button class=\"colab-df-convert\" onclick=\"convertToInteractive('df-5d0ba7a5-5828-45a0-92c2-e1ebf25fbd97')\"\n",
              "              title=\"Convert this dataframe to an interactive table.\"\n",
              "              style=\"display:none;\">\n",
              "        \n",
              "  <svg xmlns=\"http://www.w3.org/2000/svg\" height=\"24px\"viewBox=\"0 0 24 24\"\n",
              "       width=\"24px\">\n",
              "    <path d=\"M0 0h24v24H0V0z\" fill=\"none\"/>\n",
              "    <path d=\"M18.56 5.44l.94 2.06.94-2.06 2.06-.94-2.06-.94-.94-2.06-.94 2.06-2.06.94zm-11 1L8.5 8.5l.94-2.06 2.06-.94-2.06-.94L8.5 2.5l-.94 2.06-2.06.94zm10 10l.94 2.06.94-2.06 2.06-.94-2.06-.94-.94-2.06-.94 2.06-2.06.94z\"/><path d=\"M17.41 7.96l-1.37-1.37c-.4-.4-.92-.59-1.43-.59-.52 0-1.04.2-1.43.59L10.3 9.45l-7.72 7.72c-.78.78-.78 2.05 0 2.83L4 21.41c.39.39.9.59 1.41.59.51 0 1.02-.2 1.41-.59l7.78-7.78 2.81-2.81c.8-.78.8-2.07 0-2.86zM5.41 20L4 18.59l7.72-7.72 1.47 1.35L5.41 20z\"/>\n",
              "  </svg>\n",
              "      </button>\n",
              "      \n",
              "  <style>\n",
              "    .colab-df-container {\n",
              "      display:flex;\n",
              "      flex-wrap:wrap;\n",
              "      gap: 12px;\n",
              "    }\n",
              "\n",
              "    .colab-df-convert {\n",
              "      background-color: #E8F0FE;\n",
              "      border: none;\n",
              "      border-radius: 50%;\n",
              "      cursor: pointer;\n",
              "      display: none;\n",
              "      fill: #1967D2;\n",
              "      height: 32px;\n",
              "      padding: 0 0 0 0;\n",
              "      width: 32px;\n",
              "    }\n",
              "\n",
              "    .colab-df-convert:hover {\n",
              "      background-color: #E2EBFA;\n",
              "      box-shadow: 0px 1px 2px rgba(60, 64, 67, 0.3), 0px 1px 3px 1px rgba(60, 64, 67, 0.15);\n",
              "      fill: #174EA6;\n",
              "    }\n",
              "\n",
              "    [theme=dark] .colab-df-convert {\n",
              "      background-color: #3B4455;\n",
              "      fill: #D2E3FC;\n",
              "    }\n",
              "\n",
              "    [theme=dark] .colab-df-convert:hover {\n",
              "      background-color: #434B5C;\n",
              "      box-shadow: 0px 1px 3px 1px rgba(0, 0, 0, 0.15);\n",
              "      filter: drop-shadow(0px 1px 2px rgba(0, 0, 0, 0.3));\n",
              "      fill: #FFFFFF;\n",
              "    }\n",
              "  </style>\n",
              "\n",
              "      <script>\n",
              "        const buttonEl =\n",
              "          document.querySelector('#df-5d0ba7a5-5828-45a0-92c2-e1ebf25fbd97 button.colab-df-convert');\n",
              "        buttonEl.style.display =\n",
              "          google.colab.kernel.accessAllowed ? 'block' : 'none';\n",
              "\n",
              "        async function convertToInteractive(key) {\n",
              "          const element = document.querySelector('#df-5d0ba7a5-5828-45a0-92c2-e1ebf25fbd97');\n",
              "          const dataTable =\n",
              "            await google.colab.kernel.invokeFunction('convertToInteractive',\n",
              "                                                     [key], {});\n",
              "          if (!dataTable) return;\n",
              "\n",
              "          const docLinkHtml = 'Like what you see? Visit the ' +\n",
              "            '<a target=\"_blank\" href=https://colab.research.google.com/notebooks/data_table.ipynb>data table notebook</a>'\n",
              "            + ' to learn more about interactive tables.';\n",
              "          element.innerHTML = '';\n",
              "          dataTable['output_type'] = 'display_data';\n",
              "          await google.colab.output.renderOutput(dataTable, element);\n",
              "          const docLink = document.createElement('div');\n",
              "          docLink.innerHTML = docLinkHtml;\n",
              "          element.appendChild(docLink);\n",
              "        }\n",
              "      </script>\n",
              "    </div>\n",
              "  </div>\n",
              "  "
            ],
            "text/plain": [
              "           Revenue   New_Visitor  ...   TrafficType    PageValues\n",
              "count  12328.00000  12328.000000  ...  12328.000000  12328.000000\n",
              "mean       0.15477      0.137330  ...      4.069922      5.890213\n",
              "std        0.36170      0.344209  ...      4.025409     18.569791\n",
              "min        0.00000      0.000000  ...      1.000000      0.000000\n",
              "25%        0.00000      0.000000  ...      2.000000      0.000000\n",
              "50%        0.00000      0.000000  ...      2.000000      0.000000\n",
              "75%        0.00000      0.000000  ...      4.000000      0.000000\n",
              "max        1.00000      1.000000  ...     20.000000    361.763742\n",
              "\n",
              "[8 rows x 13 columns]"
            ]
          },
          "metadata": {},
          "execution_count": 35
        }
      ]
    },
    {
      "cell_type": "markdown",
      "source": [
        "####Feature Scaling\n",
        "We do feature Scaling to improve the Machine Learning Performance and speed.\n",
        "In feature Scaling we use MinMaxScaler with range (0,10) to make sure that the prominence of the outliers is not lost and scale ProductRelated_Duration and Administrative_Duration and the MinMaxScaler again but this time with range (0,1) to scale the ProductRelated, PageValues and the Administrative_Duration column. "
      ],
      "metadata": {
        "id": "T0BZRP-T5QFM"
      }
    },
    {
      "cell_type": "code",
      "source": [
        "from sklearn.preprocessing import MinMaxScaler\n",
        "scaler = MinMaxScaler()\n",
        "scaler1 = MinMaxScaler(feature_range=(0,10))\n",
        "test3['ProductRelated'] = scaler.fit_transform(test3[['ProductRelated']])\n",
        "test3['ProductRelated_Duration'] = scaler1.fit_transform(test3[['ProductRelated_Duration']])\n",
        "test3['PageValues'] = scaler.fit_transform(test3[['PageValues']])\n",
        "test3['Administrative'] = scaler.fit_transform(test3[['Administrative']])\n",
        "test3['Administrative_Duration'] = scaler1.fit_transform(test3[['Administrative_Duration']])\n",
        "test3.head()"
      ],
      "metadata": {
        "colab": {
          "base_uri": "https://localhost:8080/",
          "height": 270
        },
        "id": "t8vJso9-5SbN",
        "outputId": "642be213-9428-4a0b-f48d-1539cc5e1ccf"
      },
      "execution_count": null,
      "outputs": [
        {
          "output_type": "execute_result",
          "data": {
            "text/html": [
              "\n",
              "  <div id=\"df-3745ebe0-5913-4c92-baf8-1618eb681274\">\n",
              "    <div class=\"colab-df-container\">\n",
              "      <div>\n",
              "<style scoped>\n",
              "    .dataframe tbody tr th:only-of-type {\n",
              "        vertical-align: middle;\n",
              "    }\n",
              "\n",
              "    .dataframe tbody tr th {\n",
              "        vertical-align: top;\n",
              "    }\n",
              "\n",
              "    .dataframe thead th {\n",
              "        text-align: right;\n",
              "    }\n",
              "</style>\n",
              "<table border=\"1\" class=\"dataframe\">\n",
              "  <thead>\n",
              "    <tr style=\"text-align: right;\">\n",
              "      <th></th>\n",
              "      <th>Revenue</th>\n",
              "      <th>New_Visitor</th>\n",
              "      <th>Other</th>\n",
              "      <th>Returning_Visitor</th>\n",
              "      <th>Administrative</th>\n",
              "      <th>Administrative_Duration</th>\n",
              "      <th>ProductRelated</th>\n",
              "      <th>ProductRelated_Duration</th>\n",
              "      <th>BounceRates</th>\n",
              "      <th>ExitRates</th>\n",
              "      <th>Region</th>\n",
              "      <th>TrafficType</th>\n",
              "      <th>PageValues</th>\n",
              "    </tr>\n",
              "  </thead>\n",
              "  <tbody>\n",
              "    <tr>\n",
              "      <th>0</th>\n",
              "      <td>0.0</td>\n",
              "      <td>0.0</td>\n",
              "      <td>0.0</td>\n",
              "      <td>1.0</td>\n",
              "      <td>0.0</td>\n",
              "      <td>0.0</td>\n",
              "      <td>0.000000</td>\n",
              "      <td>0.155450</td>\n",
              "      <td>0.20</td>\n",
              "      <td>0.20</td>\n",
              "      <td>1.0</td>\n",
              "      <td>1.0</td>\n",
              "      <td>0.0</td>\n",
              "    </tr>\n",
              "    <tr>\n",
              "      <th>1</th>\n",
              "      <td>0.0</td>\n",
              "      <td>0.0</td>\n",
              "      <td>0.0</td>\n",
              "      <td>1.0</td>\n",
              "      <td>0.0</td>\n",
              "      <td>0.0</td>\n",
              "      <td>0.001420</td>\n",
              "      <td>0.014709</td>\n",
              "      <td>0.00</td>\n",
              "      <td>0.10</td>\n",
              "      <td>1.0</td>\n",
              "      <td>2.0</td>\n",
              "      <td>0.0</td>\n",
              "    </tr>\n",
              "    <tr>\n",
              "      <th>2</th>\n",
              "      <td>0.0</td>\n",
              "      <td>0.0</td>\n",
              "      <td>0.0</td>\n",
              "      <td>1.0</td>\n",
              "      <td>0.0</td>\n",
              "      <td>0.0</td>\n",
              "      <td>0.000000</td>\n",
              "      <td>0.155450</td>\n",
              "      <td>0.20</td>\n",
              "      <td>0.20</td>\n",
              "      <td>9.0</td>\n",
              "      <td>3.0</td>\n",
              "      <td>0.0</td>\n",
              "    </tr>\n",
              "    <tr>\n",
              "      <th>3</th>\n",
              "      <td>0.0</td>\n",
              "      <td>0.0</td>\n",
              "      <td>0.0</td>\n",
              "      <td>1.0</td>\n",
              "      <td>0.0</td>\n",
              "      <td>0.0</td>\n",
              "      <td>0.001420</td>\n",
              "      <td>0.000502</td>\n",
              "      <td>0.05</td>\n",
              "      <td>0.14</td>\n",
              "      <td>2.0</td>\n",
              "      <td>4.0</td>\n",
              "      <td>0.0</td>\n",
              "    </tr>\n",
              "    <tr>\n",
              "      <th>4</th>\n",
              "      <td>0.0</td>\n",
              "      <td>0.0</td>\n",
              "      <td>0.0</td>\n",
              "      <td>1.0</td>\n",
              "      <td>0.0</td>\n",
              "      <td>0.0</td>\n",
              "      <td>0.012784</td>\n",
              "      <td>0.145237</td>\n",
              "      <td>0.02</td>\n",
              "      <td>0.05</td>\n",
              "      <td>1.0</td>\n",
              "      <td>4.0</td>\n",
              "      <td>0.0</td>\n",
              "    </tr>\n",
              "  </tbody>\n",
              "</table>\n",
              "</div>\n",
              "      <button class=\"colab-df-convert\" onclick=\"convertToInteractive('df-3745ebe0-5913-4c92-baf8-1618eb681274')\"\n",
              "              title=\"Convert this dataframe to an interactive table.\"\n",
              "              style=\"display:none;\">\n",
              "        \n",
              "  <svg xmlns=\"http://www.w3.org/2000/svg\" height=\"24px\"viewBox=\"0 0 24 24\"\n",
              "       width=\"24px\">\n",
              "    <path d=\"M0 0h24v24H0V0z\" fill=\"none\"/>\n",
              "    <path d=\"M18.56 5.44l.94 2.06.94-2.06 2.06-.94-2.06-.94-.94-2.06-.94 2.06-2.06.94zm-11 1L8.5 8.5l.94-2.06 2.06-.94-2.06-.94L8.5 2.5l-.94 2.06-2.06.94zm10 10l.94 2.06.94-2.06 2.06-.94-2.06-.94-.94-2.06-.94 2.06-2.06.94z\"/><path d=\"M17.41 7.96l-1.37-1.37c-.4-.4-.92-.59-1.43-.59-.52 0-1.04.2-1.43.59L10.3 9.45l-7.72 7.72c-.78.78-.78 2.05 0 2.83L4 21.41c.39.39.9.59 1.41.59.51 0 1.02-.2 1.41-.59l7.78-7.78 2.81-2.81c.8-.78.8-2.07 0-2.86zM5.41 20L4 18.59l7.72-7.72 1.47 1.35L5.41 20z\"/>\n",
              "  </svg>\n",
              "      </button>\n",
              "      \n",
              "  <style>\n",
              "    .colab-df-container {\n",
              "      display:flex;\n",
              "      flex-wrap:wrap;\n",
              "      gap: 12px;\n",
              "    }\n",
              "\n",
              "    .colab-df-convert {\n",
              "      background-color: #E8F0FE;\n",
              "      border: none;\n",
              "      border-radius: 50%;\n",
              "      cursor: pointer;\n",
              "      display: none;\n",
              "      fill: #1967D2;\n",
              "      height: 32px;\n",
              "      padding: 0 0 0 0;\n",
              "      width: 32px;\n",
              "    }\n",
              "\n",
              "    .colab-df-convert:hover {\n",
              "      background-color: #E2EBFA;\n",
              "      box-shadow: 0px 1px 2px rgba(60, 64, 67, 0.3), 0px 1px 3px 1px rgba(60, 64, 67, 0.15);\n",
              "      fill: #174EA6;\n",
              "    }\n",
              "\n",
              "    [theme=dark] .colab-df-convert {\n",
              "      background-color: #3B4455;\n",
              "      fill: #D2E3FC;\n",
              "    }\n",
              "\n",
              "    [theme=dark] .colab-df-convert:hover {\n",
              "      background-color: #434B5C;\n",
              "      box-shadow: 0px 1px 3px 1px rgba(0, 0, 0, 0.15);\n",
              "      filter: drop-shadow(0px 1px 2px rgba(0, 0, 0, 0.3));\n",
              "      fill: #FFFFFF;\n",
              "    }\n",
              "  </style>\n",
              "\n",
              "      <script>\n",
              "        const buttonEl =\n",
              "          document.querySelector('#df-3745ebe0-5913-4c92-baf8-1618eb681274 button.colab-df-convert');\n",
              "        buttonEl.style.display =\n",
              "          google.colab.kernel.accessAllowed ? 'block' : 'none';\n",
              "\n",
              "        async function convertToInteractive(key) {\n",
              "          const element = document.querySelector('#df-3745ebe0-5913-4c92-baf8-1618eb681274');\n",
              "          const dataTable =\n",
              "            await google.colab.kernel.invokeFunction('convertToInteractive',\n",
              "                                                     [key], {});\n",
              "          if (!dataTable) return;\n",
              "\n",
              "          const docLinkHtml = 'Like what you see? Visit the ' +\n",
              "            '<a target=\"_blank\" href=https://colab.research.google.com/notebooks/data_table.ipynb>data table notebook</a>'\n",
              "            + ' to learn more about interactive tables.';\n",
              "          element.innerHTML = '';\n",
              "          dataTable['output_type'] = 'display_data';\n",
              "          await google.colab.output.renderOutput(dataTable, element);\n",
              "          const docLink = document.createElement('div');\n",
              "          docLink.innerHTML = docLinkHtml;\n",
              "          element.appendChild(docLink);\n",
              "        }\n",
              "      </script>\n",
              "    </div>\n",
              "  </div>\n",
              "  "
            ],
            "text/plain": [
              "   Revenue  New_Visitor  Other  ...  Region  TrafficType  PageValues\n",
              "0      0.0          0.0    0.0  ...     1.0          1.0         0.0\n",
              "1      0.0          0.0    0.0  ...     1.0          2.0         0.0\n",
              "2      0.0          0.0    0.0  ...     9.0          3.0         0.0\n",
              "3      0.0          0.0    0.0  ...     2.0          4.0         0.0\n",
              "4      0.0          0.0    0.0  ...     1.0          4.0         0.0\n",
              "\n",
              "[5 rows x 13 columns]"
            ]
          },
          "metadata": {},
          "execution_count": 36
        }
      ]
    },
    {
      "cell_type": "code",
      "source": [
        "test3.describe()"
      ],
      "metadata": {
        "colab": {
          "base_uri": "https://localhost:8080/",
          "height": 364
        },
        "id": "8yJzm7hynAPH",
        "outputId": "6d28b806-0491-4f10-cf64-4dfce3edab04"
      },
      "execution_count": null,
      "outputs": [
        {
          "output_type": "execute_result",
          "data": {
            "text/html": [
              "\n",
              "  <div id=\"df-8c4e2672-61b0-4839-8e98-ce39f89d28d6\">\n",
              "    <div class=\"colab-df-container\">\n",
              "      <div>\n",
              "<style scoped>\n",
              "    .dataframe tbody tr th:only-of-type {\n",
              "        vertical-align: middle;\n",
              "    }\n",
              "\n",
              "    .dataframe tbody tr th {\n",
              "        vertical-align: top;\n",
              "    }\n",
              "\n",
              "    .dataframe thead th {\n",
              "        text-align: right;\n",
              "    }\n",
              "</style>\n",
              "<table border=\"1\" class=\"dataframe\">\n",
              "  <thead>\n",
              "    <tr style=\"text-align: right;\">\n",
              "      <th></th>\n",
              "      <th>Revenue</th>\n",
              "      <th>New_Visitor</th>\n",
              "      <th>Other</th>\n",
              "      <th>Returning_Visitor</th>\n",
              "      <th>Administrative</th>\n",
              "      <th>Administrative_Duration</th>\n",
              "      <th>ProductRelated</th>\n",
              "      <th>ProductRelated_Duration</th>\n",
              "      <th>BounceRates</th>\n",
              "      <th>ExitRates</th>\n",
              "      <th>Region</th>\n",
              "      <th>TrafficType</th>\n",
              "      <th>PageValues</th>\n",
              "    </tr>\n",
              "  </thead>\n",
              "  <tbody>\n",
              "    <tr>\n",
              "      <th>count</th>\n",
              "      <td>12328.00000</td>\n",
              "      <td>12328.000000</td>\n",
              "      <td>12328.000000</td>\n",
              "      <td>12328.000000</td>\n",
              "      <td>12328.000000</td>\n",
              "      <td>12328.000000</td>\n",
              "      <td>12328.000000</td>\n",
              "      <td>12328.000000</td>\n",
              "      <td>12328.000000</td>\n",
              "      <td>12328.000000</td>\n",
              "      <td>12328.000000</td>\n",
              "      <td>12328.000000</td>\n",
              "      <td>12328.000000</td>\n",
              "    </tr>\n",
              "    <tr>\n",
              "      <th>mean</th>\n",
              "      <td>0.15477</td>\n",
              "      <td>0.137330</td>\n",
              "      <td>0.006895</td>\n",
              "      <td>0.855775</td>\n",
              "      <td>0.085746</td>\n",
              "      <td>0.296107</td>\n",
              "      <td>0.043747</td>\n",
              "      <td>0.285003</td>\n",
              "      <td>0.022195</td>\n",
              "      <td>0.043072</td>\n",
              "      <td>3.147713</td>\n",
              "      <td>4.069922</td>\n",
              "      <td>0.016282</td>\n",
              "    </tr>\n",
              "    <tr>\n",
              "      <th>std</th>\n",
              "      <td>0.36170</td>\n",
              "      <td>0.344209</td>\n",
              "      <td>0.082752</td>\n",
              "      <td>0.351332</td>\n",
              "      <td>0.123033</td>\n",
              "      <td>0.640499</td>\n",
              "      <td>0.062904</td>\n",
              "      <td>0.418934</td>\n",
              "      <td>0.048491</td>\n",
              "      <td>0.048600</td>\n",
              "      <td>2.401630</td>\n",
              "      <td>4.025409</td>\n",
              "      <td>0.051331</td>\n",
              "    </tr>\n",
              "    <tr>\n",
              "      <th>min</th>\n",
              "      <td>0.00000</td>\n",
              "      <td>0.000000</td>\n",
              "      <td>0.000000</td>\n",
              "      <td>0.000000</td>\n",
              "      <td>0.000000</td>\n",
              "      <td>0.000000</td>\n",
              "      <td>0.000000</td>\n",
              "      <td>0.000000</td>\n",
              "      <td>0.000000</td>\n",
              "      <td>0.000000</td>\n",
              "      <td>1.000000</td>\n",
              "      <td>1.000000</td>\n",
              "      <td>0.000000</td>\n",
              "    </tr>\n",
              "    <tr>\n",
              "      <th>25%</th>\n",
              "      <td>0.00000</td>\n",
              "      <td>0.000000</td>\n",
              "      <td>0.000000</td>\n",
              "      <td>1.000000</td>\n",
              "      <td>0.000000</td>\n",
              "      <td>0.000000</td>\n",
              "      <td>0.008523</td>\n",
              "      <td>0.060800</td>\n",
              "      <td>0.000000</td>\n",
              "      <td>0.014286</td>\n",
              "      <td>1.000000</td>\n",
              "      <td>2.000000</td>\n",
              "      <td>0.000000</td>\n",
              "    </tr>\n",
              "    <tr>\n",
              "      <th>50%</th>\n",
              "      <td>0.00000</td>\n",
              "      <td>0.000000</td>\n",
              "      <td>0.000000</td>\n",
              "      <td>1.000000</td>\n",
              "      <td>0.037037</td>\n",
              "      <td>0.027568</td>\n",
              "      <td>0.024148</td>\n",
              "      <td>0.155450</td>\n",
              "      <td>0.003119</td>\n",
              "      <td>0.025146</td>\n",
              "      <td>3.000000</td>\n",
              "      <td>2.000000</td>\n",
              "      <td>0.000000</td>\n",
              "    </tr>\n",
              "    <tr>\n",
              "      <th>75%</th>\n",
              "      <td>0.00000</td>\n",
              "      <td>0.000000</td>\n",
              "      <td>0.000000</td>\n",
              "      <td>1.000000</td>\n",
              "      <td>0.148148</td>\n",
              "      <td>0.342469</td>\n",
              "      <td>0.052557</td>\n",
              "      <td>0.339015</td>\n",
              "      <td>0.016830</td>\n",
              "      <td>0.050000</td>\n",
              "      <td>4.000000</td>\n",
              "      <td>4.000000</td>\n",
              "      <td>0.000000</td>\n",
              "    </tr>\n",
              "    <tr>\n",
              "      <th>max</th>\n",
              "      <td>1.00000</td>\n",
              "      <td>1.000000</td>\n",
              "      <td>1.000000</td>\n",
              "      <td>1.000000</td>\n",
              "      <td>1.000000</td>\n",
              "      <td>10.000000</td>\n",
              "      <td>1.000000</td>\n",
              "      <td>10.000000</td>\n",
              "      <td>0.200000</td>\n",
              "      <td>0.200000</td>\n",
              "      <td>9.000000</td>\n",
              "      <td>20.000000</td>\n",
              "      <td>1.000000</td>\n",
              "    </tr>\n",
              "  </tbody>\n",
              "</table>\n",
              "</div>\n",
              "      <button class=\"colab-df-convert\" onclick=\"convertToInteractive('df-8c4e2672-61b0-4839-8e98-ce39f89d28d6')\"\n",
              "              title=\"Convert this dataframe to an interactive table.\"\n",
              "              style=\"display:none;\">\n",
              "        \n",
              "  <svg xmlns=\"http://www.w3.org/2000/svg\" height=\"24px\"viewBox=\"0 0 24 24\"\n",
              "       width=\"24px\">\n",
              "    <path d=\"M0 0h24v24H0V0z\" fill=\"none\"/>\n",
              "    <path d=\"M18.56 5.44l.94 2.06.94-2.06 2.06-.94-2.06-.94-.94-2.06-.94 2.06-2.06.94zm-11 1L8.5 8.5l.94-2.06 2.06-.94-2.06-.94L8.5 2.5l-.94 2.06-2.06.94zm10 10l.94 2.06.94-2.06 2.06-.94-2.06-.94-.94-2.06-.94 2.06-2.06.94z\"/><path d=\"M17.41 7.96l-1.37-1.37c-.4-.4-.92-.59-1.43-.59-.52 0-1.04.2-1.43.59L10.3 9.45l-7.72 7.72c-.78.78-.78 2.05 0 2.83L4 21.41c.39.39.9.59 1.41.59.51 0 1.02-.2 1.41-.59l7.78-7.78 2.81-2.81c.8-.78.8-2.07 0-2.86zM5.41 20L4 18.59l7.72-7.72 1.47 1.35L5.41 20z\"/>\n",
              "  </svg>\n",
              "      </button>\n",
              "      \n",
              "  <style>\n",
              "    .colab-df-container {\n",
              "      display:flex;\n",
              "      flex-wrap:wrap;\n",
              "      gap: 12px;\n",
              "    }\n",
              "\n",
              "    .colab-df-convert {\n",
              "      background-color: #E8F0FE;\n",
              "      border: none;\n",
              "      border-radius: 50%;\n",
              "      cursor: pointer;\n",
              "      display: none;\n",
              "      fill: #1967D2;\n",
              "      height: 32px;\n",
              "      padding: 0 0 0 0;\n",
              "      width: 32px;\n",
              "    }\n",
              "\n",
              "    .colab-df-convert:hover {\n",
              "      background-color: #E2EBFA;\n",
              "      box-shadow: 0px 1px 2px rgba(60, 64, 67, 0.3), 0px 1px 3px 1px rgba(60, 64, 67, 0.15);\n",
              "      fill: #174EA6;\n",
              "    }\n",
              "\n",
              "    [theme=dark] .colab-df-convert {\n",
              "      background-color: #3B4455;\n",
              "      fill: #D2E3FC;\n",
              "    }\n",
              "\n",
              "    [theme=dark] .colab-df-convert:hover {\n",
              "      background-color: #434B5C;\n",
              "      box-shadow: 0px 1px 3px 1px rgba(0, 0, 0, 0.15);\n",
              "      filter: drop-shadow(0px 1px 2px rgba(0, 0, 0, 0.3));\n",
              "      fill: #FFFFFF;\n",
              "    }\n",
              "  </style>\n",
              "\n",
              "      <script>\n",
              "        const buttonEl =\n",
              "          document.querySelector('#df-8c4e2672-61b0-4839-8e98-ce39f89d28d6 button.colab-df-convert');\n",
              "        buttonEl.style.display =\n",
              "          google.colab.kernel.accessAllowed ? 'block' : 'none';\n",
              "\n",
              "        async function convertToInteractive(key) {\n",
              "          const element = document.querySelector('#df-8c4e2672-61b0-4839-8e98-ce39f89d28d6');\n",
              "          const dataTable =\n",
              "            await google.colab.kernel.invokeFunction('convertToInteractive',\n",
              "                                                     [key], {});\n",
              "          if (!dataTable) return;\n",
              "\n",
              "          const docLinkHtml = 'Like what you see? Visit the ' +\n",
              "            '<a target=\"_blank\" href=https://colab.research.google.com/notebooks/data_table.ipynb>data table notebook</a>'\n",
              "            + ' to learn more about interactive tables.';\n",
              "          element.innerHTML = '';\n",
              "          dataTable['output_type'] = 'display_data';\n",
              "          await google.colab.output.renderOutput(dataTable, element);\n",
              "          const docLink = document.createElement('div');\n",
              "          docLink.innerHTML = docLinkHtml;\n",
              "          element.appendChild(docLink);\n",
              "        }\n",
              "      </script>\n",
              "    </div>\n",
              "  </div>\n",
              "  "
            ],
            "text/plain": [
              "           Revenue   New_Visitor  ...   TrafficType    PageValues\n",
              "count  12328.00000  12328.000000  ...  12328.000000  12328.000000\n",
              "mean       0.15477      0.137330  ...      4.069922      0.016282\n",
              "std        0.36170      0.344209  ...      4.025409      0.051331\n",
              "min        0.00000      0.000000  ...      1.000000      0.000000\n",
              "25%        0.00000      0.000000  ...      2.000000      0.000000\n",
              "50%        0.00000      0.000000  ...      2.000000      0.000000\n",
              "75%        0.00000      0.000000  ...      4.000000      0.000000\n",
              "max        1.00000      1.000000  ...     20.000000      1.000000\n",
              "\n",
              "[8 rows x 13 columns]"
            ]
          },
          "metadata": {},
          "execution_count": 37
        }
      ]
    },
    {
      "cell_type": "markdown",
      "source": [
        "###Model Implementation\n",
        "Now that we've completed Data Exploration and Data Preprocessing, we move onto building various models and implementing them. And since our target value is categorical, We use classifiers to model data. First we split the dataset into training and testing datasets using the train_test_split function and then continue with the modelling. As seen from the correlation heatmap, the PageValues, ProductRealted_Duration and the ProductRelated have the highest correlation with the target variable Revenue. Along with these 3 attributes, the Target variable Revenue also has positive correlation with Administrative and AdministrativeDuration columns. So we fit first split all these variables into training and testing datasets and then go onto model fitting and predicting."
      ],
      "metadata": {
        "id": "X3Sa7jaRF3Pv"
      }
    },
    {
      "cell_type": "code",
      "source": [
        "from sklearn.model_selection import train_test_split\n",
        "X1 = test3.iloc[:, [4,5,6,7,12]].values\n",
        "y1 = test3.iloc[:,[0]].values\n",
        "X_train1, X_test1, y_train1, y_test1 = train_test_split(X1, y1, test_size = 0.25, random_state =69)"
      ],
      "metadata": {
        "id": "dqKAqfAcxOjQ"
      },
      "execution_count": null,
      "outputs": []
    },
    {
      "cell_type": "markdown",
      "source": [
        "####Logistic Regression"
      ],
      "metadata": {
        "id": "qp8G7lOvTETu"
      }
    },
    {
      "cell_type": "markdown",
      "source": [
        "\n",
        "ALthough it has regression in its name, in its basic form Logistic regression is used to model linear data and for our data we use Logistic regression model to classify the target data 'Revenue' according to the various attributes in the dataset such as 'ProductRelated_Duration', 'PageValues', 'ProductRelated', 'Administrative', 'Administrative_Duration' to predict the purchasing intention of the user."
      ],
      "metadata": {
        "id": "llY2hneXqwqT"
      }
    },
    {
      "cell_type": "code",
      "source": [
        "from sklearn.linear_model import LogisticRegression\n",
        "log1 = LogisticRegression(solver = 'sag', random_state = 23)\n",
        "log1.fit(X_train1,y_train1.ravel())"
      ],
      "metadata": {
        "colab": {
          "base_uri": "https://localhost:8080/"
        },
        "id": "_euGgIvRY27p",
        "outputId": "7896e608-8f71-462b-b6e3-95b817be6931"
      },
      "execution_count": null,
      "outputs": [
        {
          "output_type": "execute_result",
          "data": {
            "text/plain": [
              "LogisticRegression(random_state=23, solver='sag')"
            ]
          },
          "metadata": {},
          "execution_count": 39
        }
      ]
    },
    {
      "cell_type": "code",
      "source": [
        "from sklearn.metrics import accuracy_score\n",
        "pred = log1.predict(X_test1)\n",
        "print(accuracy_score(y_test1, pred))"
      ],
      "metadata": {
        "colab": {
          "base_uri": "https://localhost:8080/"
        },
        "id": "ixK0gSa5yS6V",
        "outputId": "84f226f7-4a43-45cd-b2d6-237cf6b53154"
      },
      "execution_count": null,
      "outputs": [
        {
          "output_type": "stream",
          "name": "stdout",
          "text": [
            "0.844905905256327\n"
          ]
        }
      ]
    },
    {
      "cell_type": "markdown",
      "source": [
        "####Support Vector Machines \n",
        "Since the output class is binary, we use support vector machines with hyperparameter optimisation using gridsearch to classify the dataset. And since PageValues has the highest correlation with the target variable, we use this columns to predict the target variable because including the other variables will increase the processing time drastically and will consume atleast 4 hours to complete the processing.\n"
      ],
      "metadata": {
        "id": "O-MCwRbxXEip"
      }
    },
    {
      "cell_type": "code",
      "source": [
        "from sklearn.pipeline import Pipeline\n",
        "from sklearn.preprocessing import PolynomialFeatures\n",
        "from sklearn.preprocessing import StandardScaler\n",
        "from sklearn.model_selection import RepeatedStratifiedKFold\n",
        "from sklearn.model_selection import GridSearchCV\n",
        "from sklearn.svm import SVC\n",
        "X2 = test3.iloc[:, [6,7,12]].values\n",
        "y2 = test3.iloc[:, [0]].values\n",
        "\n",
        "parameters = {'kernel':('linear','rbf'),'gamma':[1,5,7],'C':[0.001,0.1,10]}\n",
        "model = SVC(kernel = \"rbf\")\n",
        "cv = RepeatedStratifiedKFold(n_splits = 7, n_repeats= 5, random_state = 4)\n",
        "search = GridSearchCV(model, parameters, scoring = 'accuracy', n_jobs=-1, cv=cv)\n",
        "result = search.fit(X2, y2)"
      ],
      "metadata": {
        "id": "-3v-77RPviW1",
        "colab": {
          "base_uri": "https://localhost:8080/"
        },
        "outputId": "fc547a4a-5aab-4daa-80cb-c4f2e2b6c94f"
      },
      "execution_count": null,
      "outputs": [
        {
          "output_type": "stream",
          "name": "stderr",
          "text": [
            "/usr/local/lib/python3.7/dist-packages/sklearn/utils/validation.py:985: DataConversionWarning: A column-vector y was passed when a 1d array was expected. Please change the shape of y to (n_samples, ), for example using ravel().\n",
            "  y = column_or_1d(y, warn=True)\n"
          ]
        }
      ]
    },
    {
      "cell_type": "code",
      "source": [
        "print('Best Score :%s' % result.best_score_)\n",
        "print('Best Hyperparameters : %s' % result.best_params_)"
      ],
      "metadata": {
        "id": "YNpg9wZCzZXx",
        "colab": {
          "base_uri": "https://localhost:8080/"
        },
        "outputId": "208ef339-da3b-460c-e9dd-85aa00143d65"
      },
      "execution_count": null,
      "outputs": [
        {
          "output_type": "stream",
          "name": "stdout",
          "text": [
            "Best Score :0.8606423594949102\n",
            "Best Hyperparameters : {'C': 10, 'gamma': 7, 'kernel': 'rbf'}\n"
          ]
        }
      ]
    },
    {
      "cell_type": "markdown",
      "source": [
        "#### Decision Trees"
      ],
      "metadata": {
        "id": "eAUFdxgEVWv_"
      }
    },
    {
      "cell_type": "markdown",
      "source": [
        "For the last classifier, we use decision trees which uses tree like struvture to classify the dataset."
      ],
      "metadata": {
        "id": "ZZv3FirmtMQQ"
      }
    },
    {
      "cell_type": "code",
      "source": [
        "from sklearn.tree import DecisionTreeClassifier\n",
        "tree_clf = DecisionTreeClassifier(max_depth = 10, random_state = 35)\n",
        "tree_clf.fit(X_train1, y_train1.ravel())\n",
        "predi = tree_clf.predict(X_test1)\n",
        "print(accuracy_score(y_test1, predi))\n"
      ],
      "metadata": {
        "colab": {
          "base_uri": "https://localhost:8080/"
        },
        "id": "0ExAL_1gogsG",
        "outputId": "397c4dd2-757d-43b7-ebb8-ecdbca05fd86"
      },
      "execution_count": null,
      "outputs": [
        {
          "output_type": "stream",
          "name": "stdout",
          "text": [
            "0.844905905256327\n"
          ]
        }
      ]
    },
    {
      "cell_type": "code",
      "source": [
        "from sklearn.tree import plot_tree\n",
        "plot_tree(tree_clf, filled = True)"
      ],
      "metadata": {
        "colab": {
          "base_uri": "https://localhost:8080/",
          "height": 1000
        },
        "id": "fm_41Lc6pLVw",
        "outputId": "02145b74-cfec-4a23-f779-754a5bbc1ce6"
      },
      "execution_count": null,
      "outputs": [
        {
          "output_type": "execute_result",
          "data": {
            "text/plain": [
              "[Text(165.35128435352905, 207.55636363636364, 'X[4] <= 0.01\\ngini = 0.262\\nsamples = 9246\\nvalue = [7810, 1436]'),\n",
              " Text(100.90659743910057, 187.7890909090909, 'X[4] <= 0.0\\ngini = 0.156\\nsamples = 7444\\nvalue = [6808, 636]'),\n",
              " Text(77.68782011242973, 168.0218181818182, 'X[3] <= 0.913\\ngini = 0.148\\nsamples = 7213\\nvalue = [6632, 581]'),\n",
              " Text(54.65855715178014, 148.25454545454545, 'X[3] <= 0.174\\ngini = 0.144\\nsamples = 6959\\nvalue = [6416, 543]'),\n",
              " Text(32.361211742660835, 128.48727272727274, 'X[2] <= 0.006\\ngini = 0.134\\nsamples = 4717\\nvalue = [4377, 340]'),\n",
              " Text(15.579387882573391, 108.72, 'X[1] <= 0.035\\ngini = 0.157\\nsamples = 1696\\nvalue = [1550, 146]'),\n",
              " Text(8.155652717051842, 88.95272727272729, 'X[3] <= 0.004\\ngini = 0.143\\nsamples = 1403\\nvalue = [1294, 109]'),\n",
              " Text(5.437101811367895, 69.18545454545455, 'X[1] <= 0.015\\ngini = 0.081\\nsamples = 141\\nvalue = [135, 6]'),\n",
              " Text(3.3459088069956278, 49.418181818181836, 'X[3] <= 0.002\\ngini = 0.071\\nsamples = 136\\nvalue = [131, 5]'),\n",
              " Text(1.6729544034978139, 29.650909090909096, 'X[3] <= 0.002\\ngini = 0.14\\nsamples = 53\\nvalue = [49, 4]'),\n",
              " Text(0.8364772017489069, 9.883636363636384, 'gini = 0.0\\nsamples = 23\\nvalue = [23, 0]'),\n",
              " Text(2.509431605246721, 9.883636363636384, 'gini = 0.231\\nsamples = 30\\nvalue = [26, 4]'),\n",
              " Text(5.018863210493442, 29.650909090909096, 'X[3] <= 0.004\\ngini = 0.024\\nsamples = 83\\nvalue = [82, 1]'),\n",
              " Text(4.182386008744535, 9.883636363636384, 'gini = 0.0\\nsamples = 46\\nvalue = [46, 0]'),\n",
              " Text(5.855340412242349, 9.883636363636384, 'gini = 0.053\\nsamples = 37\\nvalue = [36, 1]'),\n",
              " Text(7.528294815740162, 49.418181818181836, 'X[1] <= 0.017\\ngini = 0.32\\nsamples = 5\\nvalue = [4, 1]'),\n",
              " Text(6.6918176139912555, 29.650909090909096, 'gini = 0.0\\nsamples = 1\\nvalue = [0, 1]'),\n",
              " Text(8.36477201748907, 29.650909090909096, 'gini = 0.0\\nsamples = 4\\nvalue = [4, 0]'),\n",
              " Text(10.87420362273579, 69.18545454545455, 'X[3] <= 0.004\\ngini = 0.15\\nsamples = 1262\\nvalue = [1159, 103]'),\n",
              " Text(10.037726420986884, 49.418181818181836, 'gini = 0.0\\nsamples = 1\\nvalue = [0, 1]'),\n",
              " Text(11.710680824484697, 49.418181818181836, 'X[3] <= 0.006\\ngini = 0.149\\nsamples = 1261\\nvalue = [1159, 102]'),\n",
              " Text(10.037726420986884, 29.650909090909096, 'X[3] <= 0.006\\ngini = 0.236\\nsamples = 44\\nvalue = [38, 6]'),\n",
              " Text(9.201249219237976, 9.883636363636384, 'gini = 0.176\\nsamples = 41\\nvalue = [37, 4]'),\n",
              " Text(10.87420362273579, 9.883636363636384, 'gini = 0.444\\nsamples = 3\\nvalue = [1, 2]'),\n",
              " Text(13.383635227982511, 29.650909090909096, 'X[3] <= 0.012\\ngini = 0.145\\nsamples = 1217\\nvalue = [1121, 96]'),\n",
              " Text(12.547158026233603, 9.883636363636384, 'gini = 0.098\\nsamples = 174\\nvalue = [165, 9]'),\n",
              " Text(14.220112429731419, 9.883636363636384, 'gini = 0.153\\nsamples = 1043\\nvalue = [956, 87]'),\n",
              " Text(23.003123048094942, 88.95272727272729, 'X[1] <= 0.06\\ngini = 0.221\\nsamples = 293\\nvalue = [256, 37]'),\n",
              " Text(17.566021236727046, 69.18545454545455, 'X[0] <= 0.056\\ngini = 0.459\\nsamples = 14\\nvalue = [9, 5]'),\n",
              " Text(16.72954403497814, 49.418181818181836, 'gini = 0.0\\nsamples = 5\\nvalue = [5, 0]'),\n",
              " Text(18.402498438475952, 49.418181818181836, 'X[2] <= 0.004\\ngini = 0.494\\nsamples = 9\\nvalue = [4, 5]'),\n",
              " Text(16.72954403497814, 29.650909090909096, 'X[1] <= 0.053\\ngini = 0.32\\nsamples = 5\\nvalue = [1, 4]'),\n",
              " Text(15.893066833229232, 9.883636363636384, 'gini = 0.0\\nsamples = 3\\nvalue = [0, 3]'),\n",
              " Text(17.566021236727046, 9.883636363636384, 'gini = 0.5\\nsamples = 2\\nvalue = [1, 1]'),\n",
              " Text(20.075452841973767, 29.650909090909096, 'X[1] <= 0.056\\ngini = 0.375\\nsamples = 4\\nvalue = [3, 1]'),\n",
              " Text(19.238975640224858, 9.883636363636384, 'gini = 0.0\\nsamples = 3\\nvalue = [3, 0]'),\n",
              " Text(20.911930043722673, 9.883636363636384, 'gini = 0.0\\nsamples = 1\\nvalue = [0, 1]'),\n",
              " Text(28.440224859462838, 69.18545454545455, 'X[1] <= 0.328\\ngini = 0.203\\nsamples = 279\\nvalue = [247, 32]'),\n",
              " Text(25.094316052467207, 49.418181818181836, 'X[1] <= 0.311\\ngini = 0.252\\nsamples = 169\\nvalue = [144, 25]'),\n",
              " Text(23.421361648969395, 29.650909090909096, 'X[2] <= 0.001\\ngini = 0.231\\nsamples = 165\\nvalue = [143, 22]'),\n",
              " Text(22.58488444722049, 9.883636363636384, 'gini = 0.5\\nsamples = 6\\nvalue = [3, 3]'),\n",
              " Text(24.2578388507183, 9.883636363636384, 'gini = 0.21\\nsamples = 159\\nvalue = [140, 19]'),\n",
              " Text(26.767270455965022, 29.650909090909096, 'X[0] <= 0.185\\ngini = 0.375\\nsamples = 4\\nvalue = [1, 3]'),\n",
              " Text(25.930793254216116, 9.883636363636384, 'gini = 0.0\\nsamples = 3\\nvalue = [0, 3]'),\n",
              " Text(27.603747657713928, 9.883636363636384, 'gini = 0.0\\nsamples = 1\\nvalue = [1, 0]'),\n",
              " Text(31.786133666458465, 49.418181818181836, 'X[0] <= 0.407\\ngini = 0.119\\nsamples = 110\\nvalue = [103, 7]'),\n",
              " Text(30.11317926296065, 29.650909090909096, 'X[0] <= 0.204\\ngini = 0.105\\nsamples = 108\\nvalue = [102, 6]'),\n",
              " Text(29.276702061211743, 9.883636363636384, 'gini = 0.067\\nsamples = 87\\nvalue = [84, 3]'),\n",
              " Text(30.949656464709555, 9.883636363636384, 'gini = 0.245\\nsamples = 21\\nvalue = [18, 3]'),\n",
              " Text(33.45908806995628, 29.650909090909096, 'X[2] <= 0.004\\ngini = 0.5\\nsamples = 2\\nvalue = [1, 1]'),\n",
              " Text(32.62261086820737, 9.883636363636384, 'gini = 0.0\\nsamples = 1\\nvalue = [0, 1]'),\n",
              " Text(34.295565271705186, 9.883636363636384, 'gini = 0.0\\nsamples = 1\\nvalue = [1, 0]'),\n",
              " Text(49.143035602748284, 108.72, 'X[3] <= 0.025\\ngini = 0.12\\nsamples = 3021\\nvalue = [2827, 194]'),\n",
              " Text(43.287695190505936, 88.95272727272729, 'X[1] <= 0.319\\ngini = 0.058\\nsamples = 267\\nvalue = [259, 8]'),\n",
              " Text(39.73266708307308, 69.18545454545455, 'X[3] <= 0.019\\ngini = 0.04\\nsamples = 243\\nvalue = [238, 5]'),\n",
              " Text(37.64147407870081, 49.418181818181836, 'X[3] <= 0.012\\ngini = 0.013\\nsamples = 149\\nvalue = [148, 1]'),\n",
              " Text(36.804996876951904, 29.650909090909096, 'X[3] <= 0.012\\ngini = 0.042\\nsamples = 47\\nvalue = [46, 1]'),\n",
              " Text(35.968519675203, 9.883636363636384, 'gini = 0.0\\nsamples = 44\\nvalue = [44, 0]'),\n",
              " Text(37.64147407870081, 9.883636363636384, 'gini = 0.444\\nsamples = 3\\nvalue = [2, 1]'),\n",
              " Text(38.477951280449716, 29.650909090909096, 'gini = 0.0\\nsamples = 102\\nvalue = [102, 0]'),\n",
              " Text(41.82386008744535, 49.418181818181836, 'X[3] <= 0.02\\ngini = 0.081\\nsamples = 94\\nvalue = [90, 4]'),\n",
              " Text(40.150905683947535, 29.650909090909096, 'X[3] <= 0.02\\ngini = 0.32\\nsamples = 10\\nvalue = [8, 2]'),\n",
              " Text(39.31442848219863, 9.883636363636384, 'gini = 0.198\\nsamples = 9\\nvalue = [8, 1]'),\n",
              " Text(40.98738288569644, 9.883636363636384, 'gini = 0.0\\nsamples = 1\\nvalue = [0, 1]'),\n",
              " Text(43.49681449094316, 29.650909090909096, 'X[0] <= 0.13\\ngini = 0.046\\nsamples = 84\\nvalue = [82, 2]'),\n",
              " Text(42.66033728919425, 9.883636363636384, 'gini = 0.025\\nsamples = 80\\nvalue = [79, 1]'),\n",
              " Text(44.333291692692065, 9.883636363636384, 'gini = 0.375\\nsamples = 4\\nvalue = [3, 1]'),\n",
              " Text(46.84272329793879, 69.18545454545455, 'X[1] <= 0.344\\ngini = 0.219\\nsamples = 24\\nvalue = [21, 3]'),\n",
              " Text(46.006246096189884, 49.418181818181836, 'gini = 0.0\\nsamples = 1\\nvalue = [0, 1]'),\n",
              " Text(47.679200499687695, 49.418181818181836, 'X[1] <= 0.452\\ngini = 0.159\\nsamples = 23\\nvalue = [21, 2]'),\n",
              " Text(46.84272329793879, 29.650909090909096, 'X[1] <= 0.379\\ngini = 0.408\\nsamples = 7\\nvalue = [5, 2]'),\n",
              " Text(46.006246096189884, 9.883636363636384, 'gini = 0.0\\nsamples = 4\\nvalue = [4, 0]'),\n",
              " Text(47.679200499687695, 9.883636363636384, 'gini = 0.444\\nsamples = 3\\nvalue = [1, 2]'),\n",
              " Text(48.5156777014366, 29.650909090909096, 'gini = 0.0\\nsamples = 16\\nvalue = [16, 0]'),\n",
              " Text(54.99837601499063, 88.95272727272729, 'X[3] <= 0.025\\ngini = 0.126\\nsamples = 2754\\nvalue = [2568, 186]'),\n",
              " Text(51.86158650843223, 69.18545454545455, 'X[3] <= 0.025\\ngini = 0.494\\nsamples = 9\\nvalue = [5, 4]'),\n",
              " Text(51.025109306683326, 49.418181818181836, 'X[1] <= 0.281\\ngini = 0.408\\nsamples = 7\\nvalue = [5, 2]'),\n",
              " Text(50.18863210493441, 29.650909090909096, 'gini = 0.0\\nsamples = 4\\nvalue = [4, 0]'),\n",
              " Text(51.86158650843223, 29.650909090909096, 'X[1] <= 0.676\\ngini = 0.444\\nsamples = 3\\nvalue = [1, 2]'),\n",
              " Text(51.025109306683326, 9.883636363636384, 'gini = 0.0\\nsamples = 2\\nvalue = [0, 2]'),\n",
              " Text(52.69806371018114, 9.883636363636384, 'gini = 0.0\\nsamples = 1\\nvalue = [1, 0]'),\n",
              " Text(52.69806371018114, 49.418181818181836, 'gini = 0.0\\nsamples = 2\\nvalue = [0, 2]'),\n",
              " Text(58.135165521549034, 69.18545454545455, 'X[3] <= 0.099\\ngini = 0.124\\nsamples = 2745\\nvalue = [2563, 182]'),\n",
              " Text(56.04397251717676, 49.418181818181836, 'X[3] <= 0.099\\ngini = 0.138\\nsamples = 1655\\nvalue = [1532, 123]'),\n",
              " Text(55.207495315427856, 29.650909090909096, 'X[3] <= 0.047\\ngini = 0.137\\nsamples = 1654\\nvalue = [1532, 122]'),\n",
              " Text(54.37101811367895, 9.883636363636384, 'gini = 0.101\\nsamples = 546\\nvalue = [517, 29]'),\n",
              " Text(56.04397251717676, 9.883636363636384, 'gini = 0.154\\nsamples = 1108\\nvalue = [1015, 93]'),\n",
              " Text(56.880449718925675, 29.650909090909096, 'gini = 0.0\\nsamples = 1\\nvalue = [0, 1]'),\n",
              " Text(60.2263585259213, 49.418181818181836, 'X[3] <= 0.114\\ngini = 0.102\\nsamples = 1090\\nvalue = [1031, 59]'),\n",
              " Text(58.55340412242349, 29.650909090909096, 'X[2] <= 0.032\\ngini = 0.051\\nsamples = 265\\nvalue = [258, 7]'),\n",
              " Text(57.71692692067458, 9.883636363636384, 'gini = 0.07\\nsamples = 194\\nvalue = [187, 7]'),\n",
              " Text(59.38988132417239, 9.883636363636384, 'gini = 0.0\\nsamples = 71\\nvalue = [71, 0]'),\n",
              " Text(61.89931292941911, 29.650909090909096, 'X[3] <= 0.114\\ngini = 0.118\\nsamples = 825\\nvalue = [773, 52]'),\n",
              " Text(61.062835727670205, 9.883636363636384, 'gini = 0.444\\nsamples = 3\\nvalue = [1, 2]'),\n",
              " Text(62.735790131168024, 9.883636363636384, 'gini = 0.114\\nsamples = 822\\nvalue = [772, 50]'),\n",
              " Text(76.95590256089943, 128.48727272727274, 'X[3] <= 0.174\\ngini = 0.165\\nsamples = 2242\\nvalue = [2039, 203]'),\n",
              " Text(76.11942535915053, 108.72, 'gini = 0.0\\nsamples = 1\\nvalue = [0, 1]'),\n",
              " Text(77.79237976264835, 108.72, 'X[2] <= 0.157\\ngini = 0.164\\nsamples = 2241\\nvalue = [2039, 202]'),\n",
              " Text(76.95590256089943, 88.95272727272729, 'X[0] <= 0.241\\ngini = 0.167\\nsamples = 2192\\nvalue = [1990, 202]'),\n",
              " Text(70.26408494690818, 69.18545454545455, 'X[0] <= 0.056\\ngini = 0.16\\nsamples = 1978\\nvalue = [1804, 174]'),\n",
              " Text(66.91817613991256, 49.418181818181836, 'X[2] <= 0.11\\ngini = 0.183\\nsamples = 1204\\nvalue = [1081, 123]'),\n",
              " Text(65.24522173641473, 29.650909090909096, 'X[3] <= 0.66\\ngini = 0.173\\nsamples = 1127\\nvalue = [1019, 108]'),\n",
              " Text(64.40874453466583, 9.883636363636384, 'gini = 0.181\\nsamples = 1066\\nvalue = [959, 107]'),\n",
              " Text(66.08169893816365, 9.883636363636384, 'gini = 0.032\\nsamples = 61\\nvalue = [60, 1]'),\n",
              " Text(68.59113054341037, 29.650909090909096, 'X[3] <= 0.506\\ngini = 0.314\\nsamples = 77\\nvalue = [62, 15]'),\n",
              " Text(67.75465334166147, 9.883636363636384, 'gini = 0.074\\nsamples = 26\\nvalue = [25, 1]'),\n",
              " Text(69.42760774515928, 9.883636363636384, 'gini = 0.398\\nsamples = 51\\nvalue = [37, 14]'),\n",
              " Text(73.60999375390381, 49.418181818181836, 'X[3] <= 0.47\\ngini = 0.123\\nsamples = 774\\nvalue = [723, 51]'),\n",
              " Text(71.937039350406, 29.650909090909096, 'X[3] <= 0.469\\ngini = 0.15\\nsamples = 575\\nvalue = [528, 47]'),\n",
              " Text(71.10056214865709, 9.883636363636384, 'gini = 0.147\\nsamples = 574\\nvalue = [528, 46]'),\n",
              " Text(72.7735165521549, 9.883636363636384, 'gini = 0.0\\nsamples = 1\\nvalue = [0, 1]'),\n",
              " Text(75.28294815740162, 29.650909090909096, 'X[3] <= 0.699\\ngini = 0.039\\nsamples = 199\\nvalue = [195, 4]'),\n",
              " Text(74.44647095565271, 9.883636363636384, 'gini = 0.0\\nsamples = 137\\nvalue = [137, 0]'),\n",
              " Text(76.11942535915053, 9.883636363636384, 'gini = 0.121\\nsamples = 62\\nvalue = [58, 4]'),\n",
              " Text(83.6477201748907, 69.18545454545455, 'X[1] <= 0.576\\ngini = 0.227\\nsamples = 214\\nvalue = [186, 28]'),\n",
              " Text(80.30181136789507, 49.418181818181836, 'X[1] <= 0.364\\ngini = 0.317\\nsamples = 71\\nvalue = [57, 14]'),\n",
              " Text(78.62885696439726, 29.650909090909096, 'X[1] <= 0.224\\ngini = 0.121\\nsamples = 31\\nvalue = [29, 2]'),\n",
              " Text(77.79237976264835, 9.883636363636384, 'gini = 0.444\\nsamples = 6\\nvalue = [4, 2]'),\n",
              " Text(79.46533416614616, 9.883636363636384, 'gini = 0.0\\nsamples = 25\\nvalue = [25, 0]'),\n",
              " Text(81.97476577139288, 29.650909090909096, 'X[1] <= 0.416\\ngini = 0.42\\nsamples = 40\\nvalue = [28, 12]'),\n",
              " Text(81.13828856964398, 9.883636363636384, 'gini = 0.494\\nsamples = 9\\nvalue = [4, 5]'),\n",
              " Text(82.81124297314179, 9.883636363636384, 'gini = 0.35\\nsamples = 31\\nvalue = [24, 7]'),\n",
              " Text(86.99362898188632, 49.418181818181836, 'X[3] <= 0.462\\ngini = 0.177\\nsamples = 143\\nvalue = [129, 14]'),\n",
              " Text(85.3206745783885, 29.650909090909096, 'X[1] <= 1.461\\ngini = 0.113\\nsamples = 100\\nvalue = [94, 6]'),\n",
              " Text(84.4841973766396, 9.883636363636384, 'gini = 0.056\\nsamples = 69\\nvalue = [67, 2]'),\n",
              " Text(86.15715178013741, 9.883636363636384, 'gini = 0.225\\nsamples = 31\\nvalue = [27, 4]'),\n",
              " Text(88.66658338538413, 29.650909090909096, 'X[3] <= 0.529\\ngini = 0.303\\nsamples = 43\\nvalue = [35, 8]'),\n",
              " Text(87.83010618363522, 9.883636363636384, 'gini = 0.5\\nsamples = 10\\nvalue = [5, 5]'),\n",
              " Text(89.50306058713305, 9.883636363636384, 'gini = 0.165\\nsamples = 33\\nvalue = [30, 3]'),\n",
              " Text(78.62885696439726, 88.95272727272729, 'gini = 0.0\\nsamples = 49\\nvalue = [49, 0]'),\n",
              " Text(100.71708307307932, 148.25454545454545, 'X[3] <= 0.922\\ngini = 0.254\\nsamples = 254\\nvalue = [216, 38]'),\n",
              " Text(97.13591505309182, 128.48727272727274, 'X[2] <= 0.126\\ngini = 0.375\\nsamples = 4\\nvalue = [1, 3]'),\n",
              " Text(96.29943785134292, 108.72, 'gini = 0.0\\nsamples = 3\\nvalue = [0, 3]'),\n",
              " Text(97.97239225484073, 108.72, 'gini = 0.0\\nsamples = 1\\nvalue = [1, 0]'),\n",
              " Text(104.29825109306684, 128.48727272727274, 'X[3] <= 3.416\\ngini = 0.241\\nsamples = 250\\nvalue = [215, 35]'),\n",
              " Text(99.64534665833854, 108.72, 'X[2] <= 0.095\\ngini = 0.232\\nsamples = 247\\nvalue = [214, 33]'),\n",
              " Text(92.84896939412867, 88.95272727272729, 'X[3] <= 0.997\\ngini = 0.073\\nsamples = 53\\nvalue = [51, 2]'),\n",
              " Text(92.01249219237977, 69.18545454545455, 'X[3] <= 0.994\\ngini = 0.18\\nsamples = 20\\nvalue = [18, 2]'),\n",
              " Text(91.17601499063086, 49.418181818181836, 'X[1] <= 0.159\\ngini = 0.1\\nsamples = 19\\nvalue = [18, 1]'),\n",
              " Text(90.33953778888196, 29.650909090909096, 'gini = 0.0\\nsamples = 14\\nvalue = [14, 0]'),\n",
              " Text(92.01249219237977, 29.650909090909096, 'X[1] <= 0.247\\ngini = 0.32\\nsamples = 5\\nvalue = [4, 1]'),\n",
              " Text(91.17601499063086, 9.883636363636384, 'gini = 0.0\\nsamples = 1\\nvalue = [0, 1]'),\n",
              " Text(92.84896939412867, 9.883636363636384, 'gini = 0.0\\nsamples = 4\\nvalue = [4, 0]'),\n",
              " Text(92.84896939412867, 49.418181818181836, 'gini = 0.0\\nsamples = 1\\nvalue = [0, 1]'),\n",
              " Text(93.68544659587758, 69.18545454545455, 'gini = 0.0\\nsamples = 33\\nvalue = [33, 0]'),\n",
              " Text(106.4417239225484, 88.95272727272729, 'X[0] <= 0.167\\ngini = 0.269\\nsamples = 194\\nvalue = [163, 31]'),\n",
              " Text(100.37726420986883, 69.18545454545455, 'X[1] <= 0.173\\ngini = 0.342\\nsamples = 114\\nvalue = [89, 25]'),\n",
              " Text(97.0313554028732, 49.418181818181836, 'X[3] <= 0.958\\ngini = 0.264\\nsamples = 83\\nvalue = [70, 13]'),\n",
              " Text(95.35840099937539, 29.650909090909096, 'X[0] <= 0.019\\ngini = 0.494\\nsamples = 9\\nvalue = [5, 4]'),\n",
              " Text(94.52192379762648, 9.883636363636384, 'gini = 0.444\\nsamples = 6\\nvalue = [2, 4]'),\n",
              " Text(96.1948782011243, 9.883636363636384, 'gini = 0.0\\nsamples = 3\\nvalue = [3, 0]'),\n",
              " Text(98.70430980637101, 29.650909090909096, 'X[2] <= 0.137\\ngini = 0.214\\nsamples = 74\\nvalue = [65, 9]'),\n",
              " Text(97.86783260462211, 9.883636363636384, 'gini = 0.0\\nsamples = 24\\nvalue = [24, 0]'),\n",
              " Text(99.54078700811992, 9.883636363636384, 'gini = 0.295\\nsamples = 50\\nvalue = [41, 9]'),\n",
              " Text(103.72317301686446, 49.418181818181836, 'X[3] <= 1.559\\ngini = 0.475\\nsamples = 31\\nvalue = [19, 12]'),\n",
              " Text(102.05021861336665, 29.650909090909096, 'X[3] <= 1.172\\ngini = 0.492\\nsamples = 16\\nvalue = [7, 9]'),\n",
              " Text(101.21374141161775, 9.883636363636384, 'gini = 0.444\\nsamples = 9\\nvalue = [6, 3]'),\n",
              " Text(102.88669581511556, 9.883636363636384, 'gini = 0.245\\nsamples = 7\\nvalue = [1, 6]'),\n",
              " Text(105.39612742036228, 29.650909090909096, 'X[1] <= 0.189\\ngini = 0.32\\nsamples = 15\\nvalue = [12, 3]'),\n",
              " Text(104.55965021861337, 9.883636363636384, 'gini = 0.0\\nsamples = 1\\nvalue = [0, 1]'),\n",
              " Text(106.23260462211118, 9.883636363636384, 'gini = 0.245\\nsamples = 14\\nvalue = [12, 2]'),\n",
              " Text(112.50618363522798, 69.18545454545455, 'X[0] <= 0.574\\ngini = 0.139\\nsamples = 80\\nvalue = [74, 6]'),\n",
              " Text(110.41499063085571, 49.418181818181836, 'X[0] <= 0.352\\ngini = 0.102\\nsamples = 74\\nvalue = [70, 4]'),\n",
              " Text(108.7420362273579, 29.650909090909096, 'X[2] <= 0.351\\ngini = 0.039\\nsamples = 50\\nvalue = [49, 1]'),\n",
              " Text(107.905559025609, 9.883636363636384, 'gini = 0.0\\nsamples = 44\\nvalue = [44, 0]'),\n",
              " Text(109.5785134291068, 9.883636363636384, 'gini = 0.278\\nsamples = 6\\nvalue = [5, 1]'),\n",
              " Text(112.08794503435352, 29.650909090909096, 'X[2] <= 0.207\\ngini = 0.219\\nsamples = 24\\nvalue = [21, 3]'),\n",
              " Text(111.25146783260462, 9.883636363636384, 'gini = 0.0\\nsamples = 9\\nvalue = [9, 0]'),\n",
              " Text(112.92442223610243, 9.883636363636384, 'gini = 0.32\\nsamples = 15\\nvalue = [12, 3]'),\n",
              " Text(114.59737663960026, 49.418181818181836, 'X[3] <= 1.045\\ngini = 0.444\\nsamples = 6\\nvalue = [4, 2]'),\n",
              " Text(113.76089943785135, 29.650909090909096, 'gini = 0.0\\nsamples = 2\\nvalue = [0, 2]'),\n",
              " Text(115.43385384134916, 29.650909090909096, 'gini = 0.0\\nsamples = 4\\nvalue = [4, 0]'),\n",
              " Text(108.95115552779512, 108.72, 'X[2] <= 0.587\\ngini = 0.444\\nsamples = 3\\nvalue = [1, 2]'),\n",
              " Text(108.11467832604622, 88.95272727272729, 'gini = 0.0\\nsamples = 2\\nvalue = [0, 2]'),\n",
              " Text(109.78763272954403, 88.95272727272729, 'gini = 0.0\\nsamples = 1\\nvalue = [1, 0]'),\n",
              " Text(124.1253747657714, 168.0218181818182, 'X[3] <= 0.158\\ngini = 0.363\\nsamples = 231\\nvalue = [176, 55]'),\n",
              " Text(113.13354153653967, 148.25454545454545, 'X[4] <= 0.007\\ngini = 0.48\\nsamples = 15\\nvalue = [6, 9]'),\n",
              " Text(111.46058713304186, 128.48727272727274, 'X[4] <= 0.004\\ngini = 0.469\\nsamples = 8\\nvalue = [5, 3]'),\n",
              " Text(110.62410993129295, 108.72, 'gini = 0.0\\nsamples = 3\\nvalue = [0, 3]'),\n",
              " Text(112.29706433479076, 108.72, 'gini = 0.0\\nsamples = 5\\nvalue = [5, 0]'),\n",
              " Text(114.80649594003748, 128.48727272727274, 'X[4] <= 0.009\\ngini = 0.245\\nsamples = 7\\nvalue = [1, 6]'),\n",
              " Text(113.97001873828857, 108.72, 'gini = 0.0\\nsamples = 6\\nvalue = [0, 6]'),\n",
              " Text(115.64297314178638, 108.72, 'gini = 0.0\\nsamples = 1\\nvalue = [1, 0]'),\n",
              " Text(135.11720799500313, 148.25454545454545, 'X[0] <= 0.093\\ngini = 0.335\\nsamples = 216\\nvalue = [170, 46]'),\n",
              " Text(121.70743285446596, 128.48727272727274, 'X[2] <= 0.082\\ngini = 0.463\\nsamples = 44\\nvalue = [28, 16]'),\n",
              " Text(117.3159275452842, 108.72, 'X[2] <= 0.042\\ngini = 0.492\\nsamples = 16\\nvalue = [7, 9]'),\n",
              " Text(115.64297314178638, 88.95272727272729, 'X[1] <= 0.14\\ngini = 0.375\\nsamples = 4\\nvalue = [3, 1]'),\n",
              " Text(114.80649594003748, 69.18545454545455, 'gini = 0.0\\nsamples = 3\\nvalue = [3, 0]'),\n",
              " Text(116.47945034353529, 69.18545454545455, 'gini = 0.0\\nsamples = 1\\nvalue = [0, 1]'),\n",
              " Text(118.98888194878201, 88.95272727272729, 'X[3] <= 0.174\\ngini = 0.444\\nsamples = 12\\nvalue = [4, 8]'),\n",
              " Text(118.1524047470331, 69.18545454545455, 'gini = 0.0\\nsamples = 1\\nvalue = [1, 0]'),\n",
              " Text(119.82535915053091, 69.18545454545455, 'X[4] <= 0.007\\ngini = 0.397\\nsamples = 11\\nvalue = [3, 8]'),\n",
              " Text(118.1524047470331, 49.418181818181836, 'X[2] <= 0.076\\ngini = 0.245\\nsamples = 7\\nvalue = [1, 6]'),\n",
              " Text(117.3159275452842, 29.650909090909096, 'gini = 0.0\\nsamples = 5\\nvalue = [0, 5]'),\n",
              " Text(118.98888194878201, 29.650909090909096, 'X[4] <= 0.004\\ngini = 0.5\\nsamples = 2\\nvalue = [1, 1]'),\n",
              " Text(118.1524047470331, 9.883636363636384, 'gini = 0.0\\nsamples = 1\\nvalue = [0, 1]'),\n",
              " Text(119.82535915053091, 9.883636363636384, 'gini = 0.0\\nsamples = 1\\nvalue = [1, 0]'),\n",
              " Text(121.49831355402873, 49.418181818181836, 'X[4] <= 0.008\\ngini = 0.5\\nsamples = 4\\nvalue = [2, 2]'),\n",
              " Text(120.66183635227982, 29.650909090909096, 'gini = 0.0\\nsamples = 2\\nvalue = [2, 0]'),\n",
              " Text(122.33479075577765, 29.650909090909096, 'gini = 0.0\\nsamples = 2\\nvalue = [0, 2]'),\n",
              " Text(126.09893816364772, 108.72, 'X[4] <= 0.003\\ngini = 0.375\\nsamples = 28\\nvalue = [21, 7]'),\n",
              " Text(123.17126795752655, 88.95272727272729, 'X[0] <= 0.037\\ngini = 0.49\\nsamples = 7\\nvalue = [3, 4]'),\n",
              " Text(122.33479075577765, 69.18545454545455, 'gini = 0.0\\nsamples = 3\\nvalue = [0, 3]'),\n",
              " Text(124.00774515927546, 69.18545454545455, 'X[4] <= 0.002\\ngini = 0.375\\nsamples = 4\\nvalue = [3, 1]'),\n",
              " Text(123.17126795752655, 49.418181818181836, 'gini = 0.0\\nsamples = 3\\nvalue = [3, 0]'),\n",
              " Text(124.84422236102436, 49.418181818181836, 'gini = 0.0\\nsamples = 1\\nvalue = [0, 1]'),\n",
              " Text(129.0266083697689, 88.95272727272729, 'X[2] <= 0.217\\ngini = 0.245\\nsamples = 21\\nvalue = [18, 3]'),\n",
              " Text(127.35365396627108, 69.18545454545455, 'X[1] <= 0.232\\ngini = 0.105\\nsamples = 18\\nvalue = [17, 1]'),\n",
              " Text(126.51717676452218, 49.418181818181836, 'gini = 0.0\\nsamples = 15\\nvalue = [15, 0]'),\n",
              " Text(128.19013116802, 49.418181818181836, 'X[1] <= 0.357\\ngini = 0.444\\nsamples = 3\\nvalue = [2, 1]'),\n",
              " Text(127.35365396627108, 29.650909090909096, 'gini = 0.0\\nsamples = 1\\nvalue = [0, 1]'),\n",
              " Text(129.0266083697689, 29.650909090909096, 'gini = 0.0\\nsamples = 2\\nvalue = [2, 0]'),\n",
              " Text(130.6995627732667, 69.18545454545455, 'X[4] <= 0.004\\ngini = 0.444\\nsamples = 3\\nvalue = [1, 2]'),\n",
              " Text(129.86308557151781, 49.418181818181836, 'gini = 0.0\\nsamples = 1\\nvalue = [1, 0]'),\n",
              " Text(131.53603997501563, 49.418181818181836, 'gini = 0.0\\nsamples = 2\\nvalue = [0, 2]'),\n",
              " Text(148.5269831355403, 128.48727272727274, 'X[2] <= 0.261\\ngini = 0.288\\nsamples = 172\\nvalue = [142, 30]'),\n",
              " Text(141.26008744534667, 108.72, 'X[1] <= 1.248\\ngini = 0.245\\nsamples = 140\\nvalue = [120, 20]'),\n",
              " Text(137.6004996876952, 88.95272727272729, 'X[3] <= 2.064\\ngini = 0.196\\nsamples = 100\\nvalue = [89, 11]'),\n",
              " Text(135.3001873828857, 69.18545454545455, 'X[4] <= 0.009\\ngini = 0.183\\nsamples = 98\\nvalue = [88, 10]'),\n",
              " Text(133.20899437851344, 49.418181818181836, 'X[3] <= 1.019\\ngini = 0.162\\nsamples = 90\\nvalue = [82, 8]'),\n",
              " Text(131.53603997501563, 29.650909090909096, 'X[4] <= 0.004\\ngini = 0.126\\nsamples = 74\\nvalue = [69, 5]'),\n",
              " Text(130.6995627732667, 9.883636363636384, 'gini = 0.0\\nsamples = 25\\nvalue = [25, 0]'),\n",
              " Text(132.37251717676452, 9.883636363636384, 'gini = 0.183\\nsamples = 49\\nvalue = [44, 5]'),\n",
              " Text(134.88194878201125, 29.650909090909096, 'X[4] <= 0.002\\ngini = 0.305\\nsamples = 16\\nvalue = [13, 3]'),\n",
              " Text(134.04547158026233, 9.883636363636384, 'gini = 0.0\\nsamples = 2\\nvalue = [0, 2]'),\n",
              " Text(135.71842598376014, 9.883636363636384, 'gini = 0.133\\nsamples = 14\\nvalue = [13, 1]'),\n",
              " Text(137.39138038725795, 49.418181818181836, 'X[4] <= 0.009\\ngini = 0.375\\nsamples = 8\\nvalue = [6, 2]'),\n",
              " Text(136.55490318550906, 29.650909090909096, 'gini = 0.0\\nsamples = 2\\nvalue = [0, 2]'),\n",
              " Text(138.22785758900687, 29.650909090909096, 'gini = 0.0\\nsamples = 6\\nvalue = [6, 0]'),\n",
              " Text(139.90081199250469, 69.18545454545455, 'X[3] <= 2.92\\ngini = 0.5\\nsamples = 2\\nvalue = [1, 1]'),\n",
              " Text(139.06433479075577, 49.418181818181836, 'gini = 0.0\\nsamples = 1\\nvalue = [0, 1]'),\n",
              " Text(140.7372891942536, 49.418181818181836, 'gini = 0.0\\nsamples = 1\\nvalue = [1, 0]'),\n",
              " Text(144.91967520299812, 88.95272727272729, 'X[1] <= 1.32\\ngini = 0.349\\nsamples = 40\\nvalue = [31, 9]'),\n",
              " Text(143.2467207995003, 69.18545454545455, 'X[3] <= 0.718\\ngini = 0.444\\nsamples = 3\\nvalue = [1, 2]'),\n",
              " Text(142.41024359775142, 49.418181818181836, 'gini = 0.0\\nsamples = 1\\nvalue = [1, 0]'),\n",
              " Text(144.08319800124923, 49.418181818181836, 'gini = 0.0\\nsamples = 2\\nvalue = [0, 2]'),\n",
              " Text(146.59262960649593, 69.18545454545455, 'X[4] <= 0.001\\ngini = 0.307\\nsamples = 37\\nvalue = [30, 7]'),\n",
              " Text(145.75615240474704, 49.418181818181836, 'gini = 0.0\\nsamples = 1\\nvalue = [0, 1]'),\n",
              " Text(147.42910680824485, 49.418181818181836, 'X[4] <= 0.004\\ngini = 0.278\\nsamples = 36\\nvalue = [30, 6]'),\n",
              " Text(146.59262960649593, 29.650909090909096, 'gini = 0.0\\nsamples = 12\\nvalue = [12, 0]'),\n",
              " Text(148.26558400999374, 29.650909090909096, 'X[4] <= 0.006\\ngini = 0.375\\nsamples = 24\\nvalue = [18, 6]'),\n",
              " Text(147.42910680824485, 9.883636363636384, 'gini = 0.444\\nsamples = 6\\nvalue = [2, 4]'),\n",
              " Text(149.10206121174267, 9.883636363636384, 'gini = 0.198\\nsamples = 18\\nvalue = [16, 2]'),\n",
              " Text(155.7938788257339, 108.72, 'X[2] <= 0.477\\ngini = 0.43\\nsamples = 32\\nvalue = [22, 10]'),\n",
              " Text(154.95740162398502, 88.95272727272729, 'X[1] <= 1.312\\ngini = 0.491\\nsamples = 23\\nvalue = [13, 10]'),\n",
              " Text(153.2844472204872, 69.18545454545455, 'X[0] <= 0.278\\ngini = 0.444\\nsamples = 18\\nvalue = [12, 6]'),\n",
              " Text(152.4479700187383, 49.418181818181836, 'X[0] <= 0.204\\ngini = 0.48\\nsamples = 10\\nvalue = [4, 6]'),\n",
              " Text(151.61149281698937, 29.650909090909096, 'X[2] <= 0.36\\ngini = 0.32\\nsamples = 5\\nvalue = [4, 1]'),\n",
              " Text(150.77501561524048, 9.883636363636384, 'gini = 0.0\\nsamples = 4\\nvalue = [4, 0]'),\n",
              " Text(152.4479700187383, 9.883636363636384, 'gini = 0.0\\nsamples = 1\\nvalue = [0, 1]'),\n",
              " Text(153.2844472204872, 29.650909090909096, 'gini = 0.0\\nsamples = 5\\nvalue = [0, 5]'),\n",
              " Text(154.1209244222361, 49.418181818181836, 'gini = 0.0\\nsamples = 8\\nvalue = [8, 0]'),\n",
              " Text(156.63035602748283, 69.18545454545455, 'X[0] <= 0.574\\ngini = 0.32\\nsamples = 5\\nvalue = [1, 4]'),\n",
              " Text(155.7938788257339, 49.418181818181836, 'gini = 0.0\\nsamples = 4\\nvalue = [0, 4]'),\n",
              " Text(157.46683322923172, 49.418181818181836, 'gini = 0.0\\nsamples = 1\\nvalue = [1, 0]'),\n",
              " Text(156.63035602748283, 88.95272727272729, 'gini = 0.0\\nsamples = 9\\nvalue = [9, 0]'),\n",
              " Text(229.79597126795753, 187.7890909090909, 'X[2] <= 0.042\\ngini = 0.494\\nsamples = 1802\\nvalue = [1002, 800]'),\n",
              " Text(191.9976577139288, 168.0218181818182, 'X[3] <= 0.118\\ngini = 0.486\\nsamples = 838\\nvalue = [350, 488]'),\n",
              " Text(171.00730793254218, 148.25454545454545, 'X[4] <= 0.043\\ngini = 0.424\\nsamples = 279\\nvalue = [85, 194]'),\n",
              " Text(162.90393504059963, 128.48727272727274, 'X[2] <= 0.012\\ngini = 0.497\\nsamples = 54\\nvalue = [25, 29]'),\n",
              " Text(159.97626483447846, 108.72, 'X[0] <= 0.259\\ngini = 0.337\\nsamples = 14\\nvalue = [11, 3]'),\n",
              " Text(159.13978763272954, 88.95272727272729, 'X[4] <= 0.018\\ngini = 0.26\\nsamples = 13\\nvalue = [11, 2]'),\n",
              " Text(158.30331043098064, 69.18545454545455, 'gini = 0.0\\nsamples = 1\\nvalue = [0, 1]'),\n",
              " Text(159.97626483447846, 69.18545454545455, 'X[2] <= 0.005\\ngini = 0.153\\nsamples = 12\\nvalue = [11, 1]'),\n",
              " Text(159.13978763272954, 49.418181818181836, 'X[4] <= 0.029\\ngini = 0.444\\nsamples = 3\\nvalue = [2, 1]'),\n",
              " Text(158.30331043098064, 29.650909090909096, 'gini = 0.0\\nsamples = 1\\nvalue = [1, 0]'),\n",
              " Text(159.97626483447846, 29.650909090909096, 'X[4] <= 0.038\\ngini = 0.5\\nsamples = 2\\nvalue = [1, 1]'),\n",
              " Text(159.13978763272954, 9.883636363636384, 'gini = 0.0\\nsamples = 1\\nvalue = [0, 1]'),\n",
              " Text(160.81274203622735, 9.883636363636384, 'gini = 0.0\\nsamples = 1\\nvalue = [1, 0]'),\n",
              " Text(160.81274203622735, 49.418181818181836, 'gini = 0.0\\nsamples = 9\\nvalue = [9, 0]'),\n",
              " Text(160.81274203622735, 88.95272727272729, 'gini = 0.0\\nsamples = 1\\nvalue = [0, 1]'),\n",
              " Text(165.8316052467208, 108.72, 'X[1] <= 0.109\\ngini = 0.455\\nsamples = 40\\nvalue = [14, 26]'),\n",
              " Text(164.158650843223, 88.95272727272729, 'X[3] <= 0.029\\ngini = 0.236\\nsamples = 22\\nvalue = [3, 19]'),\n",
              " Text(163.32217364147408, 69.18545454545455, 'gini = 0.0\\nsamples = 1\\nvalue = [1, 0]'),\n",
              " Text(164.9951280449719, 69.18545454545455, 'X[2] <= 0.018\\ngini = 0.172\\nsamples = 21\\nvalue = [2, 19]'),\n",
              " Text(164.158650843223, 49.418181818181836, 'X[2] <= 0.016\\ngini = 0.346\\nsamples = 9\\nvalue = [2, 7]'),\n",
              " Text(163.32217364147408, 29.650909090909096, 'X[3] <= 0.092\\ngini = 0.219\\nsamples = 8\\nvalue = [1, 7]'),\n",
              " Text(162.48569643972516, 9.883636363636384, 'gini = 0.0\\nsamples = 6\\nvalue = [0, 6]'),\n",
              " Text(164.158650843223, 9.883636363636384, 'gini = 0.5\\nsamples = 2\\nvalue = [1, 1]'),\n",
              " Text(164.9951280449719, 29.650909090909096, 'gini = 0.0\\nsamples = 1\\nvalue = [1, 0]'),\n",
              " Text(165.8316052467208, 49.418181818181836, 'gini = 0.0\\nsamples = 12\\nvalue = [0, 12]'),\n",
              " Text(167.50455965021862, 88.95272727272729, 'X[1] <= 0.216\\ngini = 0.475\\nsamples = 18\\nvalue = [11, 7]'),\n",
              " Text(166.6680824484697, 69.18545454545455, 'gini = 0.0\\nsamples = 5\\nvalue = [5, 0]'),\n",
              " Text(168.34103685196752, 69.18545454545455, 'X[4] <= 0.039\\ngini = 0.497\\nsamples = 13\\nvalue = [6, 7]'),\n",
              " Text(167.50455965021862, 49.418181818181836, 'X[4] <= 0.033\\ngini = 0.463\\nsamples = 11\\nvalue = [4, 7]'),\n",
              " Text(166.6680824484697, 29.650909090909096, 'X[1] <= 0.361\\ngini = 0.49\\nsamples = 7\\nvalue = [4, 3]'),\n",
              " Text(165.8316052467208, 9.883636363636384, 'gini = 0.375\\nsamples = 4\\nvalue = [1, 3]'),\n",
              " Text(167.50455965021862, 9.883636363636384, 'gini = 0.0\\nsamples = 3\\nvalue = [3, 0]'),\n",
              " Text(168.34103685196752, 29.650909090909096, 'gini = 0.0\\nsamples = 4\\nvalue = [0, 4]'),\n",
              " Text(169.17751405371644, 49.418181818181836, 'gini = 0.0\\nsamples = 2\\nvalue = [2, 0]'),\n",
              " Text(179.1106808244847, 128.48727272727274, 'X[2] <= 0.019\\ngini = 0.391\\nsamples = 225\\nvalue = [60, 165]'),\n",
              " Text(172.9416614615865, 108.72, 'X[4] <= 0.706\\ngini = 0.343\\nsamples = 164\\nvalue = [36, 128]'),\n",
              " Text(172.1051842598376, 88.95272727272729, 'X[3] <= 0.002\\ngini = 0.332\\nsamples = 162\\nvalue = [34, 128]'),\n",
              " Text(171.2687070580887, 69.18545454545455, 'gini = 0.0\\nsamples = 1\\nvalue = [1, 0]'),\n",
              " Text(172.9416614615865, 69.18545454545455, 'X[2] <= 0.005\\ngini = 0.326\\nsamples = 161\\nvalue = [33, 128]'),\n",
              " Text(170.85046845721425, 49.418181818181836, 'X[3] <= 0.007\\ngini = 0.091\\nsamples = 21\\nvalue = [1, 20]'),\n",
              " Text(170.01399125546533, 29.650909090909096, 'X[2] <= 0.002\\ngini = 0.375\\nsamples = 4\\nvalue = [1, 3]'),\n",
              " Text(169.17751405371644, 9.883636363636384, 'gini = 0.0\\nsamples = 3\\nvalue = [0, 3]'),\n",
              " Text(170.85046845721425, 9.883636363636384, 'gini = 0.0\\nsamples = 1\\nvalue = [1, 0]'),\n",
              " Text(171.68694565896314, 29.650909090909096, 'gini = 0.0\\nsamples = 17\\nvalue = [0, 17]'),\n",
              " Text(175.03285446595876, 49.418181818181836, 'X[3] <= 0.065\\ngini = 0.353\\nsamples = 140\\nvalue = [32, 108]'),\n",
              " Text(173.35990006246095, 29.650909090909096, 'X[3] <= 0.046\\ngini = 0.429\\nsamples = 61\\nvalue = [19, 42]'),\n",
              " Text(172.52342286071206, 9.883636363636384, 'gini = 0.312\\nsamples = 31\\nvalue = [6, 25]'),\n",
              " Text(174.19637726420987, 9.883636363636384, 'gini = 0.491\\nsamples = 30\\nvalue = [13, 17]'),\n",
              " Text(176.7058088694566, 29.650909090909096, 'X[3] <= 0.082\\ngini = 0.275\\nsamples = 79\\nvalue = [13, 66]'),\n",
              " Text(175.86933166770768, 9.883636363636384, 'gini = 0.0\\nsamples = 32\\nvalue = [0, 32]'),\n",
              " Text(177.5422860712055, 9.883636363636384, 'gini = 0.4\\nsamples = 47\\nvalue = [13, 34]'),\n",
              " Text(173.77813866333543, 88.95272727272729, 'gini = 0.0\\nsamples = 2\\nvalue = [2, 0]'),\n",
              " Text(185.2797001873829, 108.72, 'X[3] <= 0.09\\ngini = 0.477\\nsamples = 61\\nvalue = [24, 37]'),\n",
              " Text(180.88819487820112, 88.95272727272729, 'X[1] <= 0.08\\ngini = 0.491\\nsamples = 23\\nvalue = [13, 10]'),\n",
              " Text(178.37876327295442, 69.18545454545455, 'X[2] <= 0.027\\ngini = 0.198\\nsamples = 9\\nvalue = [8, 1]'),\n",
              " Text(177.5422860712055, 49.418181818181836, 'gini = 0.0\\nsamples = 7\\nvalue = [7, 0]'),\n",
              " Text(179.2152404747033, 49.418181818181836, 'X[2] <= 0.032\\ngini = 0.5\\nsamples = 2\\nvalue = [1, 1]'),\n",
              " Text(178.37876327295442, 29.650909090909096, 'gini = 0.0\\nsamples = 1\\nvalue = [0, 1]'),\n",
              " Text(180.05171767645223, 29.650909090909096, 'gini = 0.0\\nsamples = 1\\nvalue = [1, 0]'),\n",
              " Text(183.39762648344785, 69.18545454545455, 'X[0] <= 0.241\\ngini = 0.459\\nsamples = 14\\nvalue = [5, 9]'),\n",
              " Text(182.56114928169893, 49.418181818181836, 'X[4] <= 0.053\\ngini = 0.298\\nsamples = 11\\nvalue = [2, 9]'),\n",
              " Text(181.72467207995004, 29.650909090909096, 'gini = 0.0\\nsamples = 1\\nvalue = [1, 0]'),\n",
              " Text(183.39762648344785, 29.650909090909096, 'X[1] <= 0.146\\ngini = 0.18\\nsamples = 10\\nvalue = [1, 9]'),\n",
              " Text(182.56114928169893, 9.883636363636384, 'gini = 0.444\\nsamples = 3\\nvalue = [1, 2]'),\n",
              " Text(184.23410368519674, 9.883636363636384, 'gini = 0.0\\nsamples = 7\\nvalue = [0, 7]'),\n",
              " Text(184.23410368519674, 49.418181818181836, 'gini = 0.0\\nsamples = 3\\nvalue = [3, 0]'),\n",
              " Text(189.67120549656465, 88.95272727272729, 'X[3] <= 0.097\\ngini = 0.411\\nsamples = 38\\nvalue = [11, 27]'),\n",
              " Text(188.83472829481573, 69.18545454545455, 'gini = 0.0\\nsamples = 6\\nvalue = [0, 6]'),\n",
              " Text(190.50768269831354, 69.18545454545455, 'X[3] <= 0.114\\ngini = 0.451\\nsamples = 32\\nvalue = [11, 21]'),\n",
              " Text(188.4164896939413, 49.418181818181836, 'X[2] <= 0.026\\ngini = 0.496\\nsamples = 22\\nvalue = [10, 12]'),\n",
              " Text(186.74353529044348, 29.650909090909096, 'X[1] <= 0.159\\ngini = 0.42\\nsamples = 10\\nvalue = [7, 3]'),\n",
              " Text(185.90705808869455, 9.883636363636384, 'gini = 0.0\\nsamples = 4\\nvalue = [4, 0]'),\n",
              " Text(187.5800124921924, 9.883636363636384, 'gini = 0.5\\nsamples = 6\\nvalue = [3, 3]'),\n",
              " Text(190.0894440974391, 29.650909090909096, 'X[3] <= 0.109\\ngini = 0.375\\nsamples = 12\\nvalue = [3, 9]'),\n",
              " Text(189.2529668956902, 9.883636363636384, 'gini = 0.0\\nsamples = 7\\nvalue = [0, 7]'),\n",
              " Text(190.92592129918802, 9.883636363636384, 'gini = 0.48\\nsamples = 5\\nvalue = [3, 2]'),\n",
              " Text(192.59887570268583, 49.418181818181836, 'X[3] <= 0.116\\ngini = 0.18\\nsamples = 10\\nvalue = [1, 9]'),\n",
              " Text(191.7623985009369, 29.650909090909096, 'gini = 0.0\\nsamples = 8\\nvalue = [0, 8]'),\n",
              " Text(193.43535290443472, 29.650909090909096, 'X[3] <= 0.117\\ngini = 0.5\\nsamples = 2\\nvalue = [1, 1]'),\n",
              " Text(192.59887570268583, 9.883636363636384, 'gini = 0.0\\nsamples = 1\\nvalue = [1, 0]'),\n",
              " Text(194.27183010618364, 9.883636363636384, 'gini = 0.0\\nsamples = 1\\nvalue = [0, 1]'),\n",
              " Text(212.98800749531543, 148.25454545454545, 'X[1] <= 2.79\\ngini = 0.499\\nsamples = 559\\nvalue = [265, 294]'),\n",
              " Text(212.1515302935665, 128.48727272727274, 'X[4] <= 0.072\\ngini = 0.498\\nsamples = 551\\nvalue = [257, 294]'),\n",
              " Text(204.1004372267333, 108.72, 'X[0] <= 0.241\\ngini = 0.499\\nsamples = 284\\nvalue = [149, 135]'),\n",
              " Text(199.70893191755152, 88.95272727272729, 'X[1] <= 0.004\\ngini = 0.5\\nsamples = 243\\nvalue = [121, 122]'),\n",
              " Text(196.78126171143035, 69.18545454545455, 'X[3] <= 0.129\\ngini = 0.479\\nsamples = 58\\nvalue = [23, 35]'),\n",
              " Text(195.94478450968145, 49.418181818181836, 'gini = 0.0\\nsamples = 3\\nvalue = [3, 0]'),\n",
              " Text(197.61773891317927, 49.418181818181836, 'X[3] <= 0.346\\ngini = 0.463\\nsamples = 55\\nvalue = [20, 35]'),\n",
              " Text(196.78126171143035, 29.650909090909096, 'X[3] <= 0.185\\ngini = 0.483\\nsamples = 49\\nvalue = [20, 29]'),\n",
              " Text(195.94478450968145, 9.883636363636384, 'gini = 0.278\\nsamples = 12\\nvalue = [2, 10]'),\n",
              " Text(197.61773891317927, 9.883636363636384, 'gini = 0.5\\nsamples = 37\\nvalue = [18, 19]'),\n",
              " Text(198.45421611492816, 29.650909090909096, 'gini = 0.0\\nsamples = 6\\nvalue = [0, 6]'),\n",
              " Text(202.6366021236727, 69.18545454545455, 'X[3] <= 0.246\\ngini = 0.498\\nsamples = 185\\nvalue = [98, 87]'),\n",
              " Text(200.9636477201749, 49.418181818181836, 'X[2] <= 0.039\\ngini = 0.498\\nsamples = 106\\nvalue = [50, 56]'),\n",
              " Text(200.127170518426, 29.650909090909096, 'X[2] <= 0.013\\ngini = 0.5\\nsamples = 100\\nvalue = [50, 50]'),\n",
              " Text(199.29069331667708, 9.883636363636384, 'gini = 0.0\\nsamples = 4\\nvalue = [4, 0]'),\n",
              " Text(200.9636477201749, 9.883636363636384, 'gini = 0.499\\nsamples = 96\\nvalue = [46, 50]'),\n",
              " Text(201.8001249219238, 29.650909090909096, 'gini = 0.0\\nsamples = 6\\nvalue = [0, 6]'),\n",
              " Text(204.3095565271705, 49.418181818181836, 'X[1] <= 0.062\\ngini = 0.477\\nsamples = 79\\nvalue = [48, 31]'),\n",
              " Text(203.47307932542162, 29.650909090909096, 'gini = 0.0\\nsamples = 6\\nvalue = [6, 0]'),\n",
              " Text(205.14603372891943, 29.650909090909096, 'X[3] <= 0.265\\ngini = 0.489\\nsamples = 73\\nvalue = [42, 31]'),\n",
              " Text(204.3095565271705, 9.883636363636384, 'gini = 0.198\\nsamples = 9\\nvalue = [8, 1]'),\n",
              " Text(205.98251093066833, 9.883636363636384, 'gini = 0.498\\nsamples = 64\\nvalue = [34, 30]'),\n",
              " Text(208.49194253591506, 88.95272727272729, 'X[4] <= 0.013\\ngini = 0.433\\nsamples = 41\\nvalue = [28, 13]'),\n",
              " Text(207.65546533416614, 69.18545454545455, 'gini = 0.0\\nsamples = 2\\nvalue = [0, 2]'),\n",
              " Text(209.32841973766395, 69.18545454545455, 'X[4] <= 0.021\\ngini = 0.405\\nsamples = 39\\nvalue = [28, 11]'),\n",
              " Text(208.49194253591506, 49.418181818181836, 'gini = 0.0\\nsamples = 7\\nvalue = [7, 0]'),\n",
              " Text(210.16489693941287, 49.418181818181836, 'X[4] <= 0.03\\ngini = 0.451\\nsamples = 32\\nvalue = [21, 11]'),\n",
              " Text(208.49194253591506, 29.650909090909096, 'X[2] <= 0.039\\ngini = 0.278\\nsamples = 6\\nvalue = [1, 5]'),\n",
              " Text(207.65546533416614, 9.883636363636384, 'gini = 0.0\\nsamples = 5\\nvalue = [0, 5]'),\n",
              " Text(209.32841973766395, 9.883636363636384, 'gini = 0.0\\nsamples = 1\\nvalue = [1, 0]'),\n",
              " Text(211.83785134291068, 29.650909090909096, 'X[3] <= 0.291\\ngini = 0.355\\nsamples = 26\\nvalue = [20, 6]'),\n",
              " Text(211.00137414116176, 9.883636363636384, 'gini = 0.124\\nsamples = 15\\nvalue = [14, 1]'),\n",
              " Text(212.6743285446596, 9.883636363636384, 'gini = 0.496\\nsamples = 11\\nvalue = [6, 5]'),\n",
              " Text(220.20262336039974, 108.72, 'X[3] <= 0.623\\ngini = 0.482\\nsamples = 267\\nvalue = [108, 159]'),\n",
              " Text(219.36614615865085, 88.95272727272729, 'X[2] <= 0.032\\ngini = 0.478\\nsamples = 263\\nvalue = [104, 159]'),\n",
              " Text(216.02023735165523, 69.18545454545455, 'X[4] <= 0.318\\ngini = 0.456\\nsamples = 188\\nvalue = [66, 122]'),\n",
              " Text(214.3472829481574, 49.418181818181836, 'X[3] <= 0.121\\ngini = 0.444\\nsamples = 180\\nvalue = [60, 120]'),\n",
              " Text(213.5108057464085, 29.650909090909096, 'gini = 0.0\\nsamples = 3\\nvalue = [3, 0]'),\n",
              " Text(215.1837601499063, 29.650909090909096, 'X[1] <= 0.896\\ngini = 0.437\\nsamples = 177\\nvalue = [57, 120]'),\n",
              " Text(214.3472829481574, 9.883636363636384, 'gini = 0.452\\nsamples = 162\\nvalue = [56, 106]'),\n",
              " Text(216.02023735165523, 9.883636363636384, 'gini = 0.124\\nsamples = 15\\nvalue = [1, 14]'),\n",
              " Text(217.69319175515304, 49.418181818181836, 'X[1] <= 0.316\\ngini = 0.375\\nsamples = 8\\nvalue = [6, 2]'),\n",
              " Text(216.85671455340412, 29.650909090909096, 'gini = 0.0\\nsamples = 5\\nvalue = [5, 0]'),\n",
              " Text(218.52966895690193, 29.650909090909096, 'X[3] <= 0.2\\ngini = 0.444\\nsamples = 3\\nvalue = [1, 2]'),\n",
              " Text(217.69319175515304, 9.883636363636384, 'gini = 0.0\\nsamples = 2\\nvalue = [0, 2]'),\n",
              " Text(219.36614615865085, 9.883636363636384, 'gini = 0.0\\nsamples = 1\\nvalue = [1, 0]'),\n",
              " Text(222.71205496564647, 69.18545454545455, 'X[3] <= 0.144\\ngini = 0.5\\nsamples = 75\\nvalue = [38, 37]'),\n",
              " Text(221.87557776389755, 49.418181818181836, 'gini = 0.0\\nsamples = 7\\nvalue = [0, 7]'),\n",
              " Text(223.5485321673954, 49.418181818181836, 'X[2] <= 0.035\\ngini = 0.493\\nsamples = 68\\nvalue = [38, 30]'),\n",
              " Text(221.87557776389755, 29.650909090909096, 'X[4] <= 0.147\\ngini = 0.388\\nsamples = 19\\nvalue = [14, 5]'),\n",
              " Text(221.03910056214866, 9.883636363636384, 'gini = 0.165\\nsamples = 11\\nvalue = [10, 1]'),\n",
              " Text(222.71205496564647, 9.883636363636384, 'gini = 0.5\\nsamples = 8\\nvalue = [4, 4]'),\n",
              " Text(225.2214865708932, 29.650909090909096, 'X[4] <= 0.097\\ngini = 0.5\\nsamples = 49\\nvalue = [24, 25]'),\n",
              " Text(224.38500936914429, 9.883636363636384, 'gini = 0.415\\nsamples = 17\\nvalue = [5, 12]'),\n",
              " Text(226.0579637726421, 9.883636363636384, 'gini = 0.482\\nsamples = 32\\nvalue = [19, 13]'),\n",
              " Text(221.03910056214866, 88.95272727272729, 'gini = 0.0\\nsamples = 4\\nvalue = [4, 0]'),\n",
              " Text(213.82448469706435, 128.48727272727274, 'gini = 0.0\\nsamples = 8\\nvalue = [8, 0]'),\n",
              " Text(267.59428482198626, 168.0218181818182, 'X[3] <= 0.284\\ngini = 0.438\\nsamples = 964\\nvalue = [652, 312]'),\n",
              " Text(239.52001873828857, 148.25454545454545, 'X[1] <= 0.016\\ngini = 0.495\\nsamples = 202\\nvalue = [111, 91]'),\n",
              " Text(232.74978138663334, 128.48727272727274, 'X[4] <= 0.067\\ngini = 0.463\\nsamples = 44\\nvalue = [16, 28]'),\n",
              " Text(231.07682698313553, 108.72, 'X[3] <= 0.268\\ngini = 0.499\\nsamples = 25\\nvalue = [12, 13]'),\n",
              " Text(230.24034978138664, 88.95272727272729, 'X[2] <= 0.05\\ngini = 0.496\\nsamples = 22\\nvalue = [12, 10]'),\n",
              " Text(228.56739537788883, 69.18545454545455, 'X[3] <= 0.206\\ngini = 0.42\\nsamples = 10\\nvalue = [3, 7]'),\n",
              " Text(227.7309181761399, 49.418181818181836, 'X[3] <= 0.184\\ngini = 0.5\\nsamples = 6\\nvalue = [3, 3]'),\n",
              " Text(226.89444097439102, 29.650909090909096, 'gini = 0.0\\nsamples = 3\\nvalue = [0, 3]'),\n",
              " Text(228.56739537788883, 29.650909090909096, 'gini = 0.0\\nsamples = 3\\nvalue = [3, 0]'),\n",
              " Text(229.40387257963772, 49.418181818181836, 'gini = 0.0\\nsamples = 4\\nvalue = [0, 4]'),\n",
              " Text(231.91330418488445, 69.18545454545455, 'X[4] <= 0.013\\ngini = 0.375\\nsamples = 12\\nvalue = [9, 3]'),\n",
              " Text(231.07682698313553, 49.418181818181836, 'gini = 0.0\\nsamples = 1\\nvalue = [0, 1]'),\n",
              " Text(232.74978138663334, 49.418181818181836, 'X[3] <= 0.128\\ngini = 0.298\\nsamples = 11\\nvalue = [9, 2]'),\n",
              " Text(231.91330418488445, 29.650909090909096, 'gini = 0.0\\nsamples = 1\\nvalue = [0, 1]'),\n",
              " Text(233.58625858838226, 29.650909090909096, 'X[0] <= 0.019\\ngini = 0.18\\nsamples = 10\\nvalue = [9, 1]'),\n",
              " Text(232.74978138663334, 9.883636363636384, 'gini = 0.0\\nsamples = 8\\nvalue = [8, 0]'),\n",
              " Text(234.42273579013116, 9.883636363636384, 'gini = 0.5\\nsamples = 2\\nvalue = [1, 1]'),\n",
              " Text(231.91330418488445, 88.95272727272729, 'gini = 0.0\\nsamples = 3\\nvalue = [0, 3]'),\n",
              " Text(234.42273579013116, 108.72, 'X[4] <= 0.176\\ngini = 0.332\\nsamples = 19\\nvalue = [4, 15]'),\n",
              " Text(233.58625858838226, 88.95272727272729, 'gini = 0.0\\nsamples = 11\\nvalue = [0, 11]'),\n",
              " Text(235.25921299188008, 88.95272727272729, 'X[4] <= 0.228\\ngini = 0.5\\nsamples = 8\\nvalue = [4, 4]'),\n",
              " Text(234.42273579013116, 69.18545454545455, 'gini = 0.0\\nsamples = 3\\nvalue = [3, 0]'),\n",
              " Text(236.095690193629, 69.18545454545455, 'X[4] <= 0.712\\ngini = 0.32\\nsamples = 5\\nvalue = [1, 4]'),\n",
              " Text(235.25921299188008, 49.418181818181836, 'gini = 0.0\\nsamples = 4\\nvalue = [0, 4]'),\n",
              " Text(236.9321673953779, 49.418181818181836, 'gini = 0.0\\nsamples = 1\\nvalue = [1, 0]'),\n",
              " Text(246.2902560899438, 128.48727272727274, 'X[1] <= 2.308\\ngini = 0.479\\nsamples = 158\\nvalue = [95, 63]'),\n",
              " Text(242.89206745783886, 108.72, 'X[4] <= 0.012\\ngini = 0.472\\nsamples = 152\\nvalue = [94, 58]'),\n",
              " Text(238.6051217988757, 88.95272727272729, 'X[3] <= 0.238\\ngini = 0.32\\nsamples = 5\\nvalue = [1, 4]'),\n",
              " Text(237.7686445971268, 69.18545454545455, 'gini = 0.0\\nsamples = 3\\nvalue = [0, 3]'),\n",
              " Text(239.44159900062462, 69.18545454545455, 'X[0] <= 0.13\\ngini = 0.5\\nsamples = 2\\nvalue = [1, 1]'),\n",
              " Text(238.6051217988757, 49.418181818181836, 'gini = 0.0\\nsamples = 1\\nvalue = [0, 1]'),\n",
              " Text(240.2780762023735, 49.418181818181836, 'gini = 0.0\\nsamples = 1\\nvalue = [1, 0]'),\n",
              " Text(247.179013116802, 88.95272727272729, 'X[1] <= 0.135\\ngini = 0.465\\nsamples = 147\\nvalue = [93, 54]'),\n",
              " Text(243.62398500936914, 69.18545454545455, 'X[4] <= 0.018\\ngini = 0.255\\nsamples = 20\\nvalue = [17, 3]'),\n",
              " Text(241.95103060587132, 49.418181818181836, 'X[2] <= 0.059\\ngini = 0.444\\nsamples = 3\\nvalue = [1, 2]'),\n",
              " Text(241.11455340412243, 29.650909090909096, 'gini = 0.0\\nsamples = 2\\nvalue = [0, 2]'),\n",
              " Text(242.78750780762024, 29.650909090909096, 'gini = 0.0\\nsamples = 1\\nvalue = [1, 0]'),\n",
              " Text(245.29693941286695, 49.418181818181836, 'X[4] <= 0.16\\ngini = 0.111\\nsamples = 17\\nvalue = [16, 1]'),\n",
              " Text(244.46046221111806, 29.650909090909096, 'gini = 0.0\\nsamples = 16\\nvalue = [16, 0]'),\n",
              " Text(246.13341661461587, 29.650909090909096, 'gini = 0.0\\nsamples = 1\\nvalue = [0, 1]'),\n",
              " Text(250.73404122423486, 69.18545454545455, 'X[1] <= 0.205\\ngini = 0.481\\nsamples = 127\\nvalue = [76, 51]'),\n",
              " Text(248.6428482198626, 49.418181818181836, 'X[4] <= 0.128\\ngini = 0.391\\nsamples = 15\\nvalue = [4, 11]'),\n",
              " Text(247.80637101811368, 29.650909090909096, 'X[3] <= 0.121\\ngini = 0.26\\nsamples = 13\\nvalue = [2, 11]'),\n",
              " Text(246.9698938163648, 9.883636363636384, 'gini = 0.0\\nsamples = 1\\nvalue = [1, 0]'),\n",
              " Text(248.6428482198626, 9.883636363636384, 'gini = 0.153\\nsamples = 12\\nvalue = [1, 11]'),\n",
              " Text(249.4793254216115, 29.650909090909096, 'gini = 0.0\\nsamples = 2\\nvalue = [2, 0]'),\n",
              " Text(252.82523422860712, 49.418181818181836, 'X[4] <= 0.048\\ngini = 0.459\\nsamples = 112\\nvalue = [72, 40]'),\n",
              " Text(251.1522798251093, 29.650909090909096, 'X[3] <= 0.278\\ngini = 0.365\\nsamples = 50\\nvalue = [38, 12]'),\n",
              " Text(250.3158026233604, 9.883636363636384, 'gini = 0.287\\nsamples = 46\\nvalue = [38, 8]'),\n",
              " Text(251.98875702685822, 9.883636363636384, 'gini = 0.0\\nsamples = 4\\nvalue = [0, 4]'),\n",
              " Text(254.49818863210493, 29.650909090909096, 'X[4] <= 0.066\\ngini = 0.495\\nsamples = 62\\nvalue = [34, 28]'),\n",
              " Text(253.66171143035604, 9.883636363636384, 'gini = 0.465\\nsamples = 19\\nvalue = [7, 12]'),\n",
              " Text(255.33466583385385, 9.883636363636384, 'gini = 0.467\\nsamples = 43\\nvalue = [27, 16]'),\n",
              " Text(249.68844472204873, 108.72, 'X[2] <= 0.045\\ngini = 0.278\\nsamples = 6\\nvalue = [1, 5]'),\n",
              " Text(248.8519675202998, 88.95272727272729, 'gini = 0.0\\nsamples = 1\\nvalue = [1, 0]'),\n",
              " Text(250.52492192379762, 88.95272727272729, 'gini = 0.0\\nsamples = 5\\nvalue = [0, 5]'),\n",
              " Text(295.66855090568396, 148.25454545454545, 'X[4] <= 0.025\\ngini = 0.412\\nsamples = 762\\nvalue = [541, 221]'),\n",
              " Text(271.1231730168645, 128.48727272727274, 'X[4] <= 0.011\\ngini = 0.352\\nsamples = 272\\nvalue = [210, 62]'),\n",
              " Text(264.3267957526546, 108.72, 'X[2] <= 0.175\\ngini = 0.49\\nsamples = 35\\nvalue = [20, 15]'),\n",
              " Text(261.60824484697065, 88.95272727272729, 'X[2] <= 0.097\\ngini = 0.493\\nsamples = 25\\nvalue = [11, 14]'),\n",
              " Text(258.68057464084944, 69.18545454545455, 'X[4] <= 0.011\\ngini = 0.426\\nsamples = 13\\nvalue = [9, 4]'),\n",
              " Text(257.00762023735166, 49.418181818181836, 'X[4] <= 0.01\\ngini = 0.219\\nsamples = 8\\nvalue = [7, 1]'),\n",
              " Text(256.17114303560277, 29.650909090909096, 'gini = 0.0\\nsamples = 1\\nvalue = [0, 1]'),\n",
              " Text(257.84409743910055, 29.650909090909096, 'gini = 0.0\\nsamples = 7\\nvalue = [7, 0]'),\n",
              " Text(260.3535290443473, 49.418181818181836, 'X[1] <= 0.327\\ngini = 0.48\\nsamples = 5\\nvalue = [2, 3]'),\n",
              " Text(259.5170518425984, 29.650909090909096, 'gini = 0.0\\nsamples = 2\\nvalue = [2, 0]'),\n",
              " Text(261.1900062460962, 29.650909090909096, 'gini = 0.0\\nsamples = 3\\nvalue = [0, 3]'),\n",
              " Text(264.5359150530918, 69.18545454545455, 'X[4] <= 0.01\\ngini = 0.278\\nsamples = 12\\nvalue = [2, 10]'),\n",
              " Text(263.6994378513429, 49.418181818181836, 'X[1] <= 1.307\\ngini = 0.444\\nsamples = 3\\nvalue = [2, 1]'),\n",
              " Text(262.862960649594, 29.650909090909096, 'gini = 0.0\\nsamples = 2\\nvalue = [2, 0]'),\n",
              " Text(264.5359150530918, 29.650909090909096, 'gini = 0.0\\nsamples = 1\\nvalue = [0, 1]'),\n",
              " Text(265.37239225484075, 49.418181818181836, 'gini = 0.0\\nsamples = 9\\nvalue = [0, 9]'),\n",
              " Text(267.04534665833853, 88.95272727272729, 'X[4] <= 0.01\\ngini = 0.18\\nsamples = 10\\nvalue = [9, 1]'),\n",
              " Text(266.20886945658964, 69.18545454545455, 'gini = 0.0\\nsamples = 1\\nvalue = [0, 1]'),\n",
              " Text(267.8818238600874, 69.18545454545455, 'gini = 0.0\\nsamples = 9\\nvalue = [9, 0]'),\n",
              " Text(277.91955028107435, 108.72, 'X[1] <= 0.733\\ngini = 0.318\\nsamples = 237\\nvalue = [190, 47]'),\n",
              " Text(272.064209868832, 88.95272727272729, 'X[2] <= 0.474\\ngini = 0.358\\nsamples = 150\\nvalue = [115, 35]'),\n",
              " Text(271.2277326670831, 69.18545454545455, 'X[1] <= 0.561\\ngini = 0.347\\nsamples = 148\\nvalue = [115, 33]'),\n",
              " Text(267.8818238600874, 49.418181818181836, 'X[4] <= 0.017\\ngini = 0.301\\nsamples = 119\\nvalue = [97, 22]'),\n",
              " Text(266.20886945658964, 29.650909090909096, 'X[3] <= 1.094\\ngini = 0.142\\nsamples = 52\\nvalue = [48, 4]'),\n",
              " Text(265.37239225484075, 9.883636363636384, 'gini = 0.045\\nsamples = 43\\nvalue = [42, 1]'),\n",
              " Text(267.04534665833853, 9.883636363636384, 'gini = 0.444\\nsamples = 9\\nvalue = [6, 3]'),\n",
              " Text(269.55477826358526, 29.650909090909096, 'X[3] <= 0.959\\ngini = 0.393\\nsamples = 67\\nvalue = [49, 18]'),\n",
              " Text(268.71830106183637, 9.883636363636384, 'gini = 0.449\\nsamples = 50\\nvalue = [33, 17]'),\n",
              " Text(270.39125546533415, 9.883636363636384, 'gini = 0.111\\nsamples = 17\\nvalue = [16, 1]'),\n",
              " Text(274.5736414740787, 49.418181818181836, 'X[1] <= 0.594\\ngini = 0.471\\nsamples = 29\\nvalue = [18, 11]'),\n",
              " Text(272.9006870705809, 29.650909090909096, 'X[1] <= 0.587\\ngini = 0.32\\nsamples = 5\\nvalue = [1, 4]'),\n",
              " Text(272.064209868832, 9.883636363636384, 'gini = 0.5\\nsamples = 2\\nvalue = [1, 1]'),\n",
              " Text(273.7371642723298, 9.883636363636384, 'gini = 0.0\\nsamples = 3\\nvalue = [0, 3]'),\n",
              " Text(276.2465958775765, 29.650909090909096, 'X[4] <= 0.023\\ngini = 0.413\\nsamples = 24\\nvalue = [17, 7]'),\n",
              " Text(275.4101186758276, 9.883636363636384, 'gini = 0.475\\nsamples = 18\\nvalue = [11, 7]'),\n",
              " Text(277.0830730793254, 9.883636363636384, 'gini = 0.0\\nsamples = 6\\nvalue = [6, 0]'),\n",
              " Text(272.9006870705809, 69.18545454545455, 'gini = 0.0\\nsamples = 2\\nvalue = [0, 2]'),\n",
              " Text(283.7748906933167, 88.95272727272729, 'X[0] <= 0.167\\ngini = 0.238\\nsamples = 87\\nvalue = [75, 12]'),\n",
              " Text(280.428981886321, 69.18545454545455, 'X[4] <= 0.013\\ngini = 0.486\\nsamples = 12\\nvalue = [7, 5]'),\n",
              " Text(279.59250468457213, 49.418181818181836, 'gini = 0.0\\nsamples = 2\\nvalue = [0, 2]'),\n",
              " Text(281.26545908807, 49.418181818181836, 'X[3] <= 1.083\\ngini = 0.42\\nsamples = 10\\nvalue = [7, 3]'),\n",
              " Text(279.59250468457213, 29.650909090909096, 'X[0] <= 0.056\\ngini = 0.245\\nsamples = 7\\nvalue = [6, 1]'),\n",
              " Text(278.75602748282324, 9.883636363636384, 'gini = 0.5\\nsamples = 2\\nvalue = [1, 1]'),\n",
              " Text(280.428981886321, 9.883636363636384, 'gini = 0.0\\nsamples = 5\\nvalue = [5, 0]'),\n",
              " Text(282.93841349156776, 29.650909090909096, 'X[3] <= 1.359\\ngini = 0.444\\nsamples = 3\\nvalue = [1, 2]'),\n",
              " Text(282.10193628981887, 9.883636363636384, 'gini = 0.0\\nsamples = 2\\nvalue = [0, 2]'),\n",
              " Text(283.7748906933167, 9.883636363636384, 'gini = 0.0\\nsamples = 1\\nvalue = [1, 0]'),\n",
              " Text(287.12079950031233, 69.18545454545455, 'X[3] <= 0.298\\ngini = 0.169\\nsamples = 75\\nvalue = [68, 7]'),\n",
              " Text(286.2843222985634, 49.418181818181836, 'gini = 0.0\\nsamples = 1\\nvalue = [0, 1]'),\n",
              " Text(287.9572767020612, 49.418181818181836, 'X[1] <= 2.58\\ngini = 0.149\\nsamples = 74\\nvalue = [68, 6]'),\n",
              " Text(286.2843222985634, 29.650909090909096, 'X[0] <= 0.685\\ngini = 0.067\\nsamples = 58\\nvalue = [56, 2]'),\n",
              " Text(285.4478450968145, 9.883636363636384, 'gini = 0.036\\nsamples = 54\\nvalue = [53, 1]'),\n",
              " Text(287.12079950031233, 9.883636363636384, 'gini = 0.375\\nsamples = 4\\nvalue = [3, 1]'),\n",
              " Text(289.630231105559, 29.650909090909096, 'X[0] <= 0.426\\ngini = 0.375\\nsamples = 16\\nvalue = [12, 4]'),\n",
              " Text(288.7937539038101, 9.883636363636384, 'gini = 0.444\\nsamples = 6\\nvalue = [2, 4]'),\n",
              " Text(290.46670830730795, 9.883636363636384, 'gini = 0.0\\nsamples = 10\\nvalue = [10, 0]'),\n",
              " Text(320.21392879450343, 128.48727272727274, 'X[2] <= 0.315\\ngini = 0.438\\nsamples = 490\\nvalue = [331, 159]'),\n",
              " Text(310.6467207995003, 108.72, 'X[2] <= 0.073\\ngini = 0.433\\nsamples = 480\\nvalue = [328, 152]'),\n",
              " Text(299.8770768269831, 88.95272727272729, 'X[4] <= 0.112\\ngini = 0.468\\nsamples = 204\\nvalue = [128, 76]'),\n",
              " Text(295.90381011867584, 69.18545454545455, 'X[1] <= 1.078\\ngini = 0.431\\nsamples = 153\\nvalue = [105, 48]'),\n",
              " Text(293.8126171143036, 49.418181818181836, 'X[3] <= 0.745\\ngini = 0.392\\nsamples = 131\\nvalue = [96, 35]'),\n",
              " Text(292.97613991255463, 29.650909090909096, 'X[4] <= 0.09\\ngini = 0.413\\nsamples = 120\\nvalue = [85, 35]'),\n",
              " Text(292.13966271080574, 9.883636363636384, 'gini = 0.436\\nsamples = 106\\nvalue = [72, 34]'),\n",
              " Text(293.8126171143036, 9.883636363636384, 'gini = 0.133\\nsamples = 14\\nvalue = [13, 1]'),\n",
              " Text(294.64909431605247, 29.650909090909096, 'gini = 0.0\\nsamples = 11\\nvalue = [11, 0]'),\n",
              " Text(297.9950031230481, 49.418181818181836, 'X[2] <= 0.055\\ngini = 0.483\\nsamples = 22\\nvalue = [9, 13]'),\n",
              " Text(296.3220487195503, 29.650909090909096, 'X[1] <= 1.61\\ngini = 0.444\\nsamples = 9\\nvalue = [6, 3]'),\n",
              " Text(295.48557151780136, 9.883636363636384, 'gini = 0.0\\nsamples = 3\\nvalue = [0, 3]'),\n",
              " Text(297.1585259212992, 9.883636363636384, 'gini = 0.0\\nsamples = 6\\nvalue = [6, 0]'),\n",
              " Text(299.66795752654593, 29.650909090909096, 'X[1] <= 1.741\\ngini = 0.355\\nsamples = 13\\nvalue = [3, 10]'),\n",
              " Text(298.831480324797, 9.883636363636384, 'gini = 0.5\\nsamples = 6\\nvalue = [3, 3]'),\n",
              " Text(300.5044347282948, 9.883636363636384, 'gini = 0.0\\nsamples = 7\\nvalue = [0, 7]'),\n",
              " Text(303.85034353529045, 69.18545454545455, 'X[3] <= 0.304\\ngini = 0.495\\nsamples = 51\\nvalue = [23, 28]'),\n",
              " Text(303.01386633354156, 49.418181818181836, 'gini = 0.0\\nsamples = 3\\nvalue = [3, 0]'),\n",
              " Text(304.68682073703934, 49.418181818181836, 'X[4] <= 0.129\\ngini = 0.486\\nsamples = 48\\nvalue = [20, 28]'),\n",
              " Text(303.01386633354156, 29.650909090909096, 'X[1] <= 0.275\\ngini = 0.278\\nsamples = 12\\nvalue = [2, 10]'),\n",
              " Text(302.1773891317926, 9.883636363636384, 'gini = 0.444\\nsamples = 6\\nvalue = [2, 4]'),\n",
              " Text(303.85034353529045, 9.883636363636384, 'gini = 0.0\\nsamples = 6\\nvalue = [0, 6]'),\n",
              " Text(306.3597751405372, 29.650909090909096, 'X[0] <= 0.241\\ngini = 0.5\\nsamples = 36\\nvalue = [18, 18]'),\n",
              " Text(305.52329793878823, 9.883636363636384, 'gini = 0.492\\nsamples = 32\\nvalue = [14, 18]'),\n",
              " Text(307.1962523422861, 9.883636363636384, 'gini = 0.0\\nsamples = 4\\nvalue = [4, 0]'),\n",
              " Text(321.4163647720175, 88.95272727272729, 'X[0] <= 0.093\\ngini = 0.399\\nsamples = 276\\nvalue = [200, 76]'),\n",
              " Text(314.7245471580262, 69.18545454545455, 'X[3] <= 0.53\\ngini = 0.478\\nsamples = 71\\nvalue = [43, 28]'),\n",
              " Text(311.3786383510306, 49.418181818181836, 'X[1] <= 0.16\\ngini = 0.293\\nsamples = 28\\nvalue = [23, 5]'),\n",
              " Text(309.7056839475328, 29.650909090909096, 'X[2] <= 0.145\\ngini = 0.165\\nsamples = 22\\nvalue = [20, 2]'),\n",
              " Text(308.8692067457839, 9.883636363636384, 'gini = 0.1\\nsamples = 19\\nvalue = [18, 1]'),\n",
              " Text(310.5421611492817, 9.883636363636384, 'gini = 0.444\\nsamples = 3\\nvalue = [2, 1]'),\n",
              " Text(313.05159275452843, 29.650909090909096, 'X[2] <= 0.091\\ngini = 0.5\\nsamples = 6\\nvalue = [3, 3]'),\n",
              " Text(312.21511555277954, 9.883636363636384, 'gini = 0.375\\nsamples = 4\\nvalue = [3, 1]'),\n",
              " Text(313.8880699562773, 9.883636363636384, 'gini = 0.0\\nsamples = 2\\nvalue = [0, 2]'),\n",
              " Text(318.07045596502184, 49.418181818181836, 'X[2] <= 0.101\\ngini = 0.498\\nsamples = 43\\nvalue = [20, 23]'),\n",
              " Text(316.39750156152405, 29.650909090909096, 'X[2] <= 0.075\\ngini = 0.337\\nsamples = 14\\nvalue = [3, 11]'),\n",
              " Text(315.56102435977516, 9.883636363636384, 'gini = 0.0\\nsamples = 2\\nvalue = [2, 0]'),\n",
              " Text(317.23397876327294, 9.883636363636384, 'gini = 0.153\\nsamples = 12\\nvalue = [1, 11]'),\n",
              " Text(319.7434103685197, 29.650909090909096, 'X[4] <= 0.071\\ngini = 0.485\\nsamples = 29\\nvalue = [17, 12]'),\n",
              " Text(318.9069331667708, 9.883636363636384, 'gini = 0.444\\nsamples = 15\\nvalue = [5, 10]'),\n",
              " Text(320.57988757026857, 9.883636363636384, 'gini = 0.245\\nsamples = 14\\nvalue = [12, 2]'),\n",
              " Text(328.10818238600876, 69.18545454545455, 'X[4] <= 0.049\\ngini = 0.359\\nsamples = 205\\nvalue = [157, 48]'),\n",
              " Text(324.76227357901314, 49.418181818181836, 'X[3] <= 1.023\\ngini = 0.422\\nsamples = 99\\nvalue = [69, 30]'),\n",
              " Text(323.0893191755153, 29.650909090909096, 'X[4] <= 0.048\\ngini = 0.351\\nsamples = 75\\nvalue = [58, 17]'),\n",
              " Text(322.2528419737664, 9.883636363636384, 'gini = 0.327\\nsamples = 73\\nvalue = [58, 15]'),\n",
              " Text(323.9257963772642, 9.883636363636384, 'gini = 0.0\\nsamples = 2\\nvalue = [0, 2]'),\n",
              " Text(326.4352279825109, 29.650909090909096, 'X[3] <= 1.513\\ngini = 0.497\\nsamples = 24\\nvalue = [11, 13]'),\n",
              " Text(325.59875078076203, 9.883636363636384, 'gini = 0.391\\nsamples = 15\\nvalue = [4, 11]'),\n",
              " Text(327.2717051842598, 9.883636363636384, 'gini = 0.346\\nsamples = 9\\nvalue = [7, 2]'),\n",
              " Text(331.4540911930044, 49.418181818181836, 'X[4] <= 0.197\\ngini = 0.282\\nsamples = 106\\nvalue = [88, 18]'),\n",
              " Text(329.78113678950655, 29.650909090909096, 'X[3] <= 0.319\\ngini = 0.215\\nsamples = 90\\nvalue = [79, 11]'),\n",
              " Text(328.94465958775766, 9.883636363636384, 'gini = 0.444\\nsamples = 3\\nvalue = [1, 2]'),\n",
              " Text(330.6176139912555, 9.883636363636384, 'gini = 0.185\\nsamples = 87\\nvalue = [78, 9]'),\n",
              " Text(333.12704559650217, 29.650909090909096, 'X[3] <= 0.419\\ngini = 0.492\\nsamples = 16\\nvalue = [9, 7]'),\n",
              " Text(332.2905683947533, 9.883636363636384, 'gini = 0.0\\nsamples = 2\\nvalue = [0, 2]'),\n",
              " Text(333.9635227982511, 9.883636363636384, 'gini = 0.459\\nsamples = 14\\nvalue = [9, 5]'),\n",
              " Text(329.78113678950655, 108.72, 'X[3] <= 1.608\\ngini = 0.42\\nsamples = 10\\nvalue = [3, 7]'),\n",
              " Text(328.94465958775766, 88.95272727272729, 'gini = 0.0\\nsamples = 4\\nvalue = [0, 4]'),\n",
              " Text(330.6176139912555, 88.95272727272729, 'X[1] <= 1.403\\ngini = 0.5\\nsamples = 6\\nvalue = [3, 3]'),\n",
              " Text(329.78113678950655, 69.18545454545455, 'gini = 0.0\\nsamples = 3\\nvalue = [3, 0]'),\n",
              " Text(331.4540911930044, 69.18545454545455, 'gini = 0.0\\nsamples = 3\\nvalue = [0, 3]')]"
            ]
          },
          "metadata": {},
          "execution_count": 44
        },
        {
          "output_type": "display_data",
          "data": {
            "image/png": "[encoded data removed]",
            "text/plain": [
              "<Figure size 432x288 with 1 Axes>"
            ]
          },
          "metadata": {
            "needs_background": "light"
          }
        }
      ]
    },
    {
      "cell_type": "markdown",
      "source": [
        "We use Bagging Ensemble Decision Tree Classifier with 1000 bootstrapped samples and each tree trained with 500 trees to model the dataset which will lead to reduction in variance and to increase the accuracy."
      ],
      "metadata": {
        "id": "4BdZWxy9XPz3"
      }
    },
    {
      "cell_type": "code",
      "source": [
        "from sklearn.ensemble import BaggingClassifier\n",
        "from sklearn.tree import DecisionTreeClassifier, plot_tree\n",
        "\n",
        "bag = BaggingClassifier(\n",
        "    DecisionTreeClassifier(random_state = 2), n_estimators = 500,\n",
        "    max_samples = 1000, bootstrap=True, random_state = 69)\n",
        "bag.fit(X_train1, y_train1.ravel())\n",
        "y_preddt = bag.predict(X_test1)"
      ],
      "metadata": {
        "id": "zAfOWOXQcRD3"
      },
      "execution_count": null,
      "outputs": []
    },
    {
      "cell_type": "code",
      "source": [
        "print(accuracy_score(y_test1, y_preddt))"
      ],
      "metadata": {
        "colab": {
          "base_uri": "https://localhost:8080/"
        },
        "id": "S8QgCSjCkucE",
        "outputId": "adaaed53-7125-433b-d6e9-ef3ea689e2be"
      },
      "execution_count": null,
      "outputs": [
        {
          "output_type": "stream",
          "name": "stdout",
          "text": [
            "0.8627514600908501\n"
          ]
        }
      ]
    },
    {
      "cell_type": "markdown",
      "source": [
        "###Result analysis and Discussion"
      ],
      "metadata": {
        "id": "LYjhlrqpFOex"
      }
    },
    {
      "cell_type": "code",
      "source": [
        "from sklearn import metrics\n",
        "from sklearn.metrics import accuracy_score\n",
        "from sklearn.metrics import f1_score\n",
        "from sklearn.metrics import precision_score\n",
        "\n",
        "#Accuracy, precision and recall score of Logisitic Regression Model\n",
        "LRA = (accuracy_score(y_test1, pred))\n",
        "LRF1 = (metrics.f1_score(y_test1, pred, average='weighted', labels=np.unique(pred)))\n",
        "print(\"The accuracy of the Logistic Regression model is :{} and the f1 score of the Logistic Regression Model is :{}\".format(LRA, LRF1))\n",
        "\n",
        "#Accuracy, precision and recall score of Decision Tree Model\n",
        "DTA = ((accuracy_score(y_test1, y_preddt)))\n",
        "DTF1 = (metrics.f1_score(y_test1, y_preddt, average='weighted', labels=np.unique(y_preddt)))\n",
        "print(\"The accuracy of the Decision Tree model is :{} and the f1 score of the Decision Tree Model is :{}\".format(DTA, DTF1))"
      ],
      "metadata": {
        "id": "vuvTV1E3FSEz",
        "colab": {
          "base_uri": "https://localhost:8080/"
        },
        "outputId": "cf05cdac-04d4-4432-c11d-274f32212943"
      },
      "execution_count": null,
      "outputs": [
        {
          "output_type": "stream",
          "name": "stdout",
          "text": [
            "The accuracy of the Logistic Regression model is :0.844905905256327 and the f1 score of the Logistic Regression Model is :0.7869827450112964\n",
            "The accuracy of the Decision Tree model is :0.8627514600908501 and the f1 score of the Decision Tree Model is :0.8390262292781888\n"
          ]
        }
      ]
    },
    {
      "cell_type": "markdown",
      "source": [
        "So far for every model in our notebook, we're only checking the accuracy of the models. But accuracy is not the only metric that can be used to check the performance of a model. In the results section above we also use F1 score with the average attribute set to weighted this is because the dataset we're using is imbalanced and setting the average attribute to weighted gives us the importance of the samples that are 'True' i.e, the samples that generated Revenue to the site, so a good f1 score implies a good model performance. And from this we can conclude that the model has good performance and is able to predict ~80% of the data correctly."
      ],
      "metadata": {
        "id": "Y9OW7vZRASkM"
      }
    }
  ]
}
